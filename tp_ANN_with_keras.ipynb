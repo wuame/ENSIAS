{
  "nbformat": 4,
  "nbformat_minor": 0,
  "metadata": {
    "kernelspec": {
      "display_name": "Python 3",
      "language": "python",
      "name": "python3"
    },
    "language_info": {
      "codemirror_mode": {
        "name": "ipython",
        "version": 3
      },
      "file_extension": ".py",
      "mimetype": "text/x-python",
      "name": "python",
      "nbconvert_exporter": "python",
      "pygments_lexer": "ipython3",
      "version": "3.6.1"
    },
    "nav_menu": {
      "height": "264px",
      "width": "369px"
    },
    "toc": {
      "navigate_menu": true,
      "number_sections": true,
      "sideBar": true,
      "threshold": 6,
      "toc_cell": false,
      "toc_section_display": "block",
      "toc_window_display": false
    },
    "colab": {
      "name": "Copie de ANN_with_keras.ipynb",
      "provenance": [],
      "include_colab_link": true
    }
  },
  "cells": [
    {
      "cell_type": "markdown",
      "metadata": {
        "id": "view-in-github",
        "colab_type": "text"
      },
      "source": [
        "<a href=\"https://colab.research.google.com/github/wuame/ENSIAS/blob/master/tp_ANN_with_keras.ipynb\" target=\"_parent\"><img src=\"https://colab.research.google.com/assets/colab-badge.svg\" alt=\"Open In Colab\"/></a>"
      ]
    },
    {
      "cell_type": "markdown",
      "metadata": {
        "id": "LLeJyIGv6xLX"
      },
      "source": [
        "# Artificial Neural Networks with Keras"
      ]
    },
    {
      "cell_type": "markdown",
      "metadata": {
        "id": "Ig_NSnAn6xL5"
      },
      "source": [
        "<table align=\"left\">\n",
        "  <td>\n",
        "    <a target=\"_blank\" href=\"https://colab.research.google.com/github/AbdelMahm/INPT-2020/blob/master/Notebooks_DL/ANN_with_keras.ipynb\"><img src=\"https://colab.research.google.com/img/colab_favicon_256px.png\" />Run in Google Colab</a>\n",
        "  </td>\n",
        "</table>"
      ]
    },
    {
      "cell_type": "markdown",
      "metadata": {
        "id": "nw9RPl5d6xMV"
      },
      "source": [
        "# Setup"
      ]
    },
    {
      "cell_type": "code",
      "metadata": {
        "id": "o62TbULk6xMX"
      },
      "source": [
        "#Firstly, let's import a few common modules, ensure MatplotLib plots figures inline and prepare a function to save the figures. We also check that Python 3.5 or later is installed (although Python 2.x may work, it is deprecated so we strongly recommend you use Python 3 instead), as well as Scikit-Learn ≥0.20 and TensorFlow ≥2.0."
      ],
      "execution_count": 157,
      "outputs": []
    },
    {
      "cell_type": "code",
      "metadata": {
        "id": "lOCP51Cx6xM8"
      },
      "source": [
        "# TensorFlow ≥2.0 is required\n",
        "import tensorflow as tf\n",
        "\n",
        "# Common imports\n",
        "import numpy as np\n",
        "import os\n",
        "\n",
        "# to make this notebook's output stable across runs\n",
        "np.random.seed(42)\n",
        "\n",
        "# To plot pretty figures\n",
        "%matplotlib inline\n",
        "import matplotlib as mpl\n",
        "import matplotlib.pyplot as plt\n",
        "mpl.rc('axes', labelsize=14)\n",
        "mpl.rc('xtick', labelsize=12)\n",
        "mpl.rc('ytick', labelsize=12)\n",
        "\n",
        "# Ignore useless warnings (see SciPy issue #5998)\n",
        "import warnings\n",
        "warnings.filterwarnings(action=\"ignore\", message=\"^internal gelsd\")"
      ],
      "execution_count": 1,
      "outputs": []
    },
    {
      "cell_type": "markdown",
      "metadata": {
        "id": "d4oZ5f4y6xNq"
      },
      "source": [
        "# Building an Image Classifier"
      ]
    },
    {
      "cell_type": "markdown",
      "metadata": {
        "id": "Id_hsuh16xNs"
      },
      "source": [
        "First let's import TensorFlow and Keras."
      ]
    },
    {
      "cell_type": "code",
      "metadata": {
        "id": "4Hhmgsyw6xNu"
      },
      "source": [
        "import tensorflow as tf\n",
        "from tensorflow import keras"
      ],
      "execution_count": 2,
      "outputs": []
    },
    {
      "cell_type": "code",
      "metadata": {
        "id": "nYf08S_B6xN5",
        "colab": {
          "base_uri": "https://localhost:8080/",
          "height": 35
        },
        "outputId": "6ecd22a4-0d4f-42f2-b78e-9f20b3420b18"
      },
      "source": [
        "tf.__version__"
      ],
      "execution_count": 3,
      "outputs": [
        {
          "output_type": "execute_result",
          "data": {
            "application/vnd.google.colaboratory.intrinsic+json": {
              "type": "string"
            },
            "text/plain": [
              "'2.3.0'"
            ]
          },
          "metadata": {
            "tags": []
          },
          "execution_count": 3
        }
      ]
    },
    {
      "cell_type": "markdown",
      "metadata": {
        "id": "OkYsB7o-6xOG"
      },
      "source": [
        "Let's start by loading the fashion MNIST dataset. Keras has a number of functions to load popular datasets in `keras.datasets`. The dataset is already split for you between a training set and a test set, but it can be useful to split the training set further to have a validation set:"
      ]
    },
    {
      "cell_type": "code",
      "metadata": {
        "id": "hoiVG_AI6xOL"
      },
      "source": [
        "fashion_mnist = keras.datasets.fashion_mnist\n",
        "(X_train_full, y_train_full), (X_test, y_test) = fashion_mnist.load_data()"
      ],
      "execution_count": 158,
      "outputs": []
    },
    {
      "cell_type": "markdown",
      "metadata": {
        "id": "lh2qASRC6xOT"
      },
      "source": [
        "The training set contains 60,000 grayscale images, each 28x28 pixels:"
      ]
    },
    {
      "cell_type": "code",
      "metadata": {
        "id": "ytTnEEqI6xOU",
        "colab": {
          "base_uri": "https://localhost:8080/"
        },
        "outputId": "d51c66b3-3d5c-4ece-e4e6-ce978da59829"
      },
      "source": [
        "X_train_full.shape"
      ],
      "execution_count": 159,
      "outputs": [
        {
          "output_type": "execute_result",
          "data": {
            "text/plain": [
              "(60000, 28, 28)"
            ]
          },
          "metadata": {
            "tags": []
          },
          "execution_count": 159
        }
      ]
    },
    {
      "cell_type": "markdown",
      "metadata": {
        "id": "8-Q59CsB6xOd"
      },
      "source": [
        "Each pixel intensity is represented as a byte (0 to 255):"
      ]
    },
    {
      "cell_type": "code",
      "metadata": {
        "id": "f9BXdaLR6xOf",
        "colab": {
          "base_uri": "https://localhost:8080/"
        },
        "outputId": "25ee6281-363c-463e-9559-99702c2ee0e6"
      },
      "source": [
        "X_train_full.dtype"
      ],
      "execution_count": 160,
      "outputs": [
        {
          "output_type": "execute_result",
          "data": {
            "text/plain": [
              "dtype('uint8')"
            ]
          },
          "metadata": {
            "tags": []
          },
          "execution_count": 160
        }
      ]
    },
    {
      "cell_type": "markdown",
      "metadata": {
        "id": "6U9S4SwM6xOk"
      },
      "source": [
        "Let's split the full training set into a validation set and a (smaller) training set. We also scale the pixel intensities down to the 0-1 range and convert them to floats, by dividing by 255."
      ]
    },
    {
      "cell_type": "code",
      "metadata": {
        "id": "G97Ni6J46xOl"
      },
      "source": [
        "X_valid, X_train = X_train_full[:5000] / 255., X_train_full[5000:] / 255.\n",
        "y_valid, y_train = y_train_full[:5000], y_train_full[5000:]\n",
        "X_test = X_test / 255."
      ],
      "execution_count": 161,
      "outputs": []
    },
    {
      "cell_type": "markdown",
      "metadata": {
        "id": "c4I0cCFZ6xOu"
      },
      "source": [
        "You can plot an image using Matplotlib's `imshow()` function, with a `'binary'`\n",
        " color map:"
      ]
    },
    {
      "cell_type": "code",
      "metadata": {
        "id": "u7ur9W986xOv",
        "colab": {
          "base_uri": "https://localhost:8080/",
          "height": 248
        },
        "outputId": "9755c073-4e5a-4dbe-a5e7-b8c13cb135e0"
      },
      "source": [
        "plt.imshow(X_train[0], cmap=\"binary\")\n",
        "plt.axis('off')\n",
        "plt.show()"
      ],
      "execution_count": 162,
      "outputs": [
        {
          "output_type": "display_data",
          "data": {
            "image/png": "[encoded data removed]",
            "text/plain": [
              "<Figure size 432x288 with 1 Axes>"
            ]
          },
          "metadata": {
            "tags": [],
            "needs_background": "light"
          }
        }
      ]
    },
    {
      "cell_type": "markdown",
      "metadata": {
        "id": "77tr5fmc6xO1"
      },
      "source": [
        "The labels are the class IDs (represented as uint8), from 0 to 9:"
      ]
    },
    {
      "cell_type": "code",
      "metadata": {
        "id": "5Dv5rDVF6xO3",
        "colab": {
          "base_uri": "https://localhost:8080/"
        },
        "outputId": "021ae675-4336-49d4-f1f5-e4472e9c9a27"
      },
      "source": [
        "y_train"
      ],
      "execution_count": 163,
      "outputs": [
        {
          "output_type": "execute_result",
          "data": {
            "text/plain": [
              "array([4, 0, 7, ..., 3, 0, 5], dtype=uint8)"
            ]
          },
          "metadata": {
            "tags": []
          },
          "execution_count": 163
        }
      ]
    },
    {
      "cell_type": "markdown",
      "metadata": {
        "id": "PWhP34FM6xPC"
      },
      "source": [
        "Here are the corresponding class names:"
      ]
    },
    {
      "cell_type": "code",
      "metadata": {
        "id": "vmhUdKIR6xPD"
      },
      "source": [
        "class_names = [\"T-shirt/top\", \"Trouser\", \"Pullover\", \"Dress\", \"Coat\",\n",
        "               \"Sandal\", \"Shirt\", \"Sneaker\", \"Bag\", \"Ankle boot\"]"
      ],
      "execution_count": 164,
      "outputs": []
    },
    {
      "cell_type": "markdown",
      "metadata": {
        "id": "SLH4DHbz6xPT"
      },
      "source": [
        "So the first image in the training set is a coat:"
      ]
    },
    {
      "cell_type": "code",
      "metadata": {
        "id": "E7YIoirH6xPV",
        "colab": {
          "base_uri": "https://localhost:8080/",
          "height": 35
        },
        "outputId": "2432c768-3711-4dfb-d78c-cbfccdb9d31c"
      },
      "source": [
        "class_names[y_train[0]]"
      ],
      "execution_count": 166,
      "outputs": [
        {
          "output_type": "execute_result",
          "data": {
            "application/vnd.google.colaboratory.intrinsic+json": {
              "type": "string"
            },
            "text/plain": [
              "'Coat'"
            ]
          },
          "metadata": {
            "tags": []
          },
          "execution_count": 166
        }
      ]
    },
    {
      "cell_type": "markdown",
      "metadata": {
        "id": "TddoNyOo6xPe"
      },
      "source": [
        "The validation set contains 5,000 images, and the test set contains 10,000 images:"
      ]
    },
    {
      "cell_type": "code",
      "metadata": {
        "id": "uMI8MYcA6xPg",
        "colab": {
          "base_uri": "https://localhost:8080/"
        },
        "outputId": "9c28f6b6-9580-4fa3-ddf6-0a39f2e46076"
      },
      "source": [
        "X_valid.shape"
      ],
      "execution_count": 167,
      "outputs": [
        {
          "output_type": "execute_result",
          "data": {
            "text/plain": [
              "(5000, 28, 28)"
            ]
          },
          "metadata": {
            "tags": []
          },
          "execution_count": 167
        }
      ]
    },
    {
      "cell_type": "code",
      "metadata": {
        "id": "rlfEYxp46xPm",
        "colab": {
          "base_uri": "https://localhost:8080/"
        },
        "outputId": "a102d844-dea8-4f82-fbea-79889c343976"
      },
      "source": [
        "X_test.shape"
      ],
      "execution_count": 168,
      "outputs": [
        {
          "output_type": "execute_result",
          "data": {
            "text/plain": [
              "(10000, 28, 28)"
            ]
          },
          "metadata": {
            "tags": []
          },
          "execution_count": 168
        }
      ]
    },
    {
      "cell_type": "markdown",
      "metadata": {
        "id": "nnXnt9wZ6xPr"
      },
      "source": [
        "Let's take a look at a sample of the images in the dataset:"
      ]
    },
    {
      "cell_type": "code",
      "metadata": {
        "id": "IuehuG7e6xPw",
        "colab": {
          "base_uri": "https://localhost:8080/",
          "height": 308
        },
        "outputId": "f1f8997c-9d63-4a4c-cd7d-92f9c1c77f5c"
      },
      "source": [
        "n_rows = 4\n",
        "n_cols = 10\n",
        "plt.figure(figsize=(n_cols * 1.2, n_rows * 1.2))\n",
        "for row in range(n_rows):\n",
        "    for col in range(n_cols):\n",
        "        index = n_cols * row + col\n",
        "        plt.subplot(n_rows, n_cols, index + 1)\n",
        "        plt.imshow(X_train[index], cmap=\"binary\", interpolation=\"nearest\")\n",
        "        plt.axis('off')\n",
        "        plt.title(class_names[y_train[index]], fontsize=12)\n",
        "plt.subplots_adjust(wspace=0.2, hspace=0.5)\n",
        "plt.show()"
      ],
      "execution_count": 169,
      "outputs": [
        {
          "output_type": "display_data",
          "data": {
            "image/png": "[encoded data removed]",
            "text/plain": [
              "<Figure size 864x345.6 with 40 Axes>"
            ]
          },
          "metadata": {
            "tags": [],
            "needs_background": "light"
          }
        }
      ]
    },
    {
      "cell_type": "markdown",
      "metadata": {
        "id": "SfZezKht6xP5"
      },
      "source": [
        "## Construct a Model"
      ]
    },
    {
      "cell_type": "code",
      "metadata": {
        "id": "mDlyQ7dC6xP6"
      },
      "source": [
        "model = keras.models.Sequential()\n",
        "model.add(keras.layers.Flatten(input_shape=[28, 28]))\n",
        "model.add(keras.layers.Dense(300, activation=\"relu\"))\n",
        "model.add(keras.layers.Dense(100, activation=\"relu\"))\n",
        "model.add(keras.layers.Dense(10, activation=\"softmax\"))"
      ],
      "execution_count": 175,
      "outputs": []
    },
    {
      "cell_type": "code",
      "metadata": {
        "id": "NfxFZSxE6xQC"
      },
      "source": [
        "keras.backend.clear_session()\n",
        "np.random.seed(42)"
      ],
      "execution_count": 172,
      "outputs": []
    },
    {
      "cell_type": "markdown",
      "metadata": {
        "id": "ufUqlGgN6xQH"
      },
      "source": [
        "### or using the folowing method"
      ]
    },
    {
      "cell_type": "code",
      "metadata": {
        "id": "kgUkIWOW6xQH"
      },
      "source": [
        "model = keras.models.Sequential([\n",
        "    keras.layers.Flatten(input_shape=[28, 28]),\n",
        "    keras.layers.Dense(300, activation=\"relu\"),\n",
        "    keras.layers.Dense(100, activation=\"relu\"),\n",
        "    keras.layers.Dense(10, activation=\"softmax\")\n",
        "])"
      ],
      "execution_count": 173,
      "outputs": []
    },
    {
      "cell_type": "code",
      "metadata": {
        "id": "XbeDKzMe6xQQ",
        "colab": {
          "base_uri": "https://localhost:8080/"
        },
        "outputId": "1b2aa2f5-3b98-4e0e-d337-f95a7b81673c"
      },
      "source": [
        "model.layers"
      ],
      "execution_count": null,
      "outputs": [
        {
          "output_type": "execute_result",
          "data": {
            "text/plain": [
              "[<tensorflow.python.keras.layers.core.Flatten at 0x7f4418cdfcc0>,\n",
              " <tensorflow.python.keras.layers.core.Dense at 0x7f4418c392e8>,\n",
              " <tensorflow.python.keras.layers.core.Dense at 0x7f4410a62518>,\n",
              " <tensorflow.python.keras.layers.core.Dense at 0x7f4418c39ac8>]"
            ]
          },
          "metadata": {
            "tags": []
          },
          "execution_count": 59
        }
      ]
    },
    {
      "cell_type": "code",
      "metadata": {
        "id": "ZG29R3Ys6xQV",
        "colab": {
          "base_uri": "https://localhost:8080/"
        },
        "outputId": "f293c40b-1b62-457f-e53b-28b06acc6f66"
      },
      "source": [
        "model.summary()"
      ],
      "execution_count": 176,
      "outputs": [
        {
          "output_type": "stream",
          "text": [
            "Model: \"sequential_1\"\n",
            "_________________________________________________________________\n",
            "Layer (type)                 Output Shape              Param #   \n",
            "=================================================================\n",
            "flatten_1 (Flatten)          (None, 784)               0         \n",
            "_________________________________________________________________\n",
            "dense_3 (Dense)              (None, 300)               235500    \n",
            "_________________________________________________________________\n",
            "dense_4 (Dense)              (None, 100)               30100     \n",
            "_________________________________________________________________\n",
            "dense_5 (Dense)              (None, 10)                1010      \n",
            "=================================================================\n",
            "Total params: 266,610\n",
            "Trainable params: 266,610\n",
            "Non-trainable params: 0\n",
            "_________________________________________________________________\n"
          ],
          "name": "stdout"
        }
      ]
    },
    {
      "cell_type": "code",
      "metadata": {
        "id": "H8yzgUqU6xQZ"
      },
      "source": [
        "#keras.utils.plot_model(model, \"my_mnist_model.png\", show_shapes=True)"
      ],
      "execution_count": null,
      "outputs": []
    },
    {
      "cell_type": "code",
      "metadata": {
        "id": "yUCfONTl6xQj",
        "colab": {
          "base_uri": "https://localhost:8080/",
          "height": 35
        },
        "outputId": "7f17052d-8cec-4bda-b7e4-4003b670369b"
      },
      "source": [
        "hidden1 = model.layers[1]\n",
        "hidden1.name"
      ],
      "execution_count": 177,
      "outputs": [
        {
          "output_type": "execute_result",
          "data": {
            "application/vnd.google.colaboratory.intrinsic+json": {
              "type": "string"
            },
            "text/plain": [
              "'dense_3'"
            ]
          },
          "metadata": {
            "tags": []
          },
          "execution_count": 177
        }
      ]
    },
    {
      "cell_type": "code",
      "metadata": {
        "id": "4CtcZVAS6xQy",
        "colab": {
          "base_uri": "https://localhost:8080/"
        },
        "outputId": "9b20ce0a-4de0-4435-b471-92b92f60b495"
      },
      "source": [
        "model.get_layer(hidden1.name) is hidden1"
      ],
      "execution_count": 178,
      "outputs": [
        {
          "output_type": "execute_result",
          "data": {
            "text/plain": [
              "True"
            ]
          },
          "metadata": {
            "tags": []
          },
          "execution_count": 178
        }
      ]
    },
    {
      "cell_type": "code",
      "metadata": {
        "id": "itMX0vEi6xQ5"
      },
      "source": [
        "weights, biases = hidden1.get_weights()"
      ],
      "execution_count": null,
      "outputs": []
    },
    {
      "cell_type": "code",
      "metadata": {
        "id": "AqvZoONM6xQ-",
        "colab": {
          "base_uri": "https://localhost:8080/"
        },
        "outputId": "cc25ea1d-66c3-47d2-d769-50a855887beb"
      },
      "source": [
        "weights"
      ],
      "execution_count": null,
      "outputs": [
        {
          "output_type": "execute_result",
          "data": {
            "text/plain": [
              "array([[-0.01561847,  0.01209605,  0.03435539, ...,  0.06374571,\n",
              "        -0.07172661, -0.06482527],\n",
              "       [ 0.01086314, -0.03716286,  0.07362576, ...,  0.04288747,\n",
              "        -0.05227236, -0.04290539],\n",
              "       [ 0.06189211,  0.00100185, -0.03547051, ..., -0.03245765,\n",
              "         0.07175595, -0.03689477],\n",
              "       ...,\n",
              "       [-0.03211316,  0.06757252,  0.07022759, ...,  0.00790117,\n",
              "         0.00915641, -0.05930692],\n",
              "       [-0.02232986,  0.05836897, -0.05928787, ...,  0.02014921,\n",
              "        -0.01327395,  0.05234121],\n",
              "       [-0.06090333, -0.04105648, -0.05494909, ..., -0.02617657,\n",
              "        -0.07270457,  0.01442105]], dtype=float32)"
            ]
          },
          "metadata": {
            "tags": []
          },
          "execution_count": 65
        }
      ]
    },
    {
      "cell_type": "code",
      "metadata": {
        "id": "oReDDS0m6xRF",
        "colab": {
          "base_uri": "https://localhost:8080/"
        },
        "outputId": "53b029ca-29b6-4306-a457-883b21f2a1dd"
      },
      "source": [
        "weights.shape"
      ],
      "execution_count": null,
      "outputs": [
        {
          "output_type": "execute_result",
          "data": {
            "text/plain": [
              "(784, 300)"
            ]
          },
          "metadata": {
            "tags": []
          },
          "execution_count": 66
        }
      ]
    },
    {
      "cell_type": "code",
      "metadata": {
        "id": "AiAS7-am6xRK",
        "colab": {
          "base_uri": "https://localhost:8080/"
        },
        "outputId": "765d0984-11ef-469f-8b7b-11cc8d6e6f5c"
      },
      "source": [
        "biases"
      ],
      "execution_count": null,
      "outputs": [
        {
          "output_type": "execute_result",
          "data": {
            "text/plain": [
              "array([0., 0., 0., 0., 0., 0., 0., 0., 0., 0., 0., 0., 0., 0., 0., 0., 0.,\n",
              "       0., 0., 0., 0., 0., 0., 0., 0., 0., 0., 0., 0., 0., 0., 0., 0., 0.,\n",
              "       0., 0., 0., 0., 0., 0., 0., 0., 0., 0., 0., 0., 0., 0., 0., 0., 0.,\n",
              "       0., 0., 0., 0., 0., 0., 0., 0., 0., 0., 0., 0., 0., 0., 0., 0., 0.,\n",
              "       0., 0., 0., 0., 0., 0., 0., 0., 0., 0., 0., 0., 0., 0., 0., 0., 0.,\n",
              "       0., 0., 0., 0., 0., 0., 0., 0., 0., 0., 0., 0., 0., 0., 0., 0., 0.,\n",
              "       0., 0., 0., 0., 0., 0., 0., 0., 0., 0., 0., 0., 0., 0., 0., 0., 0.,\n",
              "       0., 0., 0., 0., 0., 0., 0., 0., 0., 0., 0., 0., 0., 0., 0., 0., 0.,\n",
              "       0., 0., 0., 0., 0., 0., 0., 0., 0., 0., 0., 0., 0., 0., 0., 0., 0.,\n",
              "       0., 0., 0., 0., 0., 0., 0., 0., 0., 0., 0., 0., 0., 0., 0., 0., 0.,\n",
              "       0., 0., 0., 0., 0., 0., 0., 0., 0., 0., 0., 0., 0., 0., 0., 0., 0.,\n",
              "       0., 0., 0., 0., 0., 0., 0., 0., 0., 0., 0., 0., 0., 0., 0., 0., 0.,\n",
              "       0., 0., 0., 0., 0., 0., 0., 0., 0., 0., 0., 0., 0., 0., 0., 0., 0.,\n",
              "       0., 0., 0., 0., 0., 0., 0., 0., 0., 0., 0., 0., 0., 0., 0., 0., 0.,\n",
              "       0., 0., 0., 0., 0., 0., 0., 0., 0., 0., 0., 0., 0., 0., 0., 0., 0.,\n",
              "       0., 0., 0., 0., 0., 0., 0., 0., 0., 0., 0., 0., 0., 0., 0., 0., 0.,\n",
              "       0., 0., 0., 0., 0., 0., 0., 0., 0., 0., 0., 0., 0., 0., 0., 0., 0.,\n",
              "       0., 0., 0., 0., 0., 0., 0., 0., 0., 0., 0.], dtype=float32)"
            ]
          },
          "metadata": {
            "tags": []
          },
          "execution_count": 67
        }
      ]
    },
    {
      "cell_type": "code",
      "metadata": {
        "id": "KPE9Kj-J6xRO",
        "colab": {
          "base_uri": "https://localhost:8080/"
        },
        "outputId": "1306377f-afec-4cd5-e1b8-5f33b57263cd"
      },
      "source": [
        "biases.shape"
      ],
      "execution_count": null,
      "outputs": [
        {
          "output_type": "execute_result",
          "data": {
            "text/plain": [
              "(300,)"
            ]
          },
          "metadata": {
            "tags": []
          },
          "execution_count": 68
        }
      ]
    },
    {
      "cell_type": "markdown",
      "metadata": {
        "id": "a5xVpxpJ6xRV"
      },
      "source": [
        "### Compile the Model\n",
        "Here you can chose the loss function, the optimizer, the performance metric, etc. check Keras documentation for further details."
      ]
    },
    {
      "cell_type": "code",
      "metadata": {
        "id": "VF3Pp8z_6xRW"
      },
      "source": [
        "model.compile(loss=\"sparse_categorical_crossentropy\",\n",
        "              optimizer=\"sgd\",\n",
        "              metrics=[\"accuracy\"])"
      ],
      "execution_count": 180,
      "outputs": []
    },
    {
      "cell_type": "markdown",
      "metadata": {
        "id": "o1TFGGxd6xRZ"
      },
      "source": [
        "This is equivalent to:"
      ]
    },
    {
      "cell_type": "markdown",
      "metadata": {
        "id": "vXFErZYQ6xRa"
      },
      "source": [
        "```python\n",
        "model.compile(loss=keras.losses.sparse_categorical_crossentropy,\n",
        "              optimizer=keras.optimizers.SGD(),\n",
        "              metrics=[keras.metrics.sparse_categorical_accuracy])\n",
        "```"
      ]
    },
    {
      "cell_type": "markdown",
      "metadata": {
        "id": "phdOa0dS6xRb"
      },
      "source": [
        "### Train the model\n",
        "Here you can chose how many epochs you need and the batch size."
      ]
    },
    {
      "cell_type": "code",
      "metadata": {
        "id": "CGFPG05E6xRb",
        "colab": {
          "base_uri": "https://localhost:8080/"
        },
        "outputId": "622f7529-ebcf-4b40-e9f7-6ac503a2717c"
      },
      "source": [
        "history = model.fit(X_train, y_train, batch_size=32, epochs=30,\n",
        "                    validation_data=(X_valid, y_valid))"
      ],
      "execution_count": 181,
      "outputs": [
        {
          "output_type": "stream",
          "text": [
            "Epoch 1/30\n",
            "1719/1719 [==============================] - 5s 3ms/step - loss: 0.7091 - accuracy: 0.7691 - val_loss: 0.5066 - val_accuracy: 0.8292\n",
            "Epoch 2/30\n",
            "1719/1719 [==============================] - 5s 3ms/step - loss: 0.4871 - accuracy: 0.8299 - val_loss: 0.4351 - val_accuracy: 0.8550\n",
            "Epoch 3/30\n",
            "1719/1719 [==============================] - 5s 3ms/step - loss: 0.4433 - accuracy: 0.8445 - val_loss: 0.4097 - val_accuracy: 0.8632\n",
            "Epoch 4/30\n",
            "1719/1719 [==============================] - 5s 3ms/step - loss: 0.4155 - accuracy: 0.8536 - val_loss: 0.3997 - val_accuracy: 0.8658\n",
            "Epoch 5/30\n",
            "1719/1719 [==============================] - 5s 3ms/step - loss: 0.3951 - accuracy: 0.8609 - val_loss: 0.3827 - val_accuracy: 0.8696\n",
            "Epoch 6/30\n",
            "1719/1719 [==============================] - 5s 3ms/step - loss: 0.3789 - accuracy: 0.8656 - val_loss: 0.3770 - val_accuracy: 0.8678\n",
            "Epoch 7/30\n",
            "1719/1719 [==============================] - 5s 3ms/step - loss: 0.3656 - accuracy: 0.8713 - val_loss: 0.3707 - val_accuracy: 0.8712\n",
            "Epoch 8/30\n",
            "1719/1719 [==============================] - 5s 3ms/step - loss: 0.3544 - accuracy: 0.8742 - val_loss: 0.3596 - val_accuracy: 0.8738\n",
            "Epoch 9/30\n",
            "1719/1719 [==============================] - 5s 3ms/step - loss: 0.3440 - accuracy: 0.8778 - val_loss: 0.3515 - val_accuracy: 0.8778\n",
            "Epoch 10/30\n",
            "1719/1719 [==============================] - 5s 3ms/step - loss: 0.3347 - accuracy: 0.8799 - val_loss: 0.3534 - val_accuracy: 0.8770\n",
            "Epoch 11/30\n",
            "1719/1719 [==============================] - 5s 3ms/step - loss: 0.3273 - accuracy: 0.8834 - val_loss: 0.3423 - val_accuracy: 0.8796\n",
            "Epoch 12/30\n",
            "1719/1719 [==============================] - 5s 3ms/step - loss: 0.3176 - accuracy: 0.8864 - val_loss: 0.3284 - val_accuracy: 0.8858\n",
            "Epoch 13/30\n",
            "1719/1719 [==============================] - 5s 3ms/step - loss: 0.3112 - accuracy: 0.8871 - val_loss: 0.3231 - val_accuracy: 0.8866\n",
            "Epoch 14/30\n",
            "1719/1719 [==============================] - 5s 3ms/step - loss: 0.3040 - accuracy: 0.8908 - val_loss: 0.3395 - val_accuracy: 0.8856\n",
            "Epoch 15/30\n",
            "1719/1719 [==============================] - 5s 3ms/step - loss: 0.2977 - accuracy: 0.8929 - val_loss: 0.3252 - val_accuracy: 0.8842\n",
            "Epoch 16/30\n",
            "1719/1719 [==============================] - 5s 3ms/step - loss: 0.2907 - accuracy: 0.8950 - val_loss: 0.3325 - val_accuracy: 0.8802\n",
            "Epoch 17/30\n",
            "1719/1719 [==============================] - 5s 3ms/step - loss: 0.2848 - accuracy: 0.8988 - val_loss: 0.3122 - val_accuracy: 0.8918\n",
            "Epoch 18/30\n",
            "1719/1719 [==============================] - 5s 3ms/step - loss: 0.2799 - accuracy: 0.8997 - val_loss: 0.3159 - val_accuracy: 0.8878\n",
            "Epoch 19/30\n",
            "1719/1719 [==============================] - 5s 3ms/step - loss: 0.2735 - accuracy: 0.9026 - val_loss: 0.3118 - val_accuracy: 0.8892\n",
            "Epoch 20/30\n",
            "1719/1719 [==============================] - 5s 3ms/step - loss: 0.2690 - accuracy: 0.9029 - val_loss: 0.3087 - val_accuracy: 0.8904\n",
            "Epoch 21/30\n",
            "1719/1719 [==============================] - 5s 3ms/step - loss: 0.2638 - accuracy: 0.9044 - val_loss: 0.3296 - val_accuracy: 0.8822\n",
            "Epoch 22/30\n",
            "1719/1719 [==============================] - 5s 3ms/step - loss: 0.2597 - accuracy: 0.9053 - val_loss: 0.3121 - val_accuracy: 0.8902\n",
            "Epoch 23/30\n",
            "1719/1719 [==============================] - 5s 3ms/step - loss: 0.2538 - accuracy: 0.9076 - val_loss: 0.3271 - val_accuracy: 0.8892\n",
            "Epoch 24/30\n",
            "1719/1719 [==============================] - 5s 3ms/step - loss: 0.2503 - accuracy: 0.9093 - val_loss: 0.3124 - val_accuracy: 0.8882\n",
            "Epoch 25/30\n",
            "1719/1719 [==============================] - 5s 3ms/step - loss: 0.2455 - accuracy: 0.9108 - val_loss: 0.3099 - val_accuracy: 0.8886\n",
            "Epoch 26/30\n",
            "1719/1719 [==============================] - 5s 3ms/step - loss: 0.2425 - accuracy: 0.9132 - val_loss: 0.3051 - val_accuracy: 0.8912\n",
            "Epoch 27/30\n",
            "1719/1719 [==============================] - 5s 3ms/step - loss: 0.2377 - accuracy: 0.9144 - val_loss: 0.3111 - val_accuracy: 0.8906\n",
            "Epoch 28/30\n",
            "1719/1719 [==============================] - 5s 3ms/step - loss: 0.2344 - accuracy: 0.9150 - val_loss: 0.2982 - val_accuracy: 0.8938\n",
            "Epoch 29/30\n",
            "1719/1719 [==============================] - 5s 3ms/step - loss: 0.2304 - accuracy: 0.9166 - val_loss: 0.2966 - val_accuracy: 0.8940\n",
            "Epoch 30/30\n",
            "1719/1719 [==============================] - 6s 3ms/step - loss: 0.2266 - accuracy: 0.9178 - val_loss: 0.2918 - val_accuracy: 0.8974\n"
          ],
          "name": "stdout"
        }
      ]
    },
    {
      "cell_type": "code",
      "metadata": {
        "id": "LPy3j5g56xRh",
        "colab": {
          "base_uri": "https://localhost:8080/"
        },
        "outputId": "cd29bd7e-8667-4017-ea60-a41dd9d825f3"
      },
      "source": [
        "history.params"
      ],
      "execution_count": null,
      "outputs": [
        {
          "output_type": "execute_result",
          "data": {
            "text/plain": [
              "{'epochs': 30, 'steps': 1719, 'verbose': 1}"
            ]
          },
          "metadata": {
            "tags": []
          },
          "execution_count": 31
        }
      ]
    },
    {
      "cell_type": "code",
      "metadata": {
        "id": "y3V02aiN6xRo",
        "colab": {
          "base_uri": "https://localhost:8080/"
        },
        "outputId": "e62dbcc9-07e1-4e45-fcb9-a38e253a4019"
      },
      "source": [
        "print(history.epoch)"
      ],
      "execution_count": null,
      "outputs": [
        {
          "output_type": "stream",
          "text": [
            "[0, 1, 2, 3, 4, 5, 6, 7, 8, 9, 10, 11, 12, 13, 14, 15, 16, 17, 18, 19, 20, 21, 22, 23, 24, 25, 26, 27, 28, 29]\n"
          ],
          "name": "stdout"
        }
      ]
    },
    {
      "cell_type": "code",
      "metadata": {
        "id": "jom_m4vL6xRs",
        "colab": {
          "base_uri": "https://localhost:8080/"
        },
        "outputId": "8422c329-b8d1-4a5e-d0cb-eb7308f29075"
      },
      "source": [
        "history.history.keys()"
      ],
      "execution_count": null,
      "outputs": [
        {
          "output_type": "execute_result",
          "data": {
            "text/plain": [
              "dict_keys(['loss', 'accuracy', 'val_loss', 'val_accuracy'])"
            ]
          },
          "metadata": {
            "tags": []
          },
          "execution_count": 33
        }
      ]
    },
    {
      "cell_type": "markdown",
      "metadata": {
        "id": "3DsU7Ebc6xRx"
      },
      "source": [
        "### Plot learning Curves"
      ]
    },
    {
      "cell_type": "code",
      "metadata": {
        "id": "GxGm1KTM6xRz",
        "colab": {
          "base_uri": "https://localhost:8080/",
          "height": 328
        },
        "outputId": "f6970a0c-f91d-4111-96b2-52fecfb08005"
      },
      "source": [
        "import pandas as pd\n",
        "\n",
        "pd.DataFrame(history.history).plot(figsize=(8, 5))\n",
        "plt.grid(True)\n",
        "plt.gca().set_ylim(0, 1)\n",
        "plt.show()"
      ],
      "execution_count": 182,
      "outputs": [
        {
          "output_type": "display_data",
          "data": {
            "image/png": "[encoded data removed]",
            "text/plain": [
              "<Figure size 576x360 with 1 Axes>"
            ]
          },
          "metadata": {
            "tags": [],
            "needs_background": "light"
          }
        }
      ]
    },
    {
      "cell_type": "code",
      "metadata": {
        "id": "teXTZxmE6xR_",
        "colab": {
          "base_uri": "https://localhost:8080/"
        },
        "outputId": "a2dc5f69-463f-4cea-8878-c1862301e0f1"
      },
      "source": [
        "model.evaluate(X_test, y_test)"
      ],
      "execution_count": null,
      "outputs": [
        {
          "output_type": "stream",
          "text": [
            "313/313 [==============================] - 0s 1ms/step - loss: 0.3479 - accuracy: 0.8777\n"
          ],
          "name": "stdout"
        },
        {
          "output_type": "execute_result",
          "data": {
            "text/plain": [
              "[0.34789085388183594, 0.8776999711990356]"
            ]
          },
          "metadata": {
            "tags": []
          },
          "execution_count": 35
        }
      ]
    },
    {
      "cell_type": "code",
      "metadata": {
        "id": "-PBvEU_16xSF",
        "colab": {
          "base_uri": "https://localhost:8080/"
        },
        "outputId": "3d6b4b7e-0615-4cba-8b97-89c139a0ea54"
      },
      "source": [
        "X_new = X_test[:3]\n",
        "y_proba = model.predict(X_new)\n",
        "y_proba.round(2)"
      ],
      "execution_count": null,
      "outputs": [
        {
          "output_type": "execute_result",
          "data": {
            "text/plain": [
              "array([[0.  , 0.  , 0.  , 0.  , 0.  , 0.  , 0.  , 0.03, 0.  , 0.97],\n",
              "       [0.  , 0.  , 1.  , 0.  , 0.  , 0.  , 0.  , 0.  , 0.  , 0.  ],\n",
              "       [0.  , 1.  , 0.  , 0.  , 0.  , 0.  , 0.  , 0.  , 0.  , 0.  ]],\n",
              "      dtype=float32)"
            ]
          },
          "metadata": {
            "tags": []
          },
          "execution_count": 36
        }
      ]
    },
    {
      "cell_type": "code",
      "metadata": {
        "id": "zTPwpCIc6xSM",
        "colab": {
          "base_uri": "https://localhost:8080/"
        },
        "outputId": "e0099f43-4bde-4a5e-e218-2c27c13041f0"
      },
      "source": [
        "y_pred = model.predict_classes(X_new)\n",
        "y_pred"
      ],
      "execution_count": null,
      "outputs": [
        {
          "output_type": "stream",
          "text": [
            "WARNING:tensorflow:From <ipython-input-37-81ace37e545f>:1: Sequential.predict_classes (from tensorflow.python.keras.engine.sequential) is deprecated and will be removed after 2021-01-01.\n",
            "Instructions for updating:\n",
            "Please use instead:* `np.argmax(model.predict(x), axis=-1)`,   if your model does multi-class classification   (e.g. if it uses a `softmax` last-layer activation).* `(model.predict(x) > 0.5).astype(\"int32\")`,   if your model does binary classification   (e.g. if it uses a `sigmoid` last-layer activation).\n"
          ],
          "name": "stdout"
        },
        {
          "output_type": "execute_result",
          "data": {
            "text/plain": [
              "array([9, 2, 1])"
            ]
          },
          "metadata": {
            "tags": []
          },
          "execution_count": 37
        }
      ]
    },
    {
      "cell_type": "code",
      "metadata": {
        "id": "dlmLDWCb6xSU",
        "colab": {
          "base_uri": "https://localhost:8080/"
        },
        "outputId": "29c8cedc-19f8-4752-b5a3-fc94a772183e"
      },
      "source": [
        "np.array(class_names)[y_pred]"
      ],
      "execution_count": null,
      "outputs": [
        {
          "output_type": "execute_result",
          "data": {
            "text/plain": [
              "array(['Ankle boot', 'Pullover', 'Trouser'], dtype='<U11')"
            ]
          },
          "metadata": {
            "tags": []
          },
          "execution_count": 38
        }
      ]
    },
    {
      "cell_type": "code",
      "metadata": {
        "id": "bLvV4rzh6xSc",
        "colab": {
          "base_uri": "https://localhost:8080/"
        },
        "outputId": "be29566a-fd34-4d9a-d8ac-4dd1473d434b"
      },
      "source": [
        "y_new = y_test[:3]\n",
        "y_new"
      ],
      "execution_count": null,
      "outputs": [
        {
          "output_type": "execute_result",
          "data": {
            "text/plain": [
              "array([9, 2, 1], dtype=uint8)"
            ]
          },
          "metadata": {
            "tags": []
          },
          "execution_count": 39
        }
      ]
    },
    {
      "cell_type": "code",
      "metadata": {
        "id": "HrlZl-mi6xSh",
        "colab": {
          "base_uri": "https://localhost:8080/",
          "height": 165
        },
        "outputId": "3878e986-7270-4040-c5d9-54291e4a65a6"
      },
      "source": [
        "plt.figure(figsize=(7.2, 2.4))\n",
        "for index, image in enumerate(X_new):\n",
        "    plt.subplot(1, 3, index + 1)\n",
        "    plt.imshow(image, cmap=\"binary\", interpolation=\"nearest\")\n",
        "    plt.axis('off')\n",
        "    plt.title(class_names[y_test[index]], fontsize=12)\n",
        "plt.subplots_adjust(wspace=0.2, hspace=0.5)\n",
        "plt.show()"
      ],
      "execution_count": null,
      "outputs": [
        {
          "output_type": "display_data",
          "data": {
            "image/png": "[encoded data removed]",
            "text/plain": [
              "<Figure size 518.4x172.8 with 3 Axes>"
            ]
          },
          "metadata": {
            "tags": [],
            "needs_background": "light"
          }
        }
      ]
    },
    {
      "cell_type": "markdown",
      "metadata": {
        "collapsed": true,
        "id": "jfZmiab86xSt"
      },
      "source": [
        "## Exercise"
      ]
    },
    {
      "cell_type": "markdown",
      "metadata": {
        "id": "ZYypOTDd6xSv"
      },
      "source": [
        "#### 1) Plot Learning curves when using different optimizers\n",
        "#### 2) Plot Learning curves when using different batch size\n",
        "#### 3) Plot Learning curves when using different number of epochs\n",
        "#### 4) Add additional neurons and use Dropout Layer. Plot Learning curves.\n",
        "#### 5) Use Batch Normalisation\n",
        "#### 6) repeat with more layers\n",
        "#### 7) apply on different datasets"
      ]
    },
    {
      "cell_type": "code",
      "metadata": {
        "id": "OFylidDl6xSx",
        "colab": {
          "base_uri": "https://localhost:8080/",
          "height": 1000
        },
        "outputId": "f43af870-e664-42f0-8190-98666ec53dd0"
      },
      "source": [
        "#Question 1\n",
        "#using ADAM optimizer \n",
        "from keras import backend as K\n",
        "K.clear_session() # it will destroy keras object\n",
        "def build_model():\n",
        "  model = keras.models.Sequential()\n",
        "  model.add(keras.layers.Flatten(input_shape=[28, 28]))\n",
        "  model.add(keras.layers.Dense(300, activation=\"relu\"))\n",
        "  model.add(keras.layers.Dense(100, activation=\"relu\"))\n",
        "  model.add(keras.layers.Dense(10, activation=\"softmax\"))\n",
        "  return model\n",
        "model_adam=build_model()\n",
        "model_adam.compile(loss=\"sparse_categorical_crossentropy\", optimizer=\"adam\",metrics=[\"accuracy\"])\n",
        "history_adam = model_adam.fit(X_train, y_train, batch_size=32, epochs=30, validation_data=(X_valid, y_valid))\n",
        "history_adam.history.keys()\n",
        "pd.DataFrame(history_adam.history).plot(figsize=(8, 5))\n",
        "plt.grid(True)\n",
        "plt.gca().set_ylim(0, 1)\n",
        "plt.title(\"adam optimizer\")\n",
        "plt.show()"
      ],
      "execution_count": 183,
      "outputs": [
        {
          "output_type": "stream",
          "text": [
            "Epoch 1/30\n",
            "1719/1719 [==============================] - 6s 4ms/step - loss: 0.4880 - accuracy: 0.8228 - val_loss: 0.3762 - val_accuracy: 0.8640\n",
            "Epoch 2/30\n",
            "1719/1719 [==============================] - 6s 3ms/step - loss: 0.3649 - accuracy: 0.8661 - val_loss: 0.3550 - val_accuracy: 0.8724\n",
            "Epoch 3/30\n",
            "1719/1719 [==============================] - 6s 4ms/step - loss: 0.3270 - accuracy: 0.8788 - val_loss: 0.3285 - val_accuracy: 0.8788\n",
            "Epoch 4/30\n",
            "1719/1719 [==============================] - 6s 3ms/step - loss: 0.3013 - accuracy: 0.8882 - val_loss: 0.3199 - val_accuracy: 0.8816\n",
            "Epoch 5/30\n",
            "1719/1719 [==============================] - 6s 3ms/step - loss: 0.2867 - accuracy: 0.8922 - val_loss: 0.3225 - val_accuracy: 0.8826\n",
            "Epoch 6/30\n",
            "1719/1719 [==============================] - 6s 3ms/step - loss: 0.2718 - accuracy: 0.8973 - val_loss: 0.3247 - val_accuracy: 0.8818\n",
            "Epoch 7/30\n",
            "1719/1719 [==============================] - 6s 3ms/step - loss: 0.2590 - accuracy: 0.9030 - val_loss: 0.2960 - val_accuracy: 0.8936\n",
            "Epoch 8/30\n",
            "1719/1719 [==============================] - 6s 3ms/step - loss: 0.2483 - accuracy: 0.9055 - val_loss: 0.3221 - val_accuracy: 0.8862\n",
            "Epoch 9/30\n",
            "1719/1719 [==============================] - 6s 3ms/step - loss: 0.2355 - accuracy: 0.9113 - val_loss: 0.3043 - val_accuracy: 0.8920\n",
            "Epoch 10/30\n",
            "1719/1719 [==============================] - 6s 3ms/step - loss: 0.2292 - accuracy: 0.9143 - val_loss: 0.3124 - val_accuracy: 0.8910\n",
            "Epoch 11/30\n",
            "1719/1719 [==============================] - 6s 3ms/step - loss: 0.2175 - accuracy: 0.9179 - val_loss: 0.3126 - val_accuracy: 0.8984\n",
            "Epoch 12/30\n",
            "1719/1719 [==============================] - 6s 3ms/step - loss: 0.2087 - accuracy: 0.9212 - val_loss: 0.3217 - val_accuracy: 0.8956\n",
            "Epoch 13/30\n",
            "1719/1719 [==============================] - 6s 3ms/step - loss: 0.2038 - accuracy: 0.9217 - val_loss: 0.3286 - val_accuracy: 0.8954\n",
            "Epoch 14/30\n",
            "1719/1719 [==============================] - 6s 3ms/step - loss: 0.1945 - accuracy: 0.9260 - val_loss: 0.3311 - val_accuracy: 0.8926\n",
            "Epoch 15/30\n",
            "1719/1719 [==============================] - 6s 3ms/step - loss: 0.1905 - accuracy: 0.9272 - val_loss: 0.3382 - val_accuracy: 0.8934\n",
            "Epoch 16/30\n",
            "1719/1719 [==============================] - 6s 4ms/step - loss: 0.1853 - accuracy: 0.9285 - val_loss: 0.3330 - val_accuracy: 0.8976\n",
            "Epoch 17/30\n",
            "1719/1719 [==============================] - 6s 3ms/step - loss: 0.1779 - accuracy: 0.9320 - val_loss: 0.3494 - val_accuracy: 0.9004\n",
            "Epoch 18/30\n",
            "1719/1719 [==============================] - 6s 3ms/step - loss: 0.1731 - accuracy: 0.9337 - val_loss: 0.3525 - val_accuracy: 0.8954\n",
            "Epoch 19/30\n",
            "1719/1719 [==============================] - 6s 3ms/step - loss: 0.1686 - accuracy: 0.9352 - val_loss: 0.3550 - val_accuracy: 0.8982\n",
            "Epoch 20/30\n",
            "1719/1719 [==============================] - 6s 3ms/step - loss: 0.1652 - accuracy: 0.9363 - val_loss: 0.3537 - val_accuracy: 0.8940\n",
            "Epoch 21/30\n",
            "1719/1719 [==============================] - 6s 3ms/step - loss: 0.1591 - accuracy: 0.9391 - val_loss: 0.3419 - val_accuracy: 0.8970\n",
            "Epoch 22/30\n",
            "1719/1719 [==============================] - 6s 3ms/step - loss: 0.1532 - accuracy: 0.9410 - val_loss: 0.3948 - val_accuracy: 0.8958\n",
            "Epoch 23/30\n",
            "1719/1719 [==============================] - 6s 3ms/step - loss: 0.1513 - accuracy: 0.9410 - val_loss: 0.3834 - val_accuracy: 0.8964\n",
            "Epoch 24/30\n",
            "1719/1719 [==============================] - 6s 3ms/step - loss: 0.1473 - accuracy: 0.9430 - val_loss: 0.4012 - val_accuracy: 0.8920\n",
            "Epoch 25/30\n",
            "1719/1719 [==============================] - 6s 3ms/step - loss: 0.1413 - accuracy: 0.9459 - val_loss: 0.4605 - val_accuracy: 0.8828\n",
            "Epoch 26/30\n",
            "1719/1719 [==============================] - 6s 3ms/step - loss: 0.1409 - accuracy: 0.9462 - val_loss: 0.4234 - val_accuracy: 0.8950\n",
            "Epoch 27/30\n",
            "1719/1719 [==============================] - 6s 3ms/step - loss: 0.1362 - accuracy: 0.9484 - val_loss: 0.4253 - val_accuracy: 0.8976\n",
            "Epoch 28/30\n",
            "1719/1719 [==============================] - 6s 3ms/step - loss: 0.1326 - accuracy: 0.9492 - val_loss: 0.4113 - val_accuracy: 0.8982\n",
            "Epoch 29/30\n",
            "1719/1719 [==============================] - 6s 4ms/step - loss: 0.1300 - accuracy: 0.9500 - val_loss: 0.4101 - val_accuracy: 0.8942\n",
            "Epoch 30/30\n",
            "1719/1719 [==============================] - 6s 3ms/step - loss: 0.1266 - accuracy: 0.9506 - val_loss: 0.4017 - val_accuracy: 0.8998\n"
          ],
          "name": "stdout"
        },
        {
          "output_type": "display_data",
          "data": {
            "image/png": "[encoded data removed]",
            "text/plain": [
              "<Figure size 576x360 with 1 Axes>"
            ]
          },
          "metadata": {
            "tags": [],
            "needs_background": "light"
          }
        }
      ]
    },
    {
      "cell_type": "code",
      "metadata": {
        "id": "BxZHkmOscavN",
        "colab": {
          "base_uri": "https://localhost:8080/",
          "height": 1000
        },
        "outputId": "29452125-0ad9-4ef5-a2eb-d0c7183ed380"
      },
      "source": [
        "#Question 1\n",
        "#using ADAMAX optimizer \n",
        "K.clear_session() \n",
        "model_adamax=build_model()\n",
        "\n",
        "model_adamax.compile(loss=\"sparse_categorical_crossentropy\", optimizer=\"Adamax\", metrics=[\"accuracy\"])\n",
        "history_adamax = model_adamax.fit(X_train, y_train, batch_size=32, epochs=30,validation_data=(X_valid, y_valid))\n",
        "history_adamax.history.keys()\n",
        "\n",
        "pd.DataFrame(history_adamax.history).plot(figsize=(8, 5))\n",
        "plt.grid(True)\n",
        "plt.gca().set_ylim(0, 1)\n",
        "plt.title(\"ADAMAX optimizer\")\n",
        "plt.show()"
      ],
      "execution_count": null,
      "outputs": [
        {
          "output_type": "stream",
          "text": [
            "Epoch 1/30\n",
            "1719/1719 [==============================] - 7s 4ms/step - loss: 0.5136 - accuracy: 0.8208 - val_loss: 0.3994 - val_accuracy: 0.8594\n",
            "Epoch 2/30\n",
            "1719/1719 [==============================] - 7s 4ms/step - loss: 0.3828 - accuracy: 0.8631 - val_loss: 0.3567 - val_accuracy: 0.8746\n",
            "Epoch 3/30\n",
            "1719/1719 [==============================] - 7s 4ms/step - loss: 0.3442 - accuracy: 0.8748 - val_loss: 0.3445 - val_accuracy: 0.8766\n",
            "Epoch 4/30\n",
            "1719/1719 [==============================] - 6s 4ms/step - loss: 0.3196 - accuracy: 0.8828 - val_loss: 0.3258 - val_accuracy: 0.8816\n",
            "Epoch 5/30\n",
            "1719/1719 [==============================] - 6s 4ms/step - loss: 0.2993 - accuracy: 0.8904 - val_loss: 0.3171 - val_accuracy: 0.8838\n",
            "Epoch 6/30\n",
            "1719/1719 [==============================] - 6s 3ms/step - loss: 0.2851 - accuracy: 0.8945 - val_loss: 0.3150 - val_accuracy: 0.8844\n",
            "Epoch 7/30\n",
            "1719/1719 [==============================] - 6s 4ms/step - loss: 0.2715 - accuracy: 0.8995 - val_loss: 0.2934 - val_accuracy: 0.8936\n",
            "Epoch 8/30\n",
            "1719/1719 [==============================] - 6s 4ms/step - loss: 0.2581 - accuracy: 0.9051 - val_loss: 0.3065 - val_accuracy: 0.8876\n",
            "Epoch 9/30\n",
            "1719/1719 [==============================] - 6s 4ms/step - loss: 0.2485 - accuracy: 0.9089 - val_loss: 0.2909 - val_accuracy: 0.8940\n",
            "Epoch 10/30\n",
            "1719/1719 [==============================] - 6s 4ms/step - loss: 0.2381 - accuracy: 0.9117 - val_loss: 0.2951 - val_accuracy: 0.8944\n",
            "Epoch 11/30\n",
            "1719/1719 [==============================] - 7s 4ms/step - loss: 0.2312 - accuracy: 0.9149 - val_loss: 0.2992 - val_accuracy: 0.8926\n",
            "Epoch 12/30\n",
            "1719/1719 [==============================] - 7s 4ms/step - loss: 0.2215 - accuracy: 0.9189 - val_loss: 0.2924 - val_accuracy: 0.8924\n",
            "Epoch 13/30\n",
            "1719/1719 [==============================] - 7s 4ms/step - loss: 0.2120 - accuracy: 0.9221 - val_loss: 0.2865 - val_accuracy: 0.8934\n",
            "Epoch 14/30\n",
            "1719/1719 [==============================] - 6s 4ms/step - loss: 0.2048 - accuracy: 0.9245 - val_loss: 0.2841 - val_accuracy: 0.9002\n",
            "Epoch 15/30\n",
            "1719/1719 [==============================] - 6s 3ms/step - loss: 0.1991 - accuracy: 0.9274 - val_loss: 0.2836 - val_accuracy: 0.8984\n",
            "Epoch 16/30\n",
            "1719/1719 [==============================] - 10s 6ms/step - loss: 0.1912 - accuracy: 0.9285 - val_loss: 0.2996 - val_accuracy: 0.8924\n",
            "Epoch 17/30\n",
            "1719/1719 [==============================] - 6s 3ms/step - loss: 0.1850 - accuracy: 0.9310 - val_loss: 0.2903 - val_accuracy: 0.9002\n",
            "Epoch 18/30\n",
            "1719/1719 [==============================] - 6s 3ms/step - loss: 0.1796 - accuracy: 0.9330 - val_loss: 0.2841 - val_accuracy: 0.8992\n",
            "Epoch 19/30\n",
            "1719/1719 [==============================] - 6s 4ms/step - loss: 0.1745 - accuracy: 0.9357 - val_loss: 0.2850 - val_accuracy: 0.9002\n",
            "Epoch 20/30\n",
            "1719/1719 [==============================] - 7s 4ms/step - loss: 0.1674 - accuracy: 0.9378 - val_loss: 0.3112 - val_accuracy: 0.8908\n",
            "Epoch 21/30\n",
            "1719/1719 [==============================] - 6s 4ms/step - loss: 0.1616 - accuracy: 0.9397 - val_loss: 0.2898 - val_accuracy: 0.8996\n",
            "Epoch 22/30\n",
            "1719/1719 [==============================] - 6s 4ms/step - loss: 0.1563 - accuracy: 0.9431 - val_loss: 0.3043 - val_accuracy: 0.8976\n",
            "Epoch 23/30\n",
            "1719/1719 [==============================] - 6s 4ms/step - loss: 0.1504 - accuracy: 0.9457 - val_loss: 0.2949 - val_accuracy: 0.9026\n",
            "Epoch 24/30\n",
            "1719/1719 [==============================] - 7s 4ms/step - loss: 0.1452 - accuracy: 0.9461 - val_loss: 0.3031 - val_accuracy: 0.8994\n",
            "Epoch 25/30\n",
            "1719/1719 [==============================] - 6s 4ms/step - loss: 0.1419 - accuracy: 0.9470 - val_loss: 0.3087 - val_accuracy: 0.8970\n",
            "Epoch 26/30\n",
            "1719/1719 [==============================] - 6s 3ms/step - loss: 0.1366 - accuracy: 0.9504 - val_loss: 0.2956 - val_accuracy: 0.9030\n",
            "Epoch 27/30\n",
            "1719/1719 [==============================] - 6s 3ms/step - loss: 0.1316 - accuracy: 0.9514 - val_loss: 0.3067 - val_accuracy: 0.8998\n",
            "Epoch 28/30\n",
            "1719/1719 [==============================] - 7s 4ms/step - loss: 0.1254 - accuracy: 0.9547 - val_loss: 0.3116 - val_accuracy: 0.9018\n",
            "Epoch 29/30\n",
            "1719/1719 [==============================] - 7s 4ms/step - loss: 0.1233 - accuracy: 0.9544 - val_loss: 0.3216 - val_accuracy: 0.9008\n",
            "Epoch 30/30\n",
            "1719/1719 [==============================] - 6s 4ms/step - loss: 0.1189 - accuracy: 0.9562 - val_loss: 0.3333 - val_accuracy: 0.8990\n"
          ],
          "name": "stdout"
        },
        {
          "output_type": "display_data",
          "data": {
            "image/png": "[encoded data removed]",
            "text/plain": [
              "<Figure size 576x360 with 1 Axes>"
            ]
          },
          "metadata": {
            "tags": [],
            "needs_background": "light"
          }
        }
      ]
    },
    {
      "cell_type": "code",
      "metadata": {
        "id": "WGDrrpgBkX5C",
        "colab": {
          "base_uri": "https://localhost:8080/",
          "height": 1000
        },
        "outputId": "54c8a868-b573-418f-d32f-ef548bac20b8"
      },
      "source": [
        "#Question 1\n",
        "#using RMSprop optimizer \n",
        "K.clear_session() \n",
        "np.random.seed(42)\n",
        "\n",
        "model_RMSprop=build_model()\n",
        "model_RMSprop.compile(loss=\"sparse_categorical_crossentropy\",optimizer=\"RMSprop\",metrics=[\"accuracy\"])\n",
        "history_RMSprop = model_RMSprop.fit(X_train, y_train, batch_size=32, epochs=30,validation_data=(X_valid, y_valid))\n",
        "history_RMSprop.history.keys()\n",
        "\n",
        "pd.DataFrame(history_RMSprop.history).plot(figsize=(8, 5))\n",
        "plt.grid(True)\n",
        "plt.gca().set_ylim(0, 1)\n",
        "plt.title(\"RMSprop optimizer\")\n",
        "plt.show()"
      ],
      "execution_count": 186,
      "outputs": [
        {
          "output_type": "stream",
          "text": [
            "Epoch 1/30\n",
            "1719/1719 [==============================] - 8s 5ms/step - loss: 0.5029 - accuracy: 0.8182 - val_loss: 0.3995 - val_accuracy: 0.8612\n",
            "Epoch 2/30\n",
            "1719/1719 [==============================] - 8s 5ms/step - loss: 0.3913 - accuracy: 0.8604 - val_loss: 0.3781 - val_accuracy: 0.8730\n",
            "Epoch 3/30\n",
            "1719/1719 [==============================] - 8s 5ms/step - loss: 0.3668 - accuracy: 0.8724 - val_loss: 0.3964 - val_accuracy: 0.8746\n",
            "Epoch 4/30\n",
            "1719/1719 [==============================] - 8s 5ms/step - loss: 0.3582 - accuracy: 0.8776 - val_loss: 0.4147 - val_accuracy: 0.8728\n",
            "Epoch 5/30\n",
            "1719/1719 [==============================] - 9s 5ms/step - loss: 0.3468 - accuracy: 0.8801 - val_loss: 0.3949 - val_accuracy: 0.8826\n",
            "Epoch 6/30\n",
            "1719/1719 [==============================] - 9s 5ms/step - loss: 0.3372 - accuracy: 0.8843 - val_loss: 0.4143 - val_accuracy: 0.8814\n",
            "Epoch 7/30\n",
            "1719/1719 [==============================] - 8s 4ms/step - loss: 0.3310 - accuracy: 0.8887 - val_loss: 0.4204 - val_accuracy: 0.8806\n",
            "Epoch 8/30\n",
            "1719/1719 [==============================] - 8s 5ms/step - loss: 0.3287 - accuracy: 0.8899 - val_loss: 0.4322 - val_accuracy: 0.8840\n",
            "Epoch 9/30\n",
            "1719/1719 [==============================] - 8s 5ms/step - loss: 0.3174 - accuracy: 0.8923 - val_loss: 0.4713 - val_accuracy: 0.8864\n",
            "Epoch 10/30\n",
            "1719/1719 [==============================] - 8s 4ms/step - loss: 0.3175 - accuracy: 0.8937 - val_loss: 0.5169 - val_accuracy: 0.8750\n",
            "Epoch 11/30\n",
            "1719/1719 [==============================] - 8s 5ms/step - loss: 0.3080 - accuracy: 0.8965 - val_loss: 0.4928 - val_accuracy: 0.8760\n",
            "Epoch 12/30\n",
            "1719/1719 [==============================] - 8s 5ms/step - loss: 0.3043 - accuracy: 0.8988 - val_loss: 0.5215 - val_accuracy: 0.8842\n",
            "Epoch 13/30\n",
            "1719/1719 [==============================] - 8s 5ms/step - loss: 0.3053 - accuracy: 0.8978 - val_loss: 0.6087 - val_accuracy: 0.8778\n",
            "Epoch 14/30\n",
            "1719/1719 [==============================] - 8s 4ms/step - loss: 0.2980 - accuracy: 0.9019 - val_loss: 0.5798 - val_accuracy: 0.8846\n",
            "Epoch 15/30\n",
            "1719/1719 [==============================] - 8s 5ms/step - loss: 0.2953 - accuracy: 0.9032 - val_loss: 0.5302 - val_accuracy: 0.8864\n",
            "Epoch 16/30\n",
            "1719/1719 [==============================] - 8s 5ms/step - loss: 0.2982 - accuracy: 0.9037 - val_loss: 0.6951 - val_accuracy: 0.8582\n",
            "Epoch 17/30\n",
            "1719/1719 [==============================] - 8s 5ms/step - loss: 0.2917 - accuracy: 0.9056 - val_loss: 0.6353 - val_accuracy: 0.8846\n",
            "Epoch 18/30\n",
            "1719/1719 [==============================] - 8s 5ms/step - loss: 0.2844 - accuracy: 0.9077 - val_loss: 0.6703 - val_accuracy: 0.8786\n",
            "Epoch 19/30\n",
            "1719/1719 [==============================] - 8s 5ms/step - loss: 0.2831 - accuracy: 0.9079 - val_loss: 0.6525 - val_accuracy: 0.8886\n",
            "Epoch 20/30\n",
            "1719/1719 [==============================] - 8s 4ms/step - loss: 0.2825 - accuracy: 0.9101 - val_loss: 0.7874 - val_accuracy: 0.8830\n",
            "Epoch 21/30\n",
            "1719/1719 [==============================] - 8s 4ms/step - loss: 0.2764 - accuracy: 0.9102 - val_loss: 0.7416 - val_accuracy: 0.8868\n",
            "Epoch 22/30\n",
            "1719/1719 [==============================] - 8s 4ms/step - loss: 0.2686 - accuracy: 0.9125 - val_loss: 0.6875 - val_accuracy: 0.8914\n",
            "Epoch 23/30\n",
            "1719/1719 [==============================] - 8s 4ms/step - loss: 0.2718 - accuracy: 0.9130 - val_loss: 0.7868 - val_accuracy: 0.8712\n",
            "Epoch 24/30\n",
            "1719/1719 [==============================] - 8s 4ms/step - loss: 0.2692 - accuracy: 0.9142 - val_loss: 0.7390 - val_accuracy: 0.8826\n",
            "Epoch 25/30\n",
            "1719/1719 [==============================] - 8s 4ms/step - loss: 0.2687 - accuracy: 0.9154 - val_loss: 0.8407 - val_accuracy: 0.8804\n",
            "Epoch 26/30\n",
            "1719/1719 [==============================] - 8s 4ms/step - loss: 0.2636 - accuracy: 0.9171 - val_loss: 0.8563 - val_accuracy: 0.8750\n",
            "Epoch 27/30\n",
            "1719/1719 [==============================] - 8s 5ms/step - loss: 0.2690 - accuracy: 0.9172 - val_loss: 0.9508 - val_accuracy: 0.8790\n",
            "Epoch 28/30\n",
            "1719/1719 [==============================] - 8s 5ms/step - loss: 0.2649 - accuracy: 0.9189 - val_loss: 0.9408 - val_accuracy: 0.8904\n",
            "Epoch 29/30\n",
            "1719/1719 [==============================] - 8s 5ms/step - loss: 0.2604 - accuracy: 0.9175 - val_loss: 1.0341 - val_accuracy: 0.8758\n",
            "Epoch 30/30\n",
            "1719/1719 [==============================] - 8s 5ms/step - loss: 0.2568 - accuracy: 0.9206 - val_loss: 1.0089 - val_accuracy: 0.8818\n"
          ],
          "name": "stdout"
        },
        {
          "output_type": "display_data",
          "data": {
            "image/png": "[encoded data removed]",
            "text/plain": [
              "<Figure size 576x360 with 1 Axes>"
            ]
          },
          "metadata": {
            "tags": [],
            "needs_background": "light"
          }
        }
      ]
    },
    {
      "cell_type": "code",
      "metadata": {
        "id": "r7VlP12Mkq6p",
        "colab": {
          "base_uri": "https://localhost:8080/",
          "height": 1000
        },
        "outputId": "2abfdccc-3060-4f65-df5e-4934269ce3db"
      },
      "source": [
        "#Question 1\n",
        "#using ADADELTA optimizer \n",
        "\n",
        "K.clear_session() \n",
        "\n",
        "model_ADADELTA=build_model()\n",
        "\n",
        "model_ADADELTA.compile(loss=\"sparse_categorical_crossentropy\",\n",
        "              optimizer=\"Adadelta\",\n",
        "              metrics=[\"accuracy\"])\n",
        "history_ADADELTA = model_ADADELTA.fit(X_train, y_train, batch_size=32, epochs=30,\n",
        "                    validation_data=(X_valid, y_valid))\n",
        "history_ADADELTA.history.keys()\n",
        "\n",
        "pd.DataFrame(history_ADADELTA.history).plot(figsize=(8, 5))\n",
        "plt.grid(True)\n",
        "plt.gca().set_ylim(0, 1)\n",
        "plt.title(\"ADADELTA optimizer\")\n",
        "plt.show()"
      ],
      "execution_count": null,
      "outputs": [
        {
          "output_type": "stream",
          "text": [
            "Epoch 1/30\n",
            "1719/1719 [==============================] - 7s 4ms/step - loss: 2.0793 - accuracy: 0.2887 - val_loss: 1.8783 - val_accuracy: 0.4268\n",
            "Epoch 2/30\n",
            "1719/1719 [==============================] - 7s 4ms/step - loss: 1.7220 - accuracy: 0.5262 - val_loss: 1.5756 - val_accuracy: 0.6168\n",
            "Epoch 3/30\n",
            "1719/1719 [==============================] - 7s 4ms/step - loss: 1.4656 - accuracy: 0.6376 - val_loss: 1.3506 - val_accuracy: 0.6660\n",
            "Epoch 4/30\n",
            "1719/1719 [==============================] - 7s 4ms/step - loss: 1.2745 - accuracy: 0.6712 - val_loss: 1.1848 - val_accuracy: 0.6886\n",
            "Epoch 5/30\n",
            "1719/1719 [==============================] - 8s 5ms/step - loss: 1.1347 - accuracy: 0.6925 - val_loss: 1.0651 - val_accuracy: 0.7084\n",
            "Epoch 6/30\n",
            "1719/1719 [==============================] - 7s 4ms/step - loss: 1.0328 - accuracy: 0.7095 - val_loss: 0.9779 - val_accuracy: 0.7222\n",
            "Epoch 7/30\n",
            "1719/1719 [==============================] - 7s 4ms/step - loss: 0.9574 - accuracy: 0.7238 - val_loss: 0.9119 - val_accuracy: 0.7386\n",
            "Epoch 8/30\n",
            "1719/1719 [==============================] - 7s 4ms/step - loss: 0.8992 - accuracy: 0.7365 - val_loss: 0.8612 - val_accuracy: 0.7504\n",
            "Epoch 9/30\n",
            "1719/1719 [==============================] - 6s 4ms/step - loss: 0.8536 - accuracy: 0.7466 - val_loss: 0.8203 - val_accuracy: 0.7618\n",
            "Epoch 10/30\n",
            "1719/1719 [==============================] - 6s 4ms/step - loss: 0.8172 - accuracy: 0.7544 - val_loss: 0.7878 - val_accuracy: 0.7678\n",
            "Epoch 11/30\n",
            "1719/1719 [==============================] - 6s 4ms/step - loss: 0.7873 - accuracy: 0.7610 - val_loss: 0.7604 - val_accuracy: 0.7712\n",
            "Epoch 12/30\n",
            "1719/1719 [==============================] - 6s 4ms/step - loss: 0.7619 - accuracy: 0.7673 - val_loss: 0.7371 - val_accuracy: 0.7766\n",
            "Epoch 13/30\n",
            "1719/1719 [==============================] - 7s 4ms/step - loss: 0.7402 - accuracy: 0.7728 - val_loss: 0.7174 - val_accuracy: 0.7808\n",
            "Epoch 14/30\n",
            "1719/1719 [==============================] - 7s 4ms/step - loss: 0.7212 - accuracy: 0.7766 - val_loss: 0.6995 - val_accuracy: 0.7856\n",
            "Epoch 15/30\n",
            "1719/1719 [==============================] - 6s 4ms/step - loss: 0.7046 - accuracy: 0.7814 - val_loss: 0.6842 - val_accuracy: 0.7900\n",
            "Epoch 16/30\n",
            "1719/1719 [==============================] - 6s 4ms/step - loss: 0.6897 - accuracy: 0.7860 - val_loss: 0.6711 - val_accuracy: 0.7928\n",
            "Epoch 17/30\n",
            "1719/1719 [==============================] - 6s 4ms/step - loss: 0.6762 - accuracy: 0.7880 - val_loss: 0.6579 - val_accuracy: 0.7988\n",
            "Epoch 18/30\n",
            "1719/1719 [==============================] - 7s 4ms/step - loss: 0.6640 - accuracy: 0.7924 - val_loss: 0.6467 - val_accuracy: 0.8014\n",
            "Epoch 19/30\n",
            "1719/1719 [==============================] - 6s 4ms/step - loss: 0.6530 - accuracy: 0.7950 - val_loss: 0.6363 - val_accuracy: 0.8040\n",
            "Epoch 20/30\n",
            "1719/1719 [==============================] - 6s 4ms/step - loss: 0.6429 - accuracy: 0.7977 - val_loss: 0.6263 - val_accuracy: 0.8076\n",
            "Epoch 21/30\n",
            "1719/1719 [==============================] - 7s 4ms/step - loss: 0.6336 - accuracy: 0.8010 - val_loss: 0.6177 - val_accuracy: 0.8098\n",
            "Epoch 22/30\n",
            "1719/1719 [==============================] - 7s 4ms/step - loss: 0.6249 - accuracy: 0.8031 - val_loss: 0.6098 - val_accuracy: 0.8116\n",
            "Epoch 23/30\n",
            "1719/1719 [==============================] - 7s 4ms/step - loss: 0.6169 - accuracy: 0.8055 - val_loss: 0.6022 - val_accuracy: 0.8120\n",
            "Epoch 24/30\n",
            "1719/1719 [==============================] - 8s 4ms/step - loss: 0.6093 - accuracy: 0.8075 - val_loss: 0.5954 - val_accuracy: 0.8126\n",
            "Epoch 25/30\n",
            "1719/1719 [==============================] - 7s 4ms/step - loss: 0.6023 - accuracy: 0.8087 - val_loss: 0.5886 - val_accuracy: 0.8138\n",
            "Epoch 26/30\n",
            "1719/1719 [==============================] - 7s 4ms/step - loss: 0.5957 - accuracy: 0.8102 - val_loss: 0.5825 - val_accuracy: 0.8146\n",
            "Epoch 27/30\n",
            "1719/1719 [==============================] - 7s 4ms/step - loss: 0.5896 - accuracy: 0.8119 - val_loss: 0.5766 - val_accuracy: 0.8172\n",
            "Epoch 28/30\n",
            "1719/1719 [==============================] - 7s 4ms/step - loss: 0.5838 - accuracy: 0.8133 - val_loss: 0.5712 - val_accuracy: 0.8162\n",
            "Epoch 29/30\n",
            "1719/1719 [==============================] - 7s 4ms/step - loss: 0.5784 - accuracy: 0.8144 - val_loss: 0.5658 - val_accuracy: 0.8176\n",
            "Epoch 30/30\n",
            "1719/1719 [==============================] - 7s 4ms/step - loss: 0.5732 - accuracy: 0.8156 - val_loss: 0.5608 - val_accuracy: 0.8194\n"
          ],
          "name": "stdout"
        },
        {
          "output_type": "display_data",
          "data": {
            "image/png": "[encoded data removed]",
            "text/plain": [
              "<Figure size 576x360 with 1 Axes>"
            ]
          },
          "metadata": {
            "tags": [],
            "needs_background": "light"
          }
        }
      ]
    },
    {
      "cell_type": "code",
      "metadata": {
        "id": "oZIM8PU5k6MD",
        "colab": {
          "base_uri": "https://localhost:8080/",
          "height": 1000
        },
        "outputId": "0434cd13-a63e-4dcb-e899-e25b6d23dcc3"
      },
      "source": [
        "#Question 1\n",
        "#using ADAGRAD optimizer \n",
        "\n",
        "K.clear_session() \n",
        "\n",
        "model_ADAGRAD=build_model()\n",
        "\n",
        "model_ADAGRAD.compile(loss=\"sparse_categorical_crossentropy\",optimizer=\"Adagrad\",metrics=[\"accuracy\"])\n",
        "history_ADAGRAD = model_ADAGRAD.fit(X_train, y_train, batch_size=32, epochs=30,validation_data=(X_valid, y_valid))\n",
        "history_ADAGRAD.history.keys()\n",
        "\n",
        "pd.DataFrame(history_ADAGRAD.history).plot(figsize=(8, 5))\n",
        "plt.grid(True)\n",
        "plt.gca().set_ylim(0, 1)\n",
        "plt.title(\"ADAGRAD optimizer\")\n",
        "plt.show()\n"
      ],
      "execution_count": null,
      "outputs": [
        {
          "output_type": "stream",
          "text": [
            "Epoch 1/30\n",
            "1719/1719 [==============================] - 7s 4ms/step - loss: 1.0952 - accuracy: 0.6640 - val_loss: 0.7432 - val_accuracy: 0.7608\n",
            "Epoch 2/30\n",
            "1719/1719 [==============================] - 6s 3ms/step - loss: 0.6860 - accuracy: 0.7748 - val_loss: 0.6245 - val_accuracy: 0.7950\n",
            "Epoch 3/30\n",
            "1719/1719 [==============================] - 6s 4ms/step - loss: 0.6048 - accuracy: 0.8031 - val_loss: 0.5690 - val_accuracy: 0.8150\n",
            "Epoch 4/30\n",
            "1719/1719 [==============================] - 6s 3ms/step - loss: 0.5614 - accuracy: 0.8148 - val_loss: 0.5348 - val_accuracy: 0.8258\n",
            "Epoch 5/30\n",
            "1719/1719 [==============================] - 6s 3ms/step - loss: 0.5339 - accuracy: 0.8236 - val_loss: 0.5121 - val_accuracy: 0.8316\n",
            "Epoch 6/30\n",
            "1719/1719 [==============================] - 6s 3ms/step - loss: 0.5139 - accuracy: 0.8287 - val_loss: 0.4954 - val_accuracy: 0.8360\n",
            "Epoch 7/30\n",
            "1719/1719 [==============================] - 6s 3ms/step - loss: 0.4988 - accuracy: 0.8338 - val_loss: 0.4842 - val_accuracy: 0.8406\n",
            "Epoch 8/30\n",
            "1719/1719 [==============================] - 8s 5ms/step - loss: 0.4868 - accuracy: 0.8365 - val_loss: 0.4723 - val_accuracy: 0.8432\n",
            "Epoch 9/30\n",
            "1719/1719 [==============================] - 9s 5ms/step - loss: 0.4770 - accuracy: 0.8389 - val_loss: 0.4658 - val_accuracy: 0.8426\n",
            "Epoch 10/30\n",
            "1719/1719 [==============================] - 6s 4ms/step - loss: 0.4686 - accuracy: 0.8412 - val_loss: 0.4563 - val_accuracy: 0.8458\n",
            "Epoch 11/30\n",
            "1719/1719 [==============================] - 6s 4ms/step - loss: 0.4615 - accuracy: 0.8433 - val_loss: 0.4512 - val_accuracy: 0.8494\n",
            "Epoch 12/30\n",
            "1719/1719 [==============================] - 6s 4ms/step - loss: 0.4552 - accuracy: 0.8445 - val_loss: 0.4440 - val_accuracy: 0.8500\n",
            "Epoch 13/30\n",
            "1719/1719 [==============================] - 6s 3ms/step - loss: 0.4497 - accuracy: 0.8471 - val_loss: 0.4398 - val_accuracy: 0.8522\n",
            "Epoch 14/30\n",
            "1719/1719 [==============================] - 6s 3ms/step - loss: 0.4446 - accuracy: 0.8488 - val_loss: 0.4346 - val_accuracy: 0.8542\n",
            "Epoch 15/30\n",
            "1719/1719 [==============================] - 6s 4ms/step - loss: 0.4402 - accuracy: 0.8500 - val_loss: 0.4313 - val_accuracy: 0.8550\n",
            "Epoch 16/30\n",
            "1719/1719 [==============================] - 6s 3ms/step - loss: 0.4358 - accuracy: 0.8509 - val_loss: 0.4295 - val_accuracy: 0.8576\n",
            "Epoch 17/30\n",
            "1719/1719 [==============================] - 6s 3ms/step - loss: 0.4322 - accuracy: 0.8519 - val_loss: 0.4252 - val_accuracy: 0.8574\n",
            "Epoch 18/30\n",
            "1719/1719 [==============================] - 6s 3ms/step - loss: 0.4287 - accuracy: 0.8538 - val_loss: 0.4215 - val_accuracy: 0.8556\n",
            "Epoch 19/30\n",
            "1719/1719 [==============================] - 6s 4ms/step - loss: 0.4253 - accuracy: 0.8547 - val_loss: 0.4174 - val_accuracy: 0.8590\n",
            "Epoch 20/30\n",
            "1719/1719 [==============================] - 6s 4ms/step - loss: 0.4222 - accuracy: 0.8549 - val_loss: 0.4159 - val_accuracy: 0.8608\n",
            "Epoch 21/30\n",
            "1719/1719 [==============================] - 7s 4ms/step - loss: 0.4190 - accuracy: 0.8563 - val_loss: 0.4138 - val_accuracy: 0.8608\n",
            "Epoch 22/30\n",
            "1719/1719 [==============================] - 7s 4ms/step - loss: 0.4162 - accuracy: 0.8569 - val_loss: 0.4123 - val_accuracy: 0.8604\n",
            "Epoch 23/30\n",
            "1719/1719 [==============================] - 6s 3ms/step - loss: 0.4136 - accuracy: 0.8575 - val_loss: 0.4083 - val_accuracy: 0.8622\n",
            "Epoch 24/30\n",
            "1719/1719 [==============================] - 6s 3ms/step - loss: 0.4109 - accuracy: 0.8589 - val_loss: 0.4067 - val_accuracy: 0.8620\n",
            "Epoch 25/30\n",
            "1719/1719 [==============================] - 6s 3ms/step - loss: 0.4086 - accuracy: 0.8600 - val_loss: 0.4043 - val_accuracy: 0.8628\n",
            "Epoch 26/30\n",
            "1719/1719 [==============================] - 6s 3ms/step - loss: 0.4063 - accuracy: 0.8601 - val_loss: 0.4032 - val_accuracy: 0.8648\n",
            "Epoch 27/30\n",
            "1719/1719 [==============================] - 6s 3ms/step - loss: 0.4042 - accuracy: 0.8610 - val_loss: 0.4004 - val_accuracy: 0.8634\n",
            "Epoch 28/30\n",
            "1719/1719 [==============================] - 5s 3ms/step - loss: 0.4020 - accuracy: 0.8615 - val_loss: 0.3992 - val_accuracy: 0.8654\n",
            "Epoch 29/30\n",
            "1719/1719 [==============================] - 6s 3ms/step - loss: 0.4000 - accuracy: 0.8625 - val_loss: 0.3970 - val_accuracy: 0.8662\n",
            "Epoch 30/30\n",
            "1719/1719 [==============================] - 6s 4ms/step - loss: 0.3980 - accuracy: 0.8629 - val_loss: 0.3954 - val_accuracy: 0.8658\n"
          ],
          "name": "stdout"
        },
        {
          "output_type": "display_data",
          "data": {
            "image/png": "[encoded data removed]",
            "text/plain": [
              "<Figure size 576x360 with 1 Axes>"
            ]
          },
          "metadata": {
            "tags": [],
            "needs_background": "light"
          }
        }
      ]
    },
    {
      "cell_type": "code",
      "metadata": {
        "id": "dx2coPFplPt8",
        "colab": {
          "base_uri": "https://localhost:8080/",
          "height": 1000
        },
        "outputId": "55d1abb4-be71-43f1-a58b-b7b29bfb940a"
      },
      "source": [
        "#Question 1\n",
        "#using NADAM optimizer \n",
        "\n",
        "K.clear_session() \n",
        "\n",
        "model_NADAM=build_model()\n",
        "\n",
        "model_NADAM.compile(loss=\"sparse_categorical_crossentropy\",optimizer=\"Nadam\", metrics=[\"accuracy\"])\n",
        "\n",
        "history_NADAM = model_NADAM.fit(X_train, y_train, batch_size=32, epochs=30, validation_data=(X_valid, y_valid))\n",
        "history_NADAM.history.keys()\n",
        "\n",
        "\n",
        "pd.DataFrame(history_NADAM.history).plot(figsize=(8, 5))\n",
        "plt.grid(True)\n",
        "plt.gca().set_ylim(0, 1)\n",
        "plt.title(\"NADAM optimizer\")\n",
        "plt.show()\n"
      ],
      "execution_count": null,
      "outputs": [
        {
          "output_type": "stream",
          "text": [
            "Epoch 1/30\n",
            "1719/1719 [==============================] - 11s 7ms/step - loss: 0.4733 - accuracy: 0.8294 - val_loss: 0.3849 - val_accuracy: 0.8548\n",
            "Epoch 2/30\n",
            "1719/1719 [==============================] - 11s 6ms/step - loss: 0.3527 - accuracy: 0.8697 - val_loss: 0.3568 - val_accuracy: 0.8686\n",
            "Epoch 3/30\n",
            "1719/1719 [==============================] - 10s 6ms/step - loss: 0.3165 - accuracy: 0.8823 - val_loss: 0.3119 - val_accuracy: 0.8846\n",
            "Epoch 4/30\n",
            "1719/1719 [==============================] - 11s 6ms/step - loss: 0.2940 - accuracy: 0.8900 - val_loss: 0.3108 - val_accuracy: 0.8848\n",
            "Epoch 5/30\n",
            "1719/1719 [==============================] - 11s 6ms/step - loss: 0.2771 - accuracy: 0.8968 - val_loss: 0.3175 - val_accuracy: 0.8866\n",
            "Epoch 6/30\n",
            "1719/1719 [==============================] - 11s 6ms/step - loss: 0.2607 - accuracy: 0.9031 - val_loss: 0.2955 - val_accuracy: 0.8922\n",
            "Epoch 7/30\n",
            "1719/1719 [==============================] - 11s 6ms/step - loss: 0.2489 - accuracy: 0.9061 - val_loss: 0.3033 - val_accuracy: 0.8908\n",
            "Epoch 8/30\n",
            "1719/1719 [==============================] - 12s 7ms/step - loss: 0.2388 - accuracy: 0.9097 - val_loss: 0.3154 - val_accuracy: 0.8896\n",
            "Epoch 9/30\n",
            "1719/1719 [==============================] - 10s 6ms/step - loss: 0.2288 - accuracy: 0.9128 - val_loss: 0.3150 - val_accuracy: 0.8944\n",
            "Epoch 10/30\n",
            "1719/1719 [==============================] - 11s 6ms/step - loss: 0.2188 - accuracy: 0.9164 - val_loss: 0.3065 - val_accuracy: 0.8942\n",
            "Epoch 11/30\n",
            "1719/1719 [==============================] - 11s 6ms/step - loss: 0.2097 - accuracy: 0.9198 - val_loss: 0.3321 - val_accuracy: 0.8820\n",
            "Epoch 12/30\n",
            "1719/1719 [==============================] - 11s 6ms/step - loss: 0.2034 - accuracy: 0.9217 - val_loss: 0.3080 - val_accuracy: 0.8962\n",
            "Epoch 13/30\n",
            "1719/1719 [==============================] - 11s 6ms/step - loss: 0.1983 - accuracy: 0.9243 - val_loss: 0.2976 - val_accuracy: 0.9004\n",
            "Epoch 14/30\n",
            "1719/1719 [==============================] - 11s 6ms/step - loss: 0.1868 - accuracy: 0.9281 - val_loss: 0.3324 - val_accuracy: 0.9004\n",
            "Epoch 15/30\n",
            "1719/1719 [==============================] - 11s 6ms/step - loss: 0.1845 - accuracy: 0.9300 - val_loss: 0.3442 - val_accuracy: 0.8926\n",
            "Epoch 16/30\n",
            "1719/1719 [==============================] - 11s 6ms/step - loss: 0.1785 - accuracy: 0.9320 - val_loss: 0.3189 - val_accuracy: 0.8932\n",
            "Epoch 17/30\n",
            "1719/1719 [==============================] - 11s 6ms/step - loss: 0.1716 - accuracy: 0.9336 - val_loss: 0.3336 - val_accuracy: 0.8958\n",
            "Epoch 18/30\n",
            "1719/1719 [==============================] - 10s 6ms/step - loss: 0.1675 - accuracy: 0.9362 - val_loss: 0.3469 - val_accuracy: 0.8936\n",
            "Epoch 19/30\n",
            "1719/1719 [==============================] - 11s 6ms/step - loss: 0.1598 - accuracy: 0.9381 - val_loss: 0.3392 - val_accuracy: 0.8966\n",
            "Epoch 20/30\n",
            "1719/1719 [==============================] - 11s 6ms/step - loss: 0.1569 - accuracy: 0.9393 - val_loss: 0.4165 - val_accuracy: 0.8902\n",
            "Epoch 21/30\n",
            "1719/1719 [==============================] - 11s 6ms/step - loss: 0.1571 - accuracy: 0.9399 - val_loss: 0.3537 - val_accuracy: 0.9016\n",
            "Epoch 22/30\n",
            "1719/1719 [==============================] - 11s 7ms/step - loss: 0.1472 - accuracy: 0.9437 - val_loss: 0.3743 - val_accuracy: 0.8984\n",
            "Epoch 23/30\n",
            "1719/1719 [==============================] - 11s 6ms/step - loss: 0.1457 - accuracy: 0.9433 - val_loss: 0.3929 - val_accuracy: 0.8914\n",
            "Epoch 24/30\n",
            "1719/1719 [==============================] - 11s 7ms/step - loss: 0.1417 - accuracy: 0.9457 - val_loss: 0.3677 - val_accuracy: 0.8934\n",
            "Epoch 25/30\n",
            "1719/1719 [==============================] - 10s 6ms/step - loss: 0.1371 - accuracy: 0.9460 - val_loss: 0.3674 - val_accuracy: 0.9016\n",
            "Epoch 26/30\n",
            "1719/1719 [==============================] - 10s 6ms/step - loss: 0.1316 - accuracy: 0.9489 - val_loss: 0.4134 - val_accuracy: 0.8972\n",
            "Epoch 27/30\n",
            "1719/1719 [==============================] - 10s 6ms/step - loss: 0.1303 - accuracy: 0.9504 - val_loss: 0.3990 - val_accuracy: 0.9006\n",
            "Epoch 28/30\n",
            "1719/1719 [==============================] - 12s 7ms/step - loss: 0.1236 - accuracy: 0.9512 - val_loss: 0.4140 - val_accuracy: 0.8988\n",
            "Epoch 29/30\n",
            "1719/1719 [==============================] - 11s 6ms/step - loss: 0.1264 - accuracy: 0.9505 - val_loss: 0.4388 - val_accuracy: 0.8936\n",
            "Epoch 30/30\n",
            "1719/1719 [==============================] - 11s 6ms/step - loss: 0.1229 - accuracy: 0.9522 - val_loss: 0.4381 - val_accuracy: 0.8986\n"
          ],
          "name": "stdout"
        },
        {
          "output_type": "display_data",
          "data": {
            "image/png": "[encoded data removed]",
            "text/plain": [
              "<Figure size 576x360 with 1 Axes>"
            ]
          },
          "metadata": {
            "tags": [],
            "needs_background": "light"
          }
        }
      ]
    },
    {
      "cell_type": "code",
      "metadata": {
        "id": "IreIwqQnqy9z",
        "colab": {
          "base_uri": "https://localhost:8080/",
          "height": 1000
        },
        "outputId": "d2f8d86c-746d-4ea4-b8da-879f86556805"
      },
      "source": [
        "#Question 2\n",
        "#using batch size=64\n",
        "K.clear_session() \n",
        "model_2=build_model()\n",
        "model_2.compile(loss=\"sparse_categorical_crossentropy\", optimizer=\"sgd\",metrics=[\"accuracy\"])\n",
        "history_2 = model_2.fit(X_train, y_train, batch_size=64, epochs=30, validation_data=(X_valid, y_valid))\n",
        "history_2.history.keys()\n",
        "import pandas as pd\n",
        "pd.DataFrame(history_2.history).plot(figsize=(8, 5))\n",
        "plt.grid(True)\n",
        "plt.gca().set_ylim(0, 1)\n",
        "plt.show()\n"
      ],
      "execution_count": 35,
      "outputs": [
        {
          "output_type": "stream",
          "text": [
            "Epoch 1/30\n",
            "860/860 [==============================] - 5s 6ms/step - loss: 0.8710 - accuracy: 0.7197 - val_loss: 0.5995 - val_accuracy: 0.7980\n",
            "Epoch 2/30\n",
            "860/860 [==============================] - 4s 4ms/step - loss: 0.5559 - accuracy: 0.8108 - val_loss: 0.5075 - val_accuracy: 0.8258\n",
            "Epoch 3/30\n",
            "860/860 [==============================] - 4s 4ms/step - loss: 0.4948 - accuracy: 0.8281 - val_loss: 0.4767 - val_accuracy: 0.8400\n",
            "Epoch 4/30\n",
            "860/860 [==============================] - 3s 4ms/step - loss: 0.4652 - accuracy: 0.8365 - val_loss: 0.4356 - val_accuracy: 0.8546\n",
            "Epoch 5/30\n",
            "860/860 [==============================] - 4s 4ms/step - loss: 0.4436 - accuracy: 0.8451 - val_loss: 0.4385 - val_accuracy: 0.8502\n",
            "Epoch 6/30\n",
            "860/860 [==============================] - 3s 4ms/step - loss: 0.4273 - accuracy: 0.8498 - val_loss: 0.4787 - val_accuracy: 0.8362\n",
            "Epoch 7/30\n",
            "860/860 [==============================] - 4s 4ms/step - loss: 0.4127 - accuracy: 0.8541 - val_loss: 0.4496 - val_accuracy: 0.8408\n",
            "Epoch 8/30\n",
            "860/860 [==============================] - 4s 4ms/step - loss: 0.4024 - accuracy: 0.8597 - val_loss: 0.3894 - val_accuracy: 0.8640\n",
            "Epoch 9/30\n",
            "860/860 [==============================] - 4s 4ms/step - loss: 0.3917 - accuracy: 0.8619 - val_loss: 0.3877 - val_accuracy: 0.8628\n",
            "Epoch 10/30\n",
            "860/860 [==============================] - 4s 4ms/step - loss: 0.3823 - accuracy: 0.8649 - val_loss: 0.3979 - val_accuracy: 0.8644\n",
            "Epoch 11/30\n",
            "860/860 [==============================] - 4s 4ms/step - loss: 0.3756 - accuracy: 0.8682 - val_loss: 0.3802 - val_accuracy: 0.8722\n",
            "Epoch 12/30\n",
            "860/860 [==============================] - 4s 4ms/step - loss: 0.3672 - accuracy: 0.8705 - val_loss: 0.3962 - val_accuracy: 0.8620\n",
            "Epoch 13/30\n",
            "860/860 [==============================] - 4s 4ms/step - loss: 0.3606 - accuracy: 0.8726 - val_loss: 0.3822 - val_accuracy: 0.8680\n",
            "Epoch 14/30\n",
            "860/860 [==============================] - 4s 4ms/step - loss: 0.3549 - accuracy: 0.8753 - val_loss: 0.3854 - val_accuracy: 0.8650\n",
            "Epoch 15/30\n",
            "860/860 [==============================] - 4s 4ms/step - loss: 0.3480 - accuracy: 0.8778 - val_loss: 0.3638 - val_accuracy: 0.8768\n",
            "Epoch 16/30\n",
            "860/860 [==============================] - 4s 4ms/step - loss: 0.3429 - accuracy: 0.8789 - val_loss: 0.3608 - val_accuracy: 0.8740\n",
            "Epoch 17/30\n",
            "860/860 [==============================] - 4s 4ms/step - loss: 0.3367 - accuracy: 0.8805 - val_loss: 0.3702 - val_accuracy: 0.8756\n",
            "Epoch 18/30\n",
            "860/860 [==============================] - 4s 4ms/step - loss: 0.3332 - accuracy: 0.8809 - val_loss: 0.3556 - val_accuracy: 0.8792\n",
            "Epoch 19/30\n",
            "860/860 [==============================] - 4s 4ms/step - loss: 0.3286 - accuracy: 0.8837 - val_loss: 0.3477 - val_accuracy: 0.8748\n",
            "Epoch 20/30\n",
            "860/860 [==============================] - 4s 4ms/step - loss: 0.3232 - accuracy: 0.8852 - val_loss: 0.3408 - val_accuracy: 0.8770\n",
            "Epoch 21/30\n",
            "860/860 [==============================] - 4s 4ms/step - loss: 0.3191 - accuracy: 0.8865 - val_loss: 0.3465 - val_accuracy: 0.8796\n",
            "Epoch 22/30\n",
            "860/860 [==============================] - 4s 4ms/step - loss: 0.3147 - accuracy: 0.8881 - val_loss: 0.3429 - val_accuracy: 0.8814\n",
            "Epoch 23/30\n",
            "860/860 [==============================] - 4s 4ms/step - loss: 0.3116 - accuracy: 0.8897 - val_loss: 0.3419 - val_accuracy: 0.8828\n",
            "Epoch 24/30\n",
            "860/860 [==============================] - 4s 4ms/step - loss: 0.3076 - accuracy: 0.8906 - val_loss: 0.3404 - val_accuracy: 0.8826\n",
            "Epoch 25/30\n",
            "860/860 [==============================] - 4s 4ms/step - loss: 0.3031 - accuracy: 0.8908 - val_loss: 0.3750 - val_accuracy: 0.8658\n",
            "Epoch 26/30\n",
            "860/860 [==============================] - 4s 4ms/step - loss: 0.2999 - accuracy: 0.8943 - val_loss: 0.3230 - val_accuracy: 0.8850\n",
            "Epoch 27/30\n",
            "860/860 [==============================] - 4s 4ms/step - loss: 0.2965 - accuracy: 0.8941 - val_loss: 0.3309 - val_accuracy: 0.8836\n",
            "Epoch 28/30\n",
            "860/860 [==============================] - 4s 5ms/step - loss: 0.2926 - accuracy: 0.8965 - val_loss: 0.3247 - val_accuracy: 0.8850\n",
            "Epoch 29/30\n",
            "860/860 [==============================] - 4s 4ms/step - loss: 0.2895 - accuracy: 0.8963 - val_loss: 0.3312 - val_accuracy: 0.8852\n",
            "Epoch 30/30\n",
            "860/860 [==============================] - 4s 4ms/step - loss: 0.2864 - accuracy: 0.8989 - val_loss: 0.3130 - val_accuracy: 0.8882\n"
          ],
          "name": "stdout"
        },
        {
          "output_type": "display_data",
          "data": {
            "image/png": "[encoded data removed]",
            "text/plain": [
              "<Figure size 576x360 with 1 Axes>"
            ]
          },
          "metadata": {
            "tags": [],
            "needs_background": "light"
          }
        }
      ]
    },
    {
      "cell_type": "code",
      "metadata": {
        "id": "0M0-VMyysQvU",
        "colab": {
          "base_uri": "https://localhost:8080/",
          "height": 1000
        },
        "outputId": "3fa5cec3-9879-4524-9651-a99c9c524a94"
      },
      "source": [
        "#Question 2\n",
        "#using batch size=100\n",
        "\n",
        "K.clear_session() \n",
        "model_3=build_model()\n",
        "model_3.compile(loss=\"sparse_categorical_crossentropy\",\n",
        "              optimizer=\"sgd\",\n",
        "              metrics=[\"accuracy\"])\n",
        "history_3 = model_3.fit(X_train, y_train, batch_size=100, epochs=30,\n",
        "                    validation_data=(X_valid, y_valid))\n",
        "history_3.history.keys()\n",
        "\n",
        "\n",
        "pd.DataFrame(history_3.history).plot(figsize=(8, 5))\n",
        "plt.grid(True)\n",
        "plt.gca().set_ylim(0, 1)\n",
        "plt.show()\n"
      ],
      "execution_count": 37,
      "outputs": [
        {
          "output_type": "stream",
          "text": [
            "Epoch 1/30\n",
            "550/550 [==============================] - 3s 5ms/step - loss: 0.9754 - accuracy: 0.6982 - val_loss: 0.6465 - val_accuracy: 0.7946\n",
            "Epoch 2/30\n",
            "550/550 [==============================] - 3s 5ms/step - loss: 0.5960 - accuracy: 0.8038 - val_loss: 0.5441 - val_accuracy: 0.8190\n",
            "Epoch 3/30\n",
            "550/550 [==============================] - 3s 5ms/step - loss: 0.5244 - accuracy: 0.8231 - val_loss: 0.4824 - val_accuracy: 0.8388\n",
            "Epoch 4/30\n",
            "550/550 [==============================] - 3s 5ms/step - loss: 0.4888 - accuracy: 0.8331 - val_loss: 0.4577 - val_accuracy: 0.8470\n",
            "Epoch 5/30\n",
            "550/550 [==============================] - 3s 5ms/step - loss: 0.4642 - accuracy: 0.8399 - val_loss: 0.4632 - val_accuracy: 0.8398\n",
            "Epoch 6/30\n",
            "550/550 [==============================] - 3s 5ms/step - loss: 0.4478 - accuracy: 0.8439 - val_loss: 0.4347 - val_accuracy: 0.8518\n",
            "Epoch 7/30\n",
            "550/550 [==============================] - 3s 5ms/step - loss: 0.4335 - accuracy: 0.8493 - val_loss: 0.4224 - val_accuracy: 0.8568\n",
            "Epoch 8/30\n",
            "550/550 [==============================] - 3s 5ms/step - loss: 0.4231 - accuracy: 0.8535 - val_loss: 0.4201 - val_accuracy: 0.8524\n",
            "Epoch 9/30\n",
            "550/550 [==============================] - 3s 5ms/step - loss: 0.4125 - accuracy: 0.8567 - val_loss: 0.4031 - val_accuracy: 0.8616\n",
            "Epoch 10/30\n",
            "550/550 [==============================] - 3s 5ms/step - loss: 0.4054 - accuracy: 0.8583 - val_loss: 0.3984 - val_accuracy: 0.8658\n",
            "Epoch 11/30\n",
            "550/550 [==============================] - 3s 5ms/step - loss: 0.3980 - accuracy: 0.8606 - val_loss: 0.3894 - val_accuracy: 0.8678\n",
            "Epoch 12/30\n",
            "550/550 [==============================] - 3s 5ms/step - loss: 0.3897 - accuracy: 0.8643 - val_loss: 0.3832 - val_accuracy: 0.8676\n",
            "Epoch 13/30\n",
            "550/550 [==============================] - 3s 5ms/step - loss: 0.3832 - accuracy: 0.8662 - val_loss: 0.3830 - val_accuracy: 0.8716\n",
            "Epoch 14/30\n",
            "550/550 [==============================] - 3s 5ms/step - loss: 0.3782 - accuracy: 0.8681 - val_loss: 0.3821 - val_accuracy: 0.8684\n",
            "Epoch 15/30\n",
            "550/550 [==============================] - 3s 5ms/step - loss: 0.3737 - accuracy: 0.8690 - val_loss: 0.3802 - val_accuracy: 0.8686\n",
            "Epoch 16/30\n",
            "550/550 [==============================] - 3s 5ms/step - loss: 0.3677 - accuracy: 0.8714 - val_loss: 0.3658 - val_accuracy: 0.8726\n",
            "Epoch 17/30\n",
            "550/550 [==============================] - 3s 5ms/step - loss: 0.3633 - accuracy: 0.8721 - val_loss: 0.3623 - val_accuracy: 0.8734\n",
            "Epoch 18/30\n",
            "550/550 [==============================] - 3s 5ms/step - loss: 0.3589 - accuracy: 0.8746 - val_loss: 0.3690 - val_accuracy: 0.8704\n",
            "Epoch 19/30\n",
            "550/550 [==============================] - 3s 5ms/step - loss: 0.3540 - accuracy: 0.8756 - val_loss: 0.3599 - val_accuracy: 0.8788\n",
            "Epoch 20/30\n",
            "550/550 [==============================] - 3s 5ms/step - loss: 0.3500 - accuracy: 0.8783 - val_loss: 0.3605 - val_accuracy: 0.8728\n",
            "Epoch 21/30\n",
            "550/550 [==============================] - 3s 5ms/step - loss: 0.3464 - accuracy: 0.8797 - val_loss: 0.3549 - val_accuracy: 0.8756\n",
            "Epoch 22/30\n",
            "550/550 [==============================] - 3s 5ms/step - loss: 0.3432 - accuracy: 0.8802 - val_loss: 0.3625 - val_accuracy: 0.8744\n",
            "Epoch 23/30\n",
            "550/550 [==============================] - 3s 5ms/step - loss: 0.3380 - accuracy: 0.8808 - val_loss: 0.3669 - val_accuracy: 0.8706\n",
            "Epoch 24/30\n",
            "550/550 [==============================] - 3s 5ms/step - loss: 0.3346 - accuracy: 0.8825 - val_loss: 0.3485 - val_accuracy: 0.8784\n",
            "Epoch 25/30\n",
            "550/550 [==============================] - 3s 5ms/step - loss: 0.3312 - accuracy: 0.8831 - val_loss: 0.3615 - val_accuracy: 0.8704\n",
            "Epoch 26/30\n",
            "550/550 [==============================] - 3s 5ms/step - loss: 0.3285 - accuracy: 0.8843 - val_loss: 0.3442 - val_accuracy: 0.8786\n",
            "Epoch 27/30\n",
            "550/550 [==============================] - 3s 5ms/step - loss: 0.3248 - accuracy: 0.8847 - val_loss: 0.3433 - val_accuracy: 0.8828\n",
            "Epoch 28/30\n",
            "550/550 [==============================] - 3s 5ms/step - loss: 0.3225 - accuracy: 0.8852 - val_loss: 0.3401 - val_accuracy: 0.8834\n",
            "Epoch 29/30\n",
            "550/550 [==============================] - 3s 5ms/step - loss: 0.3189 - accuracy: 0.8865 - val_loss: 0.3435 - val_accuracy: 0.8768\n",
            "Epoch 30/30\n",
            "550/550 [==============================] - 3s 5ms/step - loss: 0.3149 - accuracy: 0.8891 - val_loss: 0.3330 - val_accuracy: 0.8836\n"
          ],
          "name": "stdout"
        },
        {
          "output_type": "display_data",
          "data": {
            "image/png": "[encoded data removed]",
            "text/plain": [
              "<Figure size 576x360 with 1 Axes>"
            ]
          },
          "metadata": {
            "tags": [],
            "needs_background": "light"
          }
        }
      ]
    },
    {
      "cell_type": "code",
      "metadata": {
        "id": "fXucrJLlsuGJ",
        "colab": {
          "base_uri": "https://localhost:8080/",
          "height": 1000
        },
        "outputId": "39d4ce91-5e3a-4ba4-d713-677b097509b0"
      },
      "source": [
        "#Question 2\n",
        "#using batch size=20\n",
        "\n",
        "K.clear_session() \n",
        "model_4=build_model()\n",
        "model_4.compile(loss=\"sparse_categorical_crossentropy\",optimizer=\"sgd\", metrics=[\"accuracy\"])\n",
        "history_4 = model_4.fit(X_train, y_train, batch_size=20, epochs=30,validation_data=(X_valid, y_valid))\n",
        "history_4.history.keys()\n",
        "pd.DataFrame(history_4.history).plot(figsize=(8, 5))\n",
        "plt.grid(True)\n",
        "plt.gca().set_ylim(0, 1)\n",
        "plt.show()\n"
      ],
      "execution_count": 38,
      "outputs": [
        {
          "output_type": "stream",
          "text": [
            "Epoch 1/30\n",
            "2750/2750 [==============================] - 7s 3ms/step - loss: 0.6654 - accuracy: 0.7765 - val_loss: 0.4928 - val_accuracy: 0.8332\n",
            "Epoch 2/30\n",
            "2750/2750 [==============================] - 7s 3ms/step - loss: 0.4659 - accuracy: 0.8366 - val_loss: 0.4236 - val_accuracy: 0.8554\n",
            "Epoch 3/30\n",
            "2750/2750 [==============================] - 8s 3ms/step - loss: 0.4214 - accuracy: 0.8519 - val_loss: 0.4177 - val_accuracy: 0.8570\n",
            "Epoch 4/30\n",
            "2750/2750 [==============================] - 8s 3ms/step - loss: 0.3931 - accuracy: 0.8595 - val_loss: 0.3663 - val_accuracy: 0.8746\n",
            "Epoch 5/30\n",
            "2750/2750 [==============================] - 8s 3ms/step - loss: 0.3719 - accuracy: 0.8672 - val_loss: 0.3573 - val_accuracy: 0.8770\n",
            "Epoch 6/30\n",
            "2750/2750 [==============================] - 8s 3ms/step - loss: 0.3546 - accuracy: 0.8742 - val_loss: 0.3647 - val_accuracy: 0.8736\n",
            "Epoch 7/30\n",
            "2750/2750 [==============================] - 8s 3ms/step - loss: 0.3396 - accuracy: 0.8783 - val_loss: 0.3417 - val_accuracy: 0.8810\n",
            "Epoch 8/30\n",
            "2750/2750 [==============================] - 8s 3ms/step - loss: 0.3266 - accuracy: 0.8832 - val_loss: 0.3345 - val_accuracy: 0.8822\n",
            "Epoch 9/30\n",
            "2750/2750 [==============================] - 7s 3ms/step - loss: 0.3154 - accuracy: 0.8868 - val_loss: 0.3234 - val_accuracy: 0.8812\n",
            "Epoch 10/30\n",
            "2750/2750 [==============================] - 8s 3ms/step - loss: 0.3051 - accuracy: 0.8904 - val_loss: 0.3224 - val_accuracy: 0.8862\n",
            "Epoch 11/30\n",
            "2750/2750 [==============================] - 8s 3ms/step - loss: 0.2973 - accuracy: 0.8925 - val_loss: 0.3207 - val_accuracy: 0.8874\n",
            "Epoch 12/30\n",
            "2750/2750 [==============================] - 7s 3ms/step - loss: 0.2896 - accuracy: 0.8945 - val_loss: 0.3317 - val_accuracy: 0.8834\n",
            "Epoch 13/30\n",
            "2750/2750 [==============================] - 7s 3ms/step - loss: 0.2804 - accuracy: 0.8980 - val_loss: 0.3157 - val_accuracy: 0.8890\n",
            "Epoch 14/30\n",
            "2750/2750 [==============================] - 8s 3ms/step - loss: 0.2729 - accuracy: 0.9011 - val_loss: 0.3116 - val_accuracy: 0.8878\n",
            "Epoch 15/30\n",
            "2750/2750 [==============================] - 8s 3ms/step - loss: 0.2662 - accuracy: 0.9040 - val_loss: 0.3134 - val_accuracy: 0.8860\n",
            "Epoch 16/30\n",
            "2750/2750 [==============================] - 7s 3ms/step - loss: 0.2603 - accuracy: 0.9065 - val_loss: 0.3164 - val_accuracy: 0.8826\n",
            "Epoch 17/30\n",
            "2750/2750 [==============================] - 8s 3ms/step - loss: 0.2538 - accuracy: 0.9085 - val_loss: 0.3003 - val_accuracy: 0.8904\n",
            "Epoch 18/30\n",
            "2750/2750 [==============================] - 10s 4ms/step - loss: 0.2484 - accuracy: 0.9110 - val_loss: 0.3296 - val_accuracy: 0.8812\n",
            "Epoch 19/30\n",
            "2750/2750 [==============================] - 12s 4ms/step - loss: 0.2439 - accuracy: 0.9124 - val_loss: 0.2948 - val_accuracy: 0.8924\n",
            "Epoch 20/30\n",
            "2750/2750 [==============================] - 8s 3ms/step - loss: 0.2381 - accuracy: 0.9141 - val_loss: 0.3065 - val_accuracy: 0.8878\n",
            "Epoch 21/30\n",
            "2750/2750 [==============================] - 7s 3ms/step - loss: 0.2334 - accuracy: 0.9155 - val_loss: 0.3049 - val_accuracy: 0.8928\n",
            "Epoch 22/30\n",
            "2750/2750 [==============================] - 7s 3ms/step - loss: 0.2275 - accuracy: 0.9177 - val_loss: 0.2997 - val_accuracy: 0.8908\n",
            "Epoch 23/30\n",
            "2750/2750 [==============================] - 7s 3ms/step - loss: 0.2226 - accuracy: 0.9191 - val_loss: 0.3000 - val_accuracy: 0.8916\n",
            "Epoch 24/30\n",
            "2750/2750 [==============================] - 7s 3ms/step - loss: 0.2180 - accuracy: 0.9213 - val_loss: 0.2909 - val_accuracy: 0.8976\n",
            "Epoch 25/30\n",
            "2750/2750 [==============================] - 8s 3ms/step - loss: 0.2136 - accuracy: 0.9229 - val_loss: 0.3004 - val_accuracy: 0.8882\n",
            "Epoch 26/30\n",
            "2750/2750 [==============================] - 7s 3ms/step - loss: 0.2091 - accuracy: 0.9237 - val_loss: 0.2890 - val_accuracy: 0.8918\n",
            "Epoch 27/30\n",
            "2750/2750 [==============================] - 7s 3ms/step - loss: 0.2050 - accuracy: 0.9261 - val_loss: 0.2899 - val_accuracy: 0.8958\n",
            "Epoch 28/30\n",
            "2750/2750 [==============================] - 7s 3ms/step - loss: 0.1996 - accuracy: 0.9282 - val_loss: 0.2944 - val_accuracy: 0.8940\n",
            "Epoch 29/30\n",
            "2750/2750 [==============================] - 7s 3ms/step - loss: 0.1966 - accuracy: 0.9287 - val_loss: 0.2997 - val_accuracy: 0.8914\n",
            "Epoch 30/30\n",
            "2750/2750 [==============================] - 7s 3ms/step - loss: 0.1924 - accuracy: 0.9305 - val_loss: 0.2932 - val_accuracy: 0.8956\n"
          ],
          "name": "stdout"
        },
        {
          "output_type": "display_data",
          "data": {
            "image/png": "[encoded data removed]",
            "text/plain": [
              "<Figure size 576x360 with 1 Axes>"
            ]
          },
          "metadata": {
            "tags": [],
            "needs_background": "light"
          }
        }
      ]
    },
    {
      "cell_type": "code",
      "metadata": {
        "id": "lj2s0MLtuTre",
        "colab": {
          "base_uri": "https://localhost:8080/",
          "height": 1000
        },
        "outputId": "e7cd664a-059a-454a-9118-da3010aba786"
      },
      "source": [
        "#Question 3\n",
        "#using batch size=32 and  number of epochs=20\n",
        "K.clear_session() \n",
        "modela=build_model()\n",
        "modela.compile(loss=\"sparse_categorical_crossentropy\",optimizer=\"sgd\",metrics=[\"accuracy\"])\n",
        "historya = modela.fit(X_train, y_train, batch_size=32, epochs=20,validation_data=(X_valid, y_valid))\n",
        "historya.history.keys()\n",
        "\n",
        "pd.DataFrame(historya.history).plot(figsize=(8, 5))\n",
        "plt.grid(True)\n",
        "plt.gca().set_ylim(0, 1)\n",
        "plt.show()\n"
      ],
      "execution_count": 39,
      "outputs": [
        {
          "output_type": "stream",
          "text": [
            "Epoch 1/20\n",
            "1719/1719 [==============================] - 5s 3ms/step - loss: 0.7179 - accuracy: 0.7659 - val_loss: 0.5016 - val_accuracy: 0.8334\n",
            "Epoch 2/20\n",
            "1719/1719 [==============================] - 5s 3ms/step - loss: 0.4869 - accuracy: 0.8303 - val_loss: 0.4920 - val_accuracy: 0.8330\n",
            "Epoch 3/20\n",
            "1719/1719 [==============================] - 5s 3ms/step - loss: 0.4421 - accuracy: 0.8451 - val_loss: 0.4149 - val_accuracy: 0.8530\n",
            "Epoch 4/20\n",
            "1719/1719 [==============================] - 5s 3ms/step - loss: 0.4149 - accuracy: 0.8546 - val_loss: 0.4016 - val_accuracy: 0.8656\n",
            "Epoch 5/20\n",
            "1719/1719 [==============================] - 5s 3ms/step - loss: 0.3942 - accuracy: 0.8615 - val_loss: 0.3868 - val_accuracy: 0.8664\n",
            "Epoch 6/20\n",
            "1719/1719 [==============================] - 5s 3ms/step - loss: 0.3776 - accuracy: 0.8653 - val_loss: 0.3911 - val_accuracy: 0.8610\n",
            "Epoch 7/20\n",
            "1719/1719 [==============================] - 5s 3ms/step - loss: 0.3640 - accuracy: 0.8700 - val_loss: 0.3582 - val_accuracy: 0.8750\n",
            "Epoch 8/20\n",
            "1719/1719 [==============================] - 5s 3ms/step - loss: 0.3525 - accuracy: 0.8751 - val_loss: 0.3556 - val_accuracy: 0.8790\n",
            "Epoch 9/20\n",
            "1719/1719 [==============================] - 5s 3ms/step - loss: 0.3429 - accuracy: 0.8794 - val_loss: 0.3538 - val_accuracy: 0.8736\n",
            "Epoch 10/20\n",
            "1719/1719 [==============================] - 5s 3ms/step - loss: 0.3340 - accuracy: 0.8808 - val_loss: 0.3578 - val_accuracy: 0.8750\n",
            "Epoch 11/20\n",
            "1719/1719 [==============================] - 5s 3ms/step - loss: 0.3247 - accuracy: 0.8845 - val_loss: 0.3526 - val_accuracy: 0.8720\n",
            "Epoch 12/20\n",
            "1719/1719 [==============================] - 5s 3ms/step - loss: 0.3176 - accuracy: 0.8868 - val_loss: 0.3437 - val_accuracy: 0.8754\n",
            "Epoch 13/20\n",
            "1719/1719 [==============================] - 5s 3ms/step - loss: 0.3091 - accuracy: 0.8899 - val_loss: 0.3292 - val_accuracy: 0.8824\n",
            "Epoch 14/20\n",
            "1719/1719 [==============================] - 5s 3ms/step - loss: 0.3020 - accuracy: 0.8919 - val_loss: 0.3337 - val_accuracy: 0.8780\n",
            "Epoch 15/20\n",
            "1719/1719 [==============================] - 5s 3ms/step - loss: 0.2961 - accuracy: 0.8938 - val_loss: 0.3283 - val_accuracy: 0.8816\n",
            "Epoch 16/20\n",
            "1719/1719 [==============================] - 5s 3ms/step - loss: 0.2902 - accuracy: 0.8958 - val_loss: 0.3150 - val_accuracy: 0.8872\n",
            "Epoch 17/20\n",
            "1719/1719 [==============================] - 5s 3ms/step - loss: 0.2852 - accuracy: 0.8971 - val_loss: 0.3205 - val_accuracy: 0.8870\n",
            "Epoch 18/20\n",
            "1719/1719 [==============================] - 5s 3ms/step - loss: 0.2792 - accuracy: 0.8990 - val_loss: 0.3177 - val_accuracy: 0.8844\n",
            "Epoch 19/20\n",
            "1719/1719 [==============================] - 5s 3ms/step - loss: 0.2737 - accuracy: 0.9016 - val_loss: 0.3430 - val_accuracy: 0.8790\n",
            "Epoch 20/20\n",
            "1719/1719 [==============================] - 5s 3ms/step - loss: 0.2683 - accuracy: 0.9029 - val_loss: 0.3244 - val_accuracy: 0.8830\n"
          ],
          "name": "stdout"
        },
        {
          "output_type": "display_data",
          "data": {
            "image/png": "[encoded data removed]",
            "text/plain": [
              "<Figure size 576x360 with 1 Axes>"
            ]
          },
          "metadata": {
            "tags": [],
            "needs_background": "light"
          }
        }
      ]
    },
    {
      "cell_type": "code",
      "metadata": {
        "id": "Gywc--FSukR7",
        "colab": {
          "base_uri": "https://localhost:8080/",
          "height": 668
        },
        "outputId": "91e3025e-f715-44f4-8abd-135fbf7c1363"
      },
      "source": [
        "#Question 3\n",
        "#using batch size=32 and  number of epochs=10\n",
        "K.clear_session() \n",
        "modelb=build_model()\n",
        "modelb.compile(loss=\"sparse_categorical_crossentropy\",optimizer=\"sgd\",metrics=[\"accuracy\"])\n",
        "historyb = modelb.fit(X_train, y_train, batch_size=32, epochs=10,validation_data=(X_valid, y_valid))\n",
        "historyb.history.keys()\n",
        "pd.DataFrame(historyb.history).plot(figsize=(8, 5))\n",
        "plt.grid(True)\n",
        "plt.gca().set_ylim(0, 1)\n",
        "plt.show()\n"
      ],
      "execution_count": 40,
      "outputs": [
        {
          "output_type": "stream",
          "text": [
            "Epoch 1/10\n",
            "1719/1719 [==============================] - 5s 3ms/step - loss: 0.7179 - accuracy: 0.7661 - val_loss: 0.5189 - val_accuracy: 0.8240\n",
            "Epoch 2/10\n",
            "1719/1719 [==============================] - 5s 3ms/step - loss: 0.4884 - accuracy: 0.8284 - val_loss: 0.4646 - val_accuracy: 0.8436\n",
            "Epoch 3/10\n",
            "1719/1719 [==============================] - 6s 3ms/step - loss: 0.4446 - accuracy: 0.8432 - val_loss: 0.4496 - val_accuracy: 0.8336\n",
            "Epoch 4/10\n",
            "1719/1719 [==============================] - 5s 3ms/step - loss: 0.4176 - accuracy: 0.8534 - val_loss: 0.4034 - val_accuracy: 0.8634\n",
            "Epoch 5/10\n",
            "1719/1719 [==============================] - 5s 3ms/step - loss: 0.3974 - accuracy: 0.8595 - val_loss: 0.3903 - val_accuracy: 0.8630\n",
            "Epoch 6/10\n",
            "1719/1719 [==============================] - 6s 3ms/step - loss: 0.3817 - accuracy: 0.8658 - val_loss: 0.3951 - val_accuracy: 0.8618\n",
            "Epoch 7/10\n",
            "1719/1719 [==============================] - 6s 3ms/step - loss: 0.3682 - accuracy: 0.8699 - val_loss: 0.3879 - val_accuracy: 0.8642\n",
            "Epoch 8/10\n",
            "1719/1719 [==============================] - 5s 3ms/step - loss: 0.3554 - accuracy: 0.8750 - val_loss: 0.3655 - val_accuracy: 0.8740\n",
            "Epoch 9/10\n",
            "1719/1719 [==============================] - 5s 3ms/step - loss: 0.3451 - accuracy: 0.8769 - val_loss: 0.3453 - val_accuracy: 0.8768\n",
            "Epoch 10/10\n",
            "1719/1719 [==============================] - 5s 3ms/step - loss: 0.3357 - accuracy: 0.8802 - val_loss: 0.3795 - val_accuracy: 0.8656\n"
          ],
          "name": "stdout"
        },
        {
          "output_type": "display_data",
          "data": {
            "image/png": "[encoded data removed]",
            "text/plain": [
              "<Figure size 576x360 with 1 Axes>"
            ]
          },
          "metadata": {
            "tags": [],
            "needs_background": "light"
          }
        }
      ]
    },
    {
      "cell_type": "code",
      "metadata": {
        "id": "pcj7wrf3PAMR",
        "colab": {
          "base_uri": "https://localhost:8080/",
          "height": 1000
        },
        "outputId": "29910aa3-b613-4407-b7bf-331d9b1618c2"
      },
      "source": [
        "#Question 3\n",
        "#using batch size=32 and  number of epochs=100\n",
        "K.clear_session() \n",
        "modelc=build_model()\n",
        "modelc.compile(loss=\"sparse_categorical_crossentropy\",optimizer=\"sgd\",metrics=[\"accuracy\"])\n",
        "historyc = modelc.fit(X_train, y_train, batch_size=32, epochs=100,validation_data=(X_valid, y_valid))\n",
        "historyc.history.keys()\n",
        "pd.DataFrame(historyc.history).plot(figsize=(8, 5))\n",
        "plt.grid(True)\n",
        "plt.gca().set_ylim(0, 1)\n",
        "plt.show()"
      ],
      "execution_count": 41,
      "outputs": [
        {
          "output_type": "stream",
          "text": [
            "Epoch 1/100\n",
            "1719/1719 [==============================] - 5s 3ms/step - loss: 0.7213 - accuracy: 0.7644 - val_loss: 0.5116 - val_accuracy: 0.8276\n",
            "Epoch 2/100\n",
            "1719/1719 [==============================] - 5s 3ms/step - loss: 0.4907 - accuracy: 0.8283 - val_loss: 0.4743 - val_accuracy: 0.8342\n",
            "Epoch 3/100\n",
            "1719/1719 [==============================] - 5s 3ms/step - loss: 0.4466 - accuracy: 0.8433 - val_loss: 0.4270 - val_accuracy: 0.8544\n",
            "Epoch 4/100\n",
            "1719/1719 [==============================] - 5s 3ms/step - loss: 0.4200 - accuracy: 0.8508 - val_loss: 0.4057 - val_accuracy: 0.8564\n",
            "Epoch 5/100\n",
            "1719/1719 [==============================] - 5s 3ms/step - loss: 0.4004 - accuracy: 0.8598 - val_loss: 0.3872 - val_accuracy: 0.8674\n",
            "Epoch 6/100\n",
            "1719/1719 [==============================] - 5s 3ms/step - loss: 0.3844 - accuracy: 0.8649 - val_loss: 0.3804 - val_accuracy: 0.8688\n",
            "Epoch 7/100\n",
            "1719/1719 [==============================] - 5s 3ms/step - loss: 0.3704 - accuracy: 0.8695 - val_loss: 0.3969 - val_accuracy: 0.8598\n",
            "Epoch 8/100\n",
            "1719/1719 [==============================] - 5s 3ms/step - loss: 0.3578 - accuracy: 0.8735 - val_loss: 0.3857 - val_accuracy: 0.8658\n",
            "Epoch 9/100\n",
            "1719/1719 [==============================] - 5s 3ms/step - loss: 0.3460 - accuracy: 0.8777 - val_loss: 0.3512 - val_accuracy: 0.8736\n",
            "Epoch 10/100\n",
            "1719/1719 [==============================] - 5s 3ms/step - loss: 0.3369 - accuracy: 0.8801 - val_loss: 0.3491 - val_accuracy: 0.8780\n",
            "Epoch 11/100\n",
            "1719/1719 [==============================] - 5s 3ms/step - loss: 0.3289 - accuracy: 0.8840 - val_loss: 0.3369 - val_accuracy: 0.8830\n",
            "Epoch 12/100\n",
            "1719/1719 [==============================] - 5s 3ms/step - loss: 0.3201 - accuracy: 0.8861 - val_loss: 0.3391 - val_accuracy: 0.8812\n",
            "Epoch 13/100\n",
            "1719/1719 [==============================] - 5s 3ms/step - loss: 0.3136 - accuracy: 0.8882 - val_loss: 0.3317 - val_accuracy: 0.8822\n",
            "Epoch 14/100\n",
            "1719/1719 [==============================] - 5s 3ms/step - loss: 0.3073 - accuracy: 0.8896 - val_loss: 0.3228 - val_accuracy: 0.8848\n",
            "Epoch 15/100\n",
            "1719/1719 [==============================] - 5s 3ms/step - loss: 0.2998 - accuracy: 0.8928 - val_loss: 0.3298 - val_accuracy: 0.8802\n",
            "Epoch 16/100\n",
            "1719/1719 [==============================] - 5s 3ms/step - loss: 0.2926 - accuracy: 0.8947 - val_loss: 0.3227 - val_accuracy: 0.8862\n",
            "Epoch 17/100\n",
            "1719/1719 [==============================] - 5s 3ms/step - loss: 0.2872 - accuracy: 0.8961 - val_loss: 0.3230 - val_accuracy: 0.8868\n",
            "Epoch 18/100\n",
            "1719/1719 [==============================] - 5s 3ms/step - loss: 0.2826 - accuracy: 0.8980 - val_loss: 0.3132 - val_accuracy: 0.8894\n",
            "Epoch 19/100\n",
            "1719/1719 [==============================] - 5s 3ms/step - loss: 0.2771 - accuracy: 0.9000 - val_loss: 0.3175 - val_accuracy: 0.8878\n",
            "Epoch 20/100\n",
            "1719/1719 [==============================] - 5s 3ms/step - loss: 0.2715 - accuracy: 0.9025 - val_loss: 0.3080 - val_accuracy: 0.8920\n",
            "Epoch 21/100\n",
            "1719/1719 [==============================] - 5s 3ms/step - loss: 0.2663 - accuracy: 0.9039 - val_loss: 0.3101 - val_accuracy: 0.8908\n",
            "Epoch 22/100\n",
            "1719/1719 [==============================] - 5s 3ms/step - loss: 0.2605 - accuracy: 0.9065 - val_loss: 0.3032 - val_accuracy: 0.8948\n",
            "Epoch 23/100\n",
            "1719/1719 [==============================] - 5s 3ms/step - loss: 0.2563 - accuracy: 0.9082 - val_loss: 0.3115 - val_accuracy: 0.8912\n",
            "Epoch 24/100\n",
            "1719/1719 [==============================] - 5s 3ms/step - loss: 0.2521 - accuracy: 0.9094 - val_loss: 0.3001 - val_accuracy: 0.8982\n",
            "Epoch 25/100\n",
            "1719/1719 [==============================] - 5s 3ms/step - loss: 0.2471 - accuracy: 0.9118 - val_loss: 0.3008 - val_accuracy: 0.8902\n",
            "Epoch 26/100\n",
            "1719/1719 [==============================] - 5s 3ms/step - loss: 0.2441 - accuracy: 0.9105 - val_loss: 0.3198 - val_accuracy: 0.8828\n",
            "Epoch 27/100\n",
            "1719/1719 [==============================] - 5s 3ms/step - loss: 0.2398 - accuracy: 0.9143 - val_loss: 0.3050 - val_accuracy: 0.8882\n",
            "Epoch 28/100\n",
            "1719/1719 [==============================] - 5s 3ms/step - loss: 0.2360 - accuracy: 0.9151 - val_loss: 0.2994 - val_accuracy: 0.8924\n",
            "Epoch 29/100\n",
            "1719/1719 [==============================] - 5s 3ms/step - loss: 0.2315 - accuracy: 0.9168 - val_loss: 0.3045 - val_accuracy: 0.8916\n",
            "Epoch 30/100\n",
            "1719/1719 [==============================] - 5s 3ms/step - loss: 0.2269 - accuracy: 0.9191 - val_loss: 0.2975 - val_accuracy: 0.8978\n",
            "Epoch 31/100\n",
            "1719/1719 [==============================] - 5s 3ms/step - loss: 0.2263 - accuracy: 0.9197 - val_loss: 0.2970 - val_accuracy: 0.8936\n",
            "Epoch 32/100\n",
            "1719/1719 [==============================] - 5s 3ms/step - loss: 0.2204 - accuracy: 0.9200 - val_loss: 0.3111 - val_accuracy: 0.8890\n",
            "Epoch 33/100\n",
            "1719/1719 [==============================] - 5s 3ms/step - loss: 0.2171 - accuracy: 0.9221 - val_loss: 0.2918 - val_accuracy: 0.8938\n",
            "Epoch 34/100\n",
            "1719/1719 [==============================] - 5s 3ms/step - loss: 0.2136 - accuracy: 0.9232 - val_loss: 0.3016 - val_accuracy: 0.8916\n",
            "Epoch 35/100\n",
            "1719/1719 [==============================] - 5s 3ms/step - loss: 0.2102 - accuracy: 0.9247 - val_loss: 0.3035 - val_accuracy: 0.8902\n",
            "Epoch 36/100\n",
            "1719/1719 [==============================] - 5s 3ms/step - loss: 0.2077 - accuracy: 0.9247 - val_loss: 0.2918 - val_accuracy: 0.8974\n",
            "Epoch 37/100\n",
            "1719/1719 [==============================] - 5s 3ms/step - loss: 0.2033 - accuracy: 0.9266 - val_loss: 0.2852 - val_accuracy: 0.8978\n",
            "Epoch 38/100\n",
            "1719/1719 [==============================] - 5s 3ms/step - loss: 0.1993 - accuracy: 0.9279 - val_loss: 0.2999 - val_accuracy: 0.8940\n",
            "Epoch 39/100\n",
            "1719/1719 [==============================] - 5s 3ms/step - loss: 0.1970 - accuracy: 0.9281 - val_loss: 0.2973 - val_accuracy: 0.8930\n",
            "Epoch 40/100\n",
            "1719/1719 [==============================] - 5s 3ms/step - loss: 0.1939 - accuracy: 0.9300 - val_loss: 0.2853 - val_accuracy: 0.8960\n",
            "Epoch 41/100\n",
            "1719/1719 [==============================] - 5s 3ms/step - loss: 0.1912 - accuracy: 0.9318 - val_loss: 0.2868 - val_accuracy: 0.8960\n",
            "Epoch 42/100\n",
            "1719/1719 [==============================] - 5s 3ms/step - loss: 0.1876 - accuracy: 0.9333 - val_loss: 0.2817 - val_accuracy: 0.8980\n",
            "Epoch 43/100\n",
            "1719/1719 [==============================] - 5s 3ms/step - loss: 0.1851 - accuracy: 0.9342 - val_loss: 0.3279 - val_accuracy: 0.8822\n",
            "Epoch 44/100\n",
            "1719/1719 [==============================] - 5s 3ms/step - loss: 0.1821 - accuracy: 0.9356 - val_loss: 0.3018 - val_accuracy: 0.8930\n",
            "Epoch 45/100\n",
            "1719/1719 [==============================] - 5s 3ms/step - loss: 0.1790 - accuracy: 0.9369 - val_loss: 0.3022 - val_accuracy: 0.8908\n",
            "Epoch 46/100\n",
            "1719/1719 [==============================] - 5s 3ms/step - loss: 0.1768 - accuracy: 0.9365 - val_loss: 0.2958 - val_accuracy: 0.8932\n",
            "Epoch 47/100\n",
            "1719/1719 [==============================] - 5s 3ms/step - loss: 0.1727 - accuracy: 0.9387 - val_loss: 0.3034 - val_accuracy: 0.8894\n",
            "Epoch 48/100\n",
            "1719/1719 [==============================] - 5s 3ms/step - loss: 0.1706 - accuracy: 0.9393 - val_loss: 0.3171 - val_accuracy: 0.8904\n",
            "Epoch 49/100\n",
            "1719/1719 [==============================] - 5s 3ms/step - loss: 0.1681 - accuracy: 0.9402 - val_loss: 0.3014 - val_accuracy: 0.8978\n",
            "Epoch 50/100\n",
            "1719/1719 [==============================] - 5s 3ms/step - loss: 0.1655 - accuracy: 0.9410 - val_loss: 0.2985 - val_accuracy: 0.8948\n",
            "Epoch 51/100\n",
            "1719/1719 [==============================] - 5s 3ms/step - loss: 0.1633 - accuracy: 0.9421 - val_loss: 0.2859 - val_accuracy: 0.8990\n",
            "Epoch 52/100\n",
            "1719/1719 [==============================] - 5s 3ms/step - loss: 0.1609 - accuracy: 0.9421 - val_loss: 0.3266 - val_accuracy: 0.8888\n",
            "Epoch 53/100\n",
            "1719/1719 [==============================] - 5s 3ms/step - loss: 0.1586 - accuracy: 0.9439 - val_loss: 0.3590 - val_accuracy: 0.8816\n",
            "Epoch 54/100\n",
            "1719/1719 [==============================] - 5s 3ms/step - loss: 0.1545 - accuracy: 0.9452 - val_loss: 0.2904 - val_accuracy: 0.9004\n",
            "Epoch 55/100\n",
            "1719/1719 [==============================] - 8s 5ms/step - loss: 0.1529 - accuracy: 0.9455 - val_loss: 0.3037 - val_accuracy: 0.8972\n",
            "Epoch 56/100\n",
            "1719/1719 [==============================] - 6s 4ms/step - loss: 0.1507 - accuracy: 0.9468 - val_loss: 0.3251 - val_accuracy: 0.8912\n",
            "Epoch 57/100\n",
            "1719/1719 [==============================] - 6s 3ms/step - loss: 0.1479 - accuracy: 0.9479 - val_loss: 0.3042 - val_accuracy: 0.8968\n",
            "Epoch 58/100\n",
            "1719/1719 [==============================] - 5s 3ms/step - loss: 0.1454 - accuracy: 0.9490 - val_loss: 0.3262 - val_accuracy: 0.8924\n",
            "Epoch 59/100\n",
            "1719/1719 [==============================] - 5s 3ms/step - loss: 0.1437 - accuracy: 0.9496 - val_loss: 0.3241 - val_accuracy: 0.8908\n",
            "Epoch 60/100\n",
            "1719/1719 [==============================] - 5s 3ms/step - loss: 0.1401 - accuracy: 0.9505 - val_loss: 0.2957 - val_accuracy: 0.8978\n",
            "Epoch 61/100\n",
            "1719/1719 [==============================] - 5s 3ms/step - loss: 0.1386 - accuracy: 0.9512 - val_loss: 0.3071 - val_accuracy: 0.8928\n",
            "Epoch 62/100\n",
            "1719/1719 [==============================] - 5s 3ms/step - loss: 0.1362 - accuracy: 0.9519 - val_loss: 0.3338 - val_accuracy: 0.8848\n",
            "Epoch 63/100\n",
            "1719/1719 [==============================] - 5s 3ms/step - loss: 0.1332 - accuracy: 0.9530 - val_loss: 0.2999 - val_accuracy: 0.8954\n",
            "Epoch 64/100\n",
            "1719/1719 [==============================] - 5s 3ms/step - loss: 0.1322 - accuracy: 0.9537 - val_loss: 0.3077 - val_accuracy: 0.8930\n",
            "Epoch 65/100\n",
            "1719/1719 [==============================] - 5s 3ms/step - loss: 0.1288 - accuracy: 0.9552 - val_loss: 0.3267 - val_accuracy: 0.8912\n",
            "Epoch 66/100\n",
            "1719/1719 [==============================] - 5s 3ms/step - loss: 0.1287 - accuracy: 0.9555 - val_loss: 0.3000 - val_accuracy: 0.8972\n",
            "Epoch 67/100\n",
            "1719/1719 [==============================] - 5s 3ms/step - loss: 0.1261 - accuracy: 0.9556 - val_loss: 0.3738 - val_accuracy: 0.8806\n",
            "Epoch 68/100\n",
            "1719/1719 [==============================] - 5s 3ms/step - loss: 0.1242 - accuracy: 0.9571 - val_loss: 0.3268 - val_accuracy: 0.8912\n",
            "Epoch 69/100\n",
            "1719/1719 [==============================] - 5s 3ms/step - loss: 0.1218 - accuracy: 0.9569 - val_loss: 0.3118 - val_accuracy: 0.8982\n",
            "Epoch 70/100\n",
            "1719/1719 [==============================] - 5s 3ms/step - loss: 0.1186 - accuracy: 0.9583 - val_loss: 0.3054 - val_accuracy: 0.8960\n",
            "Epoch 71/100\n",
            "1719/1719 [==============================] - 5s 3ms/step - loss: 0.1180 - accuracy: 0.9591 - val_loss: 0.3198 - val_accuracy: 0.8982\n",
            "Epoch 72/100\n",
            "1719/1719 [==============================] - 5s 3ms/step - loss: 0.1153 - accuracy: 0.9595 - val_loss: 0.3163 - val_accuracy: 0.8982\n",
            "Epoch 73/100\n",
            "1719/1719 [==============================] - 5s 3ms/step - loss: 0.1137 - accuracy: 0.9617 - val_loss: 0.3158 - val_accuracy: 0.8994\n",
            "Epoch 74/100\n",
            "1719/1719 [==============================] - 5s 3ms/step - loss: 0.1121 - accuracy: 0.9613 - val_loss: 0.3296 - val_accuracy: 0.8966\n",
            "Epoch 75/100\n",
            "1719/1719 [==============================] - 5s 3ms/step - loss: 0.1097 - accuracy: 0.9624 - val_loss: 0.3346 - val_accuracy: 0.8934\n",
            "Epoch 76/100\n",
            "1719/1719 [==============================] - 5s 3ms/step - loss: 0.1070 - accuracy: 0.9626 - val_loss: 0.3566 - val_accuracy: 0.8914\n",
            "Epoch 77/100\n",
            "1719/1719 [==============================] - 5s 3ms/step - loss: 0.1068 - accuracy: 0.9632 - val_loss: 0.3475 - val_accuracy: 0.8922\n",
            "Epoch 78/100\n",
            "1719/1719 [==============================] - 5s 3ms/step - loss: 0.1048 - accuracy: 0.9636 - val_loss: 0.3477 - val_accuracy: 0.8936\n",
            "Epoch 79/100\n",
            "1719/1719 [==============================] - 5s 3ms/step - loss: 0.1024 - accuracy: 0.9655 - val_loss: 0.3268 - val_accuracy: 0.8940\n",
            "Epoch 80/100\n",
            "1719/1719 [==============================] - 5s 3ms/step - loss: 0.1013 - accuracy: 0.9650 - val_loss: 0.3585 - val_accuracy: 0.8868\n",
            "Epoch 81/100\n",
            "1719/1719 [==============================] - 5s 3ms/step - loss: 0.0999 - accuracy: 0.9656 - val_loss: 0.3520 - val_accuracy: 0.8942\n",
            "Epoch 82/100\n",
            "1719/1719 [==============================] - 5s 3ms/step - loss: 0.0981 - accuracy: 0.9669 - val_loss: 0.3434 - val_accuracy: 0.8936\n",
            "Epoch 83/100\n",
            "1719/1719 [==============================] - 5s 3ms/step - loss: 0.0963 - accuracy: 0.9668 - val_loss: 0.3349 - val_accuracy: 0.8978\n",
            "Epoch 84/100\n",
            "1719/1719 [==============================] - 5s 3ms/step - loss: 0.0928 - accuracy: 0.9694 - val_loss: 0.3687 - val_accuracy: 0.8928\n",
            "Epoch 85/100\n",
            "1719/1719 [==============================] - 5s 3ms/step - loss: 0.0923 - accuracy: 0.9686 - val_loss: 0.3440 - val_accuracy: 0.8952\n",
            "Epoch 86/100\n",
            "1719/1719 [==============================] - 5s 3ms/step - loss: 0.0905 - accuracy: 0.9693 - val_loss: 0.3352 - val_accuracy: 0.8968\n",
            "Epoch 87/100\n",
            "1719/1719 [==============================] - 5s 3ms/step - loss: 0.0896 - accuracy: 0.9694 - val_loss: 0.3443 - val_accuracy: 0.8954\n",
            "Epoch 88/100\n",
            "1719/1719 [==============================] - 5s 3ms/step - loss: 0.0878 - accuracy: 0.9701 - val_loss: 0.3969 - val_accuracy: 0.8856\n",
            "Epoch 89/100\n",
            "1719/1719 [==============================] - 5s 3ms/step - loss: 0.0862 - accuracy: 0.9706 - val_loss: 0.3365 - val_accuracy: 0.8986\n",
            "Epoch 90/100\n",
            "1719/1719 [==============================] - 5s 3ms/step - loss: 0.0857 - accuracy: 0.9706 - val_loss: 0.3293 - val_accuracy: 0.9010\n",
            "Epoch 91/100\n",
            "1719/1719 [==============================] - 5s 3ms/step - loss: 0.0837 - accuracy: 0.9707 - val_loss: 0.3313 - val_accuracy: 0.8992\n",
            "Epoch 92/100\n",
            "1719/1719 [==============================] - 5s 3ms/step - loss: 0.0811 - accuracy: 0.9728 - val_loss: 0.3665 - val_accuracy: 0.8922\n",
            "Epoch 93/100\n",
            "1719/1719 [==============================] - 5s 3ms/step - loss: 0.0799 - accuracy: 0.9733 - val_loss: 0.3504 - val_accuracy: 0.8930\n",
            "Epoch 94/100\n",
            "1719/1719 [==============================] - 5s 3ms/step - loss: 0.0806 - accuracy: 0.9723 - val_loss: 0.3571 - val_accuracy: 0.8924\n",
            "Epoch 95/100\n",
            "1719/1719 [==============================] - 5s 3ms/step - loss: 0.0781 - accuracy: 0.9739 - val_loss: 0.3432 - val_accuracy: 0.8956\n",
            "Epoch 96/100\n",
            "1719/1719 [==============================] - 5s 3ms/step - loss: 0.0762 - accuracy: 0.9749 - val_loss: 0.3646 - val_accuracy: 0.8960\n",
            "Epoch 97/100\n",
            "1719/1719 [==============================] - 5s 3ms/step - loss: 0.0753 - accuracy: 0.9746 - val_loss: 0.3518 - val_accuracy: 0.8964\n",
            "Epoch 98/100\n",
            "1719/1719 [==============================] - 5s 3ms/step - loss: 0.0739 - accuracy: 0.9752 - val_loss: 0.3397 - val_accuracy: 0.8998\n",
            "Epoch 99/100\n",
            "1719/1719 [==============================] - 5s 3ms/step - loss: 0.0725 - accuracy: 0.9749 - val_loss: 0.3617 - val_accuracy: 0.8964\n",
            "Epoch 100/100\n",
            "1719/1719 [==============================] - 5s 3ms/step - loss: 0.0691 - accuracy: 0.9773 - val_loss: 0.3839 - val_accuracy: 0.8952\n"
          ],
          "name": "stdout"
        },
        {
          "output_type": "display_data",
          "data": {
            "image/png": "[encoded data removed]",
            "text/plain": [
              "<Figure size 576x360 with 1 Axes>"
            ]
          },
          "metadata": {
            "tags": [],
            "needs_background": "light"
          }
        }
      ]
    },
    {
      "cell_type": "code",
      "metadata": {
        "id": "LFtGNvoYo2GV",
        "colab": {
          "base_uri": "https://localhost:8080/"
        },
        "outputId": "1026d748-bdb9-40f4-a5e3-813210067944"
      },
      "source": [
        "#Question 4\n",
        "#Add additional neurons and use Dropout Layer. Plot Learning curves.\n",
        "\n",
        "from keras.layers import Dropout\n",
        "model_dropout = keras.models.Sequential()\n",
        "model_dropout.add(keras.layers.Flatten(input_shape=[28, 28]))\n",
        "model_dropout.add(Dropout(0.5))\n",
        "model_dropout.add(keras.layers.Dense(300, activation=\"relu\"))\n",
        "model_dropout.add(Dropout(0.5))\n",
        "model_dropout.add(keras.layers.Dense(100, activation=\"relu\"))\n",
        "model_dropout.add(Dropout(0.5))\n",
        "model_dropout.add(keras.layers.Dense(10, activation=\"softmax\"))\n",
        "model_dropout.summary()\n"
      ],
      "execution_count": 42,
      "outputs": [
        {
          "output_type": "stream",
          "text": [
            "Model: \"sequential_1\"\n",
            "_________________________________________________________________\n",
            "Layer (type)                 Output Shape              Param #   \n",
            "=================================================================\n",
            "flatten_1 (Flatten)          (None, 784)               0         \n",
            "_________________________________________________________________\n",
            "dropout (Dropout)            (None, 784)               0         \n",
            "_________________________________________________________________\n",
            "dense_3 (Dense)              (None, 300)               235500    \n",
            "_________________________________________________________________\n",
            "dropout_1 (Dropout)          (None, 300)               0         \n",
            "_________________________________________________________________\n",
            "dense_4 (Dense)              (None, 100)               30100     \n",
            "_________________________________________________________________\n",
            "dropout_2 (Dropout)          (None, 100)               0         \n",
            "_________________________________________________________________\n",
            "dense_5 (Dense)              (None, 10)                1010      \n",
            "=================================================================\n",
            "Total params: 266,610\n",
            "Trainable params: 266,610\n",
            "Non-trainable params: 0\n",
            "_________________________________________________________________\n"
          ],
          "name": "stdout"
        }
      ]
    },
    {
      "cell_type": "code",
      "metadata": {
        "id": "wZxhvBghpBQC"
      },
      "source": [
        "model_dropout.compile(loss=\"sparse_categorical_crossentropy\",optimizer=\"sgd\",metrics=[\"accuracy\"])"
      ],
      "execution_count": 43,
      "outputs": []
    },
    {
      "cell_type": "code",
      "metadata": {
        "id": "O7hgqfL5pDqL",
        "colab": {
          "base_uri": "https://localhost:8080/"
        },
        "outputId": "b6f2e7d6-854c-4147-9254-c49bb221af44"
      },
      "source": [
        "\n",
        "history_dropout = model_dropout.fit(X_train, y_train, batch_size=32, epochs=30,validation_data=(X_valid, y_valid))"
      ],
      "execution_count": 44,
      "outputs": [
        {
          "output_type": "stream",
          "text": [
            "Epoch 1/30\n",
            "1719/1719 [==============================] - 6s 3ms/step - loss: 1.3434 - accuracy: 0.4953 - val_loss: 0.7620 - val_accuracy: 0.7044\n",
            "Epoch 2/30\n",
            "1719/1719 [==============================] - 6s 3ms/step - loss: 0.9155 - accuracy: 0.6535 - val_loss: 0.6588 - val_accuracy: 0.7498\n",
            "Epoch 3/30\n",
            "1719/1719 [==============================] - 6s 3ms/step - loss: 0.8167 - accuracy: 0.6913 - val_loss: 0.6082 - val_accuracy: 0.7758\n",
            "Epoch 4/30\n",
            "1719/1719 [==============================] - 6s 3ms/step - loss: 0.7663 - accuracy: 0.7122 - val_loss: 0.5747 - val_accuracy: 0.7848\n",
            "Epoch 5/30\n",
            "1719/1719 [==============================] - 6s 3ms/step - loss: 0.7310 - accuracy: 0.7277 - val_loss: 0.5540 - val_accuracy: 0.8046\n",
            "Epoch 6/30\n",
            "1719/1719 [==============================] - 6s 3ms/step - loss: 0.7003 - accuracy: 0.7418 - val_loss: 0.5333 - val_accuracy: 0.8038\n",
            "Epoch 7/30\n",
            "1719/1719 [==============================] - 6s 3ms/step - loss: 0.6812 - accuracy: 0.7459 - val_loss: 0.5184 - val_accuracy: 0.8130\n",
            "Epoch 8/30\n",
            "1719/1719 [==============================] - 6s 3ms/step - loss: 0.6642 - accuracy: 0.7547 - val_loss: 0.5154 - val_accuracy: 0.8150\n",
            "Epoch 9/30\n",
            "1719/1719 [==============================] - 6s 3ms/step - loss: 0.6537 - accuracy: 0.7577 - val_loss: 0.4975 - val_accuracy: 0.8222\n",
            "Epoch 10/30\n",
            "1719/1719 [==============================] - 6s 3ms/step - loss: 0.6382 - accuracy: 0.7635 - val_loss: 0.4962 - val_accuracy: 0.8258\n",
            "Epoch 11/30\n",
            "1719/1719 [==============================] - 6s 3ms/step - loss: 0.6310 - accuracy: 0.7683 - val_loss: 0.4848 - val_accuracy: 0.8250\n",
            "Epoch 12/30\n",
            "1719/1719 [==============================] - 6s 3ms/step - loss: 0.6183 - accuracy: 0.7722 - val_loss: 0.4740 - val_accuracy: 0.8340\n",
            "Epoch 13/30\n",
            "1719/1719 [==============================] - 7s 4ms/step - loss: 0.6091 - accuracy: 0.7745 - val_loss: 0.4630 - val_accuracy: 0.8374\n",
            "Epoch 14/30\n",
            "1719/1719 [==============================] - 6s 3ms/step - loss: 0.6035 - accuracy: 0.7777 - val_loss: 0.4578 - val_accuracy: 0.8378\n",
            "Epoch 15/30\n",
            "1719/1719 [==============================] - 6s 3ms/step - loss: 0.5955 - accuracy: 0.7810 - val_loss: 0.4547 - val_accuracy: 0.8376\n",
            "Epoch 16/30\n",
            "1719/1719 [==============================] - 7s 4ms/step - loss: 0.5904 - accuracy: 0.7828 - val_loss: 0.4488 - val_accuracy: 0.8416\n",
            "Epoch 17/30\n",
            "1719/1719 [==============================] - 7s 4ms/step - loss: 0.5848 - accuracy: 0.7861 - val_loss: 0.4441 - val_accuracy: 0.8434\n",
            "Epoch 18/30\n",
            "1719/1719 [==============================] - 6s 4ms/step - loss: 0.5770 - accuracy: 0.7892 - val_loss: 0.4394 - val_accuracy: 0.8482\n",
            "Epoch 19/30\n",
            "1719/1719 [==============================] - 6s 4ms/step - loss: 0.5726 - accuracy: 0.7902 - val_loss: 0.4350 - val_accuracy: 0.8484\n",
            "Epoch 20/30\n",
            "1719/1719 [==============================] - 6s 4ms/step - loss: 0.5646 - accuracy: 0.7911 - val_loss: 0.4334 - val_accuracy: 0.8468\n",
            "Epoch 21/30\n",
            "1719/1719 [==============================] - 6s 3ms/step - loss: 0.5653 - accuracy: 0.7939 - val_loss: 0.4311 - val_accuracy: 0.8490\n",
            "Epoch 22/30\n",
            "1719/1719 [==============================] - 6s 4ms/step - loss: 0.5595 - accuracy: 0.7970 - val_loss: 0.4217 - val_accuracy: 0.8484\n",
            "Epoch 23/30\n",
            "1719/1719 [==============================] - 6s 3ms/step - loss: 0.5577 - accuracy: 0.7981 - val_loss: 0.4255 - val_accuracy: 0.8492\n",
            "Epoch 24/30\n",
            "1719/1719 [==============================] - 6s 4ms/step - loss: 0.5519 - accuracy: 0.7987 - val_loss: 0.4202 - val_accuracy: 0.8506\n",
            "Epoch 25/30\n",
            "1719/1719 [==============================] - 6s 3ms/step - loss: 0.5487 - accuracy: 0.7998 - val_loss: 0.4104 - val_accuracy: 0.8544\n",
            "Epoch 26/30\n",
            "1719/1719 [==============================] - 6s 3ms/step - loss: 0.5427 - accuracy: 0.8022 - val_loss: 0.4101 - val_accuracy: 0.8532\n",
            "Epoch 27/30\n",
            "1719/1719 [==============================] - 6s 3ms/step - loss: 0.5403 - accuracy: 0.8022 - val_loss: 0.4128 - val_accuracy: 0.8526\n",
            "Epoch 28/30\n",
            "1719/1719 [==============================] - 6s 3ms/step - loss: 0.5344 - accuracy: 0.8066 - val_loss: 0.4103 - val_accuracy: 0.8538\n",
            "Epoch 29/30\n",
            "1719/1719 [==============================] - 6s 3ms/step - loss: 0.5377 - accuracy: 0.8046 - val_loss: 0.4061 - val_accuracy: 0.8544\n",
            "Epoch 30/30\n",
            "1719/1719 [==============================] - 6s 3ms/step - loss: 0.5287 - accuracy: 0.8069 - val_loss: 0.4000 - val_accuracy: 0.8598\n"
          ],
          "name": "stdout"
        }
      ]
    },
    {
      "cell_type": "code",
      "metadata": {
        "id": "0cXE3SUJrcvb",
        "colab": {
          "base_uri": "https://localhost:8080/",
          "height": 328
        },
        "outputId": "78dba2f0-d603-4a46-ede8-edfb31bb54c1"
      },
      "source": [
        "\n",
        "pd.DataFrame(history_dropout.history).plot(figsize=(8, 5))\n",
        "plt.grid(True)\n",
        "plt.gca().set_ylim(0, 1)\n",
        "plt.show()"
      ],
      "execution_count": 45,
      "outputs": [
        {
          "output_type": "display_data",
          "data": {
            "image/png": "[encoded data removed]",
            "text/plain": [
              "<Figure size 576x360 with 1 Axes>"
            ]
          },
          "metadata": {
            "tags": [],
            "needs_background": "light"
          }
        }
      ]
    },
    {
      "cell_type": "code",
      "metadata": {
        "id": "RbrLvUbCrr49",
        "colab": {
          "base_uri": "https://localhost:8080/"
        },
        "outputId": "e87961ac-5f16-4732-9f26-2ac2c6a0fd8a"
      },
      "source": [
        "model_dropout.evaluate(X_test, y_test)"
      ],
      "execution_count": 28,
      "outputs": [
        {
          "output_type": "stream",
          "text": [
            "313/313 [==============================] - 0s 1ms/step - loss: 0.4400 - accuracy: 0.8398\n"
          ],
          "name": "stdout"
        },
        {
          "output_type": "execute_result",
          "data": {
            "text/plain": [
              "[0.44001615047454834, 0.8398000001907349]"
            ]
          },
          "metadata": {
            "tags": []
          },
          "execution_count": 28
        }
      ]
    },
    {
      "cell_type": "code",
      "metadata": {
        "id": "ix6mqH0PYqAW",
        "colab": {
          "base_uri": "https://localhost:8080/"
        },
        "outputId": "a71becc5-9e4b-4a18-cb36-73ce440dcab3"
      },
      "source": [
        "#question 5\n",
        "#the use of Use Batch Normalisation\n",
        "\n",
        "from keras.layers import BatchNormalization\n",
        "model_batchtnor = keras.models.Sequential()\n",
        "model_batchtnor.add(keras.layers.Flatten(input_shape=[28, 28]))\n",
        "BatchNormalization(),\n",
        "model_batchtnor.add(keras.layers.Dense(300, activation=\"relu\"))\n",
        "BatchNormalization(),\n",
        "model_batchtnor.add(keras.layers.Dense(100, activation=\"relu\"))\n",
        "BatchNormalization(),\n",
        "model_batchtnor.add(keras.layers.Dense(10, activation=\"softmax\"))\n",
        "model_batchtnor.summary()\n"
      ],
      "execution_count": 46,
      "outputs": [
        {
          "output_type": "stream",
          "text": [
            "Model: \"sequential_2\"\n",
            "_________________________________________________________________\n",
            "Layer (type)                 Output Shape              Param #   \n",
            "=================================================================\n",
            "flatten_2 (Flatten)          (None, 784)               0         \n",
            "_________________________________________________________________\n",
            "dense_6 (Dense)              (None, 300)               235500    \n",
            "_________________________________________________________________\n",
            "dense_7 (Dense)              (None, 100)               30100     \n",
            "_________________________________________________________________\n",
            "dense_8 (Dense)              (None, 10)                1010      \n",
            "=================================================================\n",
            "Total params: 266,610\n",
            "Trainable params: 266,610\n",
            "Non-trainable params: 0\n",
            "_________________________________________________________________\n"
          ],
          "name": "stdout"
        }
      ]
    },
    {
      "cell_type": "code",
      "metadata": {
        "id": "Tdu9jz3LdaGj"
      },
      "source": [
        "model_batchtnor.compile(loss=\"sparse_categorical_crossentropy\", optimizer=\"SGD\",metrics=[\"accuracy\"])\n"
      ],
      "execution_count": 47,
      "outputs": []
    },
    {
      "cell_type": "code",
      "metadata": {
        "id": "kL8oJwpmdcV3",
        "colab": {
          "base_uri": "https://localhost:8080/"
        },
        "outputId": "b9fe82e2-4806-4a52-9279-21f7d0b5b402"
      },
      "source": [
        "history_batchtnor = model_batchtnor.fit(X_train, y_train, batch_size=32, epochs=30, validation_data=(X_valid, y_valid))"
      ],
      "execution_count": 48,
      "outputs": [
        {
          "output_type": "stream",
          "text": [
            "Epoch 1/30\n",
            "1719/1719 [==============================] - 5s 3ms/step - loss: 0.7123 - accuracy: 0.7685 - val_loss: 0.5098 - val_accuracy: 0.8226\n",
            "Epoch 2/30\n",
            "1719/1719 [==============================] - 5s 3ms/step - loss: 0.4852 - accuracy: 0.8309 - val_loss: 0.4443 - val_accuracy: 0.8500\n",
            "Epoch 3/30\n",
            "1719/1719 [==============================] - 5s 3ms/step - loss: 0.4418 - accuracy: 0.8456 - val_loss: 0.4215 - val_accuracy: 0.8560\n",
            "Epoch 4/30\n",
            "1719/1719 [==============================] - 5s 3ms/step - loss: 0.4139 - accuracy: 0.8554 - val_loss: 0.3936 - val_accuracy: 0.8680\n",
            "Epoch 5/30\n",
            "1719/1719 [==============================] - 5s 3ms/step - loss: 0.3940 - accuracy: 0.8622 - val_loss: 0.3751 - val_accuracy: 0.8698\n",
            "Epoch 6/30\n",
            "1719/1719 [==============================] - 5s 3ms/step - loss: 0.3782 - accuracy: 0.8664 - val_loss: 0.3635 - val_accuracy: 0.8750\n",
            "Epoch 7/30\n",
            "1719/1719 [==============================] - 5s 3ms/step - loss: 0.3641 - accuracy: 0.8704 - val_loss: 0.3652 - val_accuracy: 0.8710\n",
            "Epoch 8/30\n",
            "1719/1719 [==============================] - 5s 3ms/step - loss: 0.3539 - accuracy: 0.8740 - val_loss: 0.3475 - val_accuracy: 0.8794\n",
            "Epoch 9/30\n",
            "1719/1719 [==============================] - 5s 3ms/step - loss: 0.3428 - accuracy: 0.8792 - val_loss: 0.3501 - val_accuracy: 0.8744\n",
            "Epoch 10/30\n",
            "1719/1719 [==============================] - 5s 3ms/step - loss: 0.3328 - accuracy: 0.8819 - val_loss: 0.3345 - val_accuracy: 0.8826\n",
            "Epoch 11/30\n",
            "1719/1719 [==============================] - 5s 3ms/step - loss: 0.3247 - accuracy: 0.8839 - val_loss: 0.3366 - val_accuracy: 0.8818\n",
            "Epoch 12/30\n",
            "1719/1719 [==============================] - 5s 3ms/step - loss: 0.3183 - accuracy: 0.8866 - val_loss: 0.3262 - val_accuracy: 0.8850\n",
            "Epoch 13/30\n",
            "1719/1719 [==============================] - 5s 3ms/step - loss: 0.3099 - accuracy: 0.8893 - val_loss: 0.3352 - val_accuracy: 0.8842\n",
            "Epoch 14/30\n",
            "1719/1719 [==============================] - 5s 3ms/step - loss: 0.3042 - accuracy: 0.8913 - val_loss: 0.3250 - val_accuracy: 0.8844\n",
            "Epoch 15/30\n",
            "1719/1719 [==============================] - 5s 3ms/step - loss: 0.2972 - accuracy: 0.8945 - val_loss: 0.3224 - val_accuracy: 0.8832\n",
            "Epoch 16/30\n",
            "1719/1719 [==============================] - 5s 3ms/step - loss: 0.2910 - accuracy: 0.8964 - val_loss: 0.3186 - val_accuracy: 0.8846\n",
            "Epoch 17/30\n",
            "1719/1719 [==============================] - 5s 3ms/step - loss: 0.2853 - accuracy: 0.8975 - val_loss: 0.3168 - val_accuracy: 0.8886\n",
            "Epoch 18/30\n",
            "1719/1719 [==============================] - 5s 3ms/step - loss: 0.2795 - accuracy: 0.8989 - val_loss: 0.3374 - val_accuracy: 0.8772\n",
            "Epoch 19/30\n",
            "1719/1719 [==============================] - 5s 3ms/step - loss: 0.2741 - accuracy: 0.9012 - val_loss: 0.3242 - val_accuracy: 0.8806\n",
            "Epoch 20/30\n",
            "1719/1719 [==============================] - 5s 3ms/step - loss: 0.2687 - accuracy: 0.9036 - val_loss: 0.3031 - val_accuracy: 0.8944\n",
            "Epoch 21/30\n",
            "1719/1719 [==============================] - 5s 3ms/step - loss: 0.2643 - accuracy: 0.9058 - val_loss: 0.3008 - val_accuracy: 0.8934\n",
            "Epoch 22/30\n",
            "1719/1719 [==============================] - 5s 3ms/step - loss: 0.2598 - accuracy: 0.9055 - val_loss: 0.3015 - val_accuracy: 0.8948\n",
            "Epoch 23/30\n",
            "1719/1719 [==============================] - 5s 3ms/step - loss: 0.2550 - accuracy: 0.9077 - val_loss: 0.3036 - val_accuracy: 0.8950\n",
            "Epoch 24/30\n",
            "1719/1719 [==============================] - 5s 3ms/step - loss: 0.2499 - accuracy: 0.9107 - val_loss: 0.3357 - val_accuracy: 0.8782\n",
            "Epoch 25/30\n",
            "1719/1719 [==============================] - 5s 3ms/step - loss: 0.2464 - accuracy: 0.9115 - val_loss: 0.2965 - val_accuracy: 0.8926\n",
            "Epoch 26/30\n",
            "1719/1719 [==============================] - 5s 3ms/step - loss: 0.2422 - accuracy: 0.9133 - val_loss: 0.2982 - val_accuracy: 0.8916\n",
            "Epoch 27/30\n",
            "1719/1719 [==============================] - 5s 3ms/step - loss: 0.2379 - accuracy: 0.9140 - val_loss: 0.2929 - val_accuracy: 0.8996\n",
            "Epoch 28/30\n",
            "1719/1719 [==============================] - 5s 3ms/step - loss: 0.2337 - accuracy: 0.9159 - val_loss: 0.2992 - val_accuracy: 0.8902\n",
            "Epoch 29/30\n",
            "1719/1719 [==============================] - 5s 3ms/step - loss: 0.2301 - accuracy: 0.9167 - val_loss: 0.3062 - val_accuracy: 0.8916\n",
            "Epoch 30/30\n",
            "1719/1719 [==============================] - 5s 3ms/step - loss: 0.2263 - accuracy: 0.9179 - val_loss: 0.3174 - val_accuracy: 0.8880\n"
          ],
          "name": "stdout"
        }
      ]
    },
    {
      "cell_type": "code",
      "metadata": {
        "id": "2mHW3xWIdw1W",
        "colab": {
          "base_uri": "https://localhost:8080/",
          "height": 328
        },
        "outputId": "93c5f190-1418-4a82-91bb-d5b8cb8f4404"
      },
      "source": [
        "\n",
        "pd.DataFrame(history_batchtnor.history).plot(figsize=(8, 5))\n",
        "plt.grid(True)\n",
        "plt.gca().set_ylim(0, 1)\n",
        "plt.show()"
      ],
      "execution_count": 49,
      "outputs": [
        {
          "output_type": "display_data",
          "data": {
            "image/png": "[encoded data removed]",
            "text/plain": [
              "<Figure size 576x360 with 1 Axes>"
            ]
          },
          "metadata": {
            "tags": [],
            "needs_background": "light"
          }
        }
      ]
    },
    {
      "cell_type": "code",
      "metadata": {
        "id": "q8uv4EggmwT-"
      },
      "source": [
        "#using MNIST — Digits dataset\n",
        "digits = keras.datasets.mnist\n",
        "(Xd_train_full, yd_train_full), (Xd_test, yd_test) = digits.load_data()"
      ],
      "execution_count": 99,
      "outputs": []
    },
    {
      "cell_type": "code",
      "metadata": {
        "id": "6X1g-oHPnLzG",
        "outputId": "406ac448-5d61-4bfb-c3d6-a12911335c7f",
        "colab": {
          "base_uri": "https://localhost:8080/"
        }
      },
      "source": [
        "Xd_train_full.shape"
      ],
      "execution_count": 100,
      "outputs": [
        {
          "output_type": "execute_result",
          "data": {
            "text/plain": [
              "(60000, 28, 28)"
            ]
          },
          "metadata": {
            "tags": []
          },
          "execution_count": 100
        }
      ]
    },
    {
      "cell_type": "code",
      "metadata": {
        "id": "1eDsIjiSnPpX"
      },
      "source": [
        "\n",
        "Xd_valid, Xd_train = Xd_train_full[:5000] / 255., Xd_train_full[5000:] / 255.\n",
        "yd_valid, yd_train = yd_train_full[:5000], yd_train_full[5000:]\n",
        "Xd_test = Xd_test / 255."
      ],
      "execution_count": 103,
      "outputs": []
    },
    {
      "cell_type": "code",
      "metadata": {
        "id": "UHSuSEpunj8q",
        "outputId": "b50ffbe9-adba-46d7-dd1b-04967f45412a",
        "colab": {
          "base_uri": "https://localhost:8080/",
          "height": 248
        }
      },
      "source": [
        "plt.imshow(Xd_train[0], cmap=\"binary\")\n",
        "plt.axis('off')\n",
        "plt.show()"
      ],
      "execution_count": 104,
      "outputs": [
        {
          "output_type": "display_data",
          "data": {
            "image/png": "[encoded data removed]",
            "text/plain": [
              "<Figure size 432x288 with 1 Axes>"
            ]
          },
          "metadata": {
            "tags": [],
            "needs_background": "light"
          }
        }
      ]
    },
    {
      "cell_type": "code",
      "metadata": {
        "id": "wB8FvTVSn1Xf"
      },
      "source": [
        "modeldigits = keras.models.Sequential()\n",
        "modeldigits.add(keras.layers.Flatten(input_shape=[28, 28]))\n",
        "modeldigits.add(keras.layers.Dense(300, activation=\"relu\"))\n",
        "modeldigits.add(keras.layers.Dense(100, activation=\"relu\"))\n",
        "modeldigits.add(keras.layers.Dense(10, activation=\"softmax\"))"
      ],
      "execution_count": 105,
      "outputs": []
    },
    {
      "cell_type": "code",
      "metadata": {
        "id": "vlUs41H5oIcY",
        "outputId": "f3ec2a83-f760-457b-e4bb-9b5ac6626e7c",
        "colab": {
          "base_uri": "https://localhost:8080/"
        }
      },
      "source": [
        "modeldigits.summary()"
      ],
      "execution_count": 106,
      "outputs": [
        {
          "output_type": "stream",
          "text": [
            "Model: \"sequential_9\"\n",
            "_________________________________________________________________\n",
            "Layer (type)                 Output Shape              Param #   \n",
            "=================================================================\n",
            "flatten_3 (Flatten)          (None, 784)               0         \n",
            "_________________________________________________________________\n",
            "dense_29 (Dense)             (None, 300)               235500    \n",
            "_________________________________________________________________\n",
            "dense_30 (Dense)             (None, 100)               30100     \n",
            "_________________________________________________________________\n",
            "dense_31 (Dense)             (None, 10)                1010      \n",
            "=================================================================\n",
            "Total params: 266,610\n",
            "Trainable params: 266,610\n",
            "Non-trainable params: 0\n",
            "_________________________________________________________________\n"
          ],
          "name": "stdout"
        }
      ]
    },
    {
      "cell_type": "code",
      "metadata": {
        "id": "EjnRuXB2oPFY"
      },
      "source": [
        "modeldigits.compile(loss=\"sparse_categorical_crossentropy\",optimizer=\"sgd\",metrics=[\"accuracy\"])"
      ],
      "execution_count": 107,
      "outputs": []
    },
    {
      "cell_type": "code",
      "metadata": {
        "id": "djxNdDwsoUS8",
        "outputId": "11f10f73-cfc5-40d6-9702-8431dc0803f1",
        "colab": {
          "base_uri": "https://localhost:8080/"
        }
      },
      "source": [
        "historydigits= modeldigits.fit(Xd_train, yd_train, batch_size=64, epochs=30,validation_data=(Xd_valid, yd_valid))"
      ],
      "execution_count": 109,
      "outputs": [
        {
          "output_type": "stream",
          "text": [
            "Epoch 1/30\n",
            "860/860 [==============================] - 3s 4ms/step - loss: 0.8337 - accuracy: 0.7976 - val_loss: 0.3930 - val_accuracy: 0.8970\n",
            "Epoch 2/30\n",
            "860/860 [==============================] - 3s 4ms/step - loss: 0.3590 - accuracy: 0.9003 - val_loss: 0.2982 - val_accuracy: 0.9194\n",
            "Epoch 3/30\n",
            "860/860 [==============================] - 3s 4ms/step - loss: 0.2971 - accuracy: 0.9154 - val_loss: 0.2559 - val_accuracy: 0.9276\n",
            "Epoch 4/30\n",
            "860/860 [==============================] - 3s 4ms/step - loss: 0.2628 - accuracy: 0.9246 - val_loss: 0.2350 - val_accuracy: 0.9344\n",
            "Epoch 5/30\n",
            "860/860 [==============================] - 3s 4ms/step - loss: 0.2376 - accuracy: 0.9325 - val_loss: 0.2137 - val_accuracy: 0.9430\n",
            "Epoch 6/30\n",
            "860/860 [==============================] - 3s 4ms/step - loss: 0.2178 - accuracy: 0.9383 - val_loss: 0.1978 - val_accuracy: 0.9470\n",
            "Epoch 7/30\n",
            "860/860 [==============================] - 3s 4ms/step - loss: 0.2012 - accuracy: 0.9426 - val_loss: 0.1830 - val_accuracy: 0.9486\n",
            "Epoch 8/30\n",
            "860/860 [==============================] - 3s 4ms/step - loss: 0.1871 - accuracy: 0.9468 - val_loss: 0.1726 - val_accuracy: 0.9514\n",
            "Epoch 9/30\n",
            "860/860 [==============================] - 3s 4ms/step - loss: 0.1748 - accuracy: 0.9501 - val_loss: 0.1613 - val_accuracy: 0.9552\n",
            "Epoch 10/30\n",
            "860/860 [==============================] - 3s 4ms/step - loss: 0.1642 - accuracy: 0.9534 - val_loss: 0.1539 - val_accuracy: 0.9566\n",
            "Epoch 11/30\n",
            "860/860 [==============================] - 3s 4ms/step - loss: 0.1542 - accuracy: 0.9563 - val_loss: 0.1459 - val_accuracy: 0.9598\n",
            "Epoch 12/30\n",
            "860/860 [==============================] - 3s 4ms/step - loss: 0.1458 - accuracy: 0.9586 - val_loss: 0.1409 - val_accuracy: 0.9620\n",
            "Epoch 13/30\n",
            "860/860 [==============================] - 3s 4ms/step - loss: 0.1385 - accuracy: 0.9610 - val_loss: 0.1331 - val_accuracy: 0.9642\n",
            "Epoch 14/30\n",
            "860/860 [==============================] - 3s 4ms/step - loss: 0.1308 - accuracy: 0.9634 - val_loss: 0.1313 - val_accuracy: 0.9640\n",
            "Epoch 15/30\n",
            "860/860 [==============================] - 3s 4ms/step - loss: 0.1247 - accuracy: 0.9645 - val_loss: 0.1233 - val_accuracy: 0.9662\n",
            "Epoch 16/30\n",
            "860/860 [==============================] - 3s 4ms/step - loss: 0.1189 - accuracy: 0.9665 - val_loss: 0.1188 - val_accuracy: 0.9682\n",
            "Epoch 17/30\n",
            "860/860 [==============================] - 3s 4ms/step - loss: 0.1132 - accuracy: 0.9685 - val_loss: 0.1153 - val_accuracy: 0.9692\n",
            "Epoch 18/30\n",
            "860/860 [==============================] - 3s 4ms/step - loss: 0.1082 - accuracy: 0.9697 - val_loss: 0.1120 - val_accuracy: 0.9702\n",
            "Epoch 19/30\n",
            "860/860 [==============================] - 3s 4ms/step - loss: 0.1031 - accuracy: 0.9710 - val_loss: 0.1079 - val_accuracy: 0.9708\n",
            "Epoch 20/30\n",
            "860/860 [==============================] - 3s 4ms/step - loss: 0.0991 - accuracy: 0.9721 - val_loss: 0.1052 - val_accuracy: 0.9716\n",
            "Epoch 21/30\n",
            "860/860 [==============================] - 3s 4ms/step - loss: 0.0949 - accuracy: 0.9737 - val_loss: 0.1052 - val_accuracy: 0.9718\n",
            "Epoch 22/30\n",
            "860/860 [==============================] - 3s 4ms/step - loss: 0.0909 - accuracy: 0.9745 - val_loss: 0.1007 - val_accuracy: 0.9730\n",
            "Epoch 23/30\n",
            "860/860 [==============================] - 3s 4ms/step - loss: 0.0875 - accuracy: 0.9755 - val_loss: 0.0985 - val_accuracy: 0.9728\n",
            "Epoch 24/30\n",
            "860/860 [==============================] - 3s 4ms/step - loss: 0.0841 - accuracy: 0.9767 - val_loss: 0.0944 - val_accuracy: 0.9746\n",
            "Epoch 25/30\n",
            "860/860 [==============================] - 3s 4ms/step - loss: 0.0809 - accuracy: 0.9775 - val_loss: 0.0935 - val_accuracy: 0.9752\n",
            "Epoch 26/30\n",
            "860/860 [==============================] - 3s 4ms/step - loss: 0.0780 - accuracy: 0.9786 - val_loss: 0.0912 - val_accuracy: 0.9746\n",
            "Epoch 27/30\n",
            "860/860 [==============================] - 3s 4ms/step - loss: 0.0750 - accuracy: 0.9794 - val_loss: 0.0900 - val_accuracy: 0.9752\n",
            "Epoch 28/30\n",
            "860/860 [==============================] - 3s 4ms/step - loss: 0.0722 - accuracy: 0.9804 - val_loss: 0.0879 - val_accuracy: 0.9754\n",
            "Epoch 29/30\n",
            "860/860 [==============================] - 3s 4ms/step - loss: 0.0698 - accuracy: 0.9806 - val_loss: 0.0885 - val_accuracy: 0.9756\n",
            "Epoch 30/30\n",
            "860/860 [==============================] - 3s 4ms/step - loss: 0.0675 - accuracy: 0.9814 - val_loss: 0.0847 - val_accuracy: 0.9764\n"
          ],
          "name": "stdout"
        }
      ]
    },
    {
      "cell_type": "code",
      "metadata": {
        "id": "M7lUDRb0pGuI",
        "outputId": "a4afe9c9-7ead-4300-bb56-7746780535b1",
        "colab": {
          "base_uri": "https://localhost:8080/",
          "height": 328
        }
      },
      "source": [
        "pd.DataFrame(historydigits.history).plot(figsize=(8, 5))\n",
        "plt.grid(True)\n",
        "plt.gca().set_ylim(0, 1)\n",
        "plt.show()"
      ],
      "execution_count": 110,
      "outputs": [
        {
          "output_type": "display_data",
          "data": {
            "image/png": "[encoded data removed]",
            "text/plain": [
              "<Figure size 576x360 with 1 Axes>"
            ]
          },
          "metadata": {
            "tags": [],
            "needs_background": "light"
          }
        }
      ]
    },
    {
      "cell_type": "code",
      "metadata": {
        "id": "st4qbSehvoNq",
        "outputId": "f43ad172-261b-4a8c-c9d2-2ce0b131aca7",
        "colab": {
          "base_uri": "https://localhost:8080/"
        }
      },
      "source": [
        "#using cifar10 dataset\n",
        "cifar10 = keras.datasets.cifar10 \n",
        "(Xc_train_full, yc_train_full), (Xc_test, yc_test) = cifar10.load_data()"
      ],
      "execution_count": 138,
      "outputs": [
        {
          "output_type": "stream",
          "text": [
            "Downloading data from https://www.cs.toronto.edu/~kriz/cifar-10-python.tar.gz\n",
            "170500096/170498071 [==============================] - 11s 0us/step\n"
          ],
          "name": "stdout"
        }
      ]
    },
    {
      "cell_type": "code",
      "metadata": {
        "id": "pcTKP-slv8wV",
        "outputId": "9cb21863-644a-4df8-91c4-60cb42980f51",
        "colab": {
          "base_uri": "https://localhost:8080/"
        }
      },
      "source": [
        "Xc_train_full.shape"
      ],
      "execution_count": 139,
      "outputs": [
        {
          "output_type": "execute_result",
          "data": {
            "text/plain": [
              "(50000, 32, 32, 3)"
            ]
          },
          "metadata": {
            "tags": []
          },
          "execution_count": 139
        }
      ]
    },
    {
      "cell_type": "code",
      "metadata": {
        "id": "LTNOFcfpwFEc"
      },
      "source": [
        "Xc_valid, Xc_train = Xc_train_full[:5000] / 255., Xc_train_full[5000:] / 255.\n",
        "yc_valid, yc_train = yc_train_full[:5000], yc_train_full[5000:]\n",
        "Xc_test = Xc_test / 255."
      ],
      "execution_count": 141,
      "outputs": []
    },
    {
      "cell_type": "code",
      "metadata": {
        "id": "6HJNwyS0wFHY",
        "outputId": "524ebab9-2c39-46cb-a17d-17e8c66f6b5e",
        "colab": {
          "base_uri": "https://localhost:8080/",
          "height": 248
        }
      },
      "source": [
        "plt.imshow(Xc_train[0], cmap=\"binary\")\n",
        "plt.axis('off')\n",
        "plt.show()"
      ],
      "execution_count": 143,
      "outputs": [
        {
          "output_type": "display_data",
          "data": {
            "image/png": "[encoded data removed]",
            "text/plain": [
              "<Figure size 432x288 with 1 Axes>"
            ]
          },
          "metadata": {
            "tags": [],
            "needs_background": "light"
          }
        }
      ]
    },
    {
      "cell_type": "code",
      "metadata": {
        "id": "mfN_vgjIwnSU"
      },
      "source": [
        "classc_names=['airplane','automobile','bird','cat','deer','dog','frog','horse','ship','truck']"
      ],
      "execution_count": 155,
      "outputs": []
    },
    {
      "cell_type": "code",
      "metadata": {
        "id": "jwgYZhnoz-fP",
        "outputId": "173a0bbc-4068-4597-c1ff-0ea2b65cdba9",
        "colab": {
          "base_uri": "https://localhost:8080/",
          "height": 35
        }
      },
      "source": [
        "classc_names[y_train[0]]"
      ],
      "execution_count": 156,
      "outputs": [
        {
          "output_type": "execute_result",
          "data": {
            "application/vnd.google.colaboratory.intrinsic+json": {
              "type": "string"
            },
            "text/plain": [
              "'horse'"
            ]
          },
          "metadata": {
            "tags": []
          },
          "execution_count": 156
        }
      ]
    },
    {
      "cell_type": "code",
      "metadata": {
        "id": "KtNG-opWwFKP"
      },
      "source": [
        "modelcifar10 = keras.models.Sequential()\n",
        "modelcifar10.add(keras.layers.Flatten(input_shape=[28, 28]))\n",
        "modelcifar10.add(keras.layers.Dense(300, activation=\"relu\"))\n",
        "modelcifar10.add(keras.layers.Dense(100, activation=\"relu\"))\n",
        "modelcifar10.add(keras.layers.Dense(10, activation=\"softmax\"))"
      ],
      "execution_count": 148,
      "outputs": []
    },
    {
      "cell_type": "code",
      "metadata": {
        "id": "N1a3AuiTwFNn",
        "outputId": "dbb2e2e6-e191-4fa5-b06a-5b57d5a2dfad",
        "colab": {
          "base_uri": "https://localhost:8080/"
        }
      },
      "source": [
        "modelcifar10.summary()"
      ],
      "execution_count": 149,
      "outputs": [
        {
          "output_type": "stream",
          "text": [
            "Model: \"sequential_12\"\n",
            "_________________________________________________________________\n",
            "Layer (type)                 Output Shape              Param #   \n",
            "=================================================================\n",
            "flatten_5 (Flatten)          (None, 784)               0         \n",
            "_________________________________________________________________\n",
            "dense_39 (Dense)             (None, 300)               235500    \n",
            "_________________________________________________________________\n",
            "dense_40 (Dense)             (None, 100)               30100     \n",
            "_________________________________________________________________\n",
            "dense_41 (Dense)             (None, 10)                1010      \n",
            "=================================================================\n",
            "Total params: 266,610\n",
            "Trainable params: 266,610\n",
            "Non-trainable params: 0\n",
            "_________________________________________________________________\n"
          ],
          "name": "stdout"
        }
      ]
    },
    {
      "cell_type": "code",
      "metadata": {
        "id": "J0_fjN7IwWKU"
      },
      "source": [
        "modelcifar10.compile(loss=\"sparse_categorical_crossentropy\",optimizer=\"sgd\",metrics=[\"accuracy\"])"
      ],
      "execution_count": 151,
      "outputs": []
    },
    {
      "cell_type": "code",
      "metadata": {
        "id": "_bTX8cZFwWRh",
        "outputId": "451f6172-4483-4d22-fce3-19b39c0eda2c",
        "colab": {
          "base_uri": "https://localhost:8080/"
        }
      },
      "source": [
        "historycifar10= modelcifar10.fit(Xd_train, yd_train, batch_size=64, epochs=100,validation_data=(Xc_valid, yc_valid))"
      ],
      "execution_count": 153,
      "outputs": [
        {
          "output_type": "stream",
          "text": [
            "Epoch 1/100\n",
            "860/860 [==============================] - 3s 4ms/step - loss: 0.2731 - accuracy: 0.9229 - val_loss: 0.2427 - val_accuracy: 0.9342\n",
            "Epoch 2/100\n",
            "860/860 [==============================] - 3s 4ms/step - loss: 0.2464 - accuracy: 0.9306 - val_loss: 0.2242 - val_accuracy: 0.9390\n",
            "Epoch 3/100\n",
            "860/860 [==============================] - 3s 4ms/step - loss: 0.2256 - accuracy: 0.9366 - val_loss: 0.2047 - val_accuracy: 0.9434\n",
            "Epoch 4/100\n",
            "860/860 [==============================] - 3s 4ms/step - loss: 0.2085 - accuracy: 0.9411 - val_loss: 0.1905 - val_accuracy: 0.9468\n",
            "Epoch 5/100\n",
            "860/860 [==============================] - 3s 4ms/step - loss: 0.1940 - accuracy: 0.9453 - val_loss: 0.1784 - val_accuracy: 0.9514\n",
            "Epoch 6/100\n",
            "860/860 [==============================] - 3s 4ms/step - loss: 0.1807 - accuracy: 0.9495 - val_loss: 0.1701 - val_accuracy: 0.9552\n",
            "Epoch 7/100\n",
            "860/860 [==============================] - 3s 4ms/step - loss: 0.1695 - accuracy: 0.9523 - val_loss: 0.1623 - val_accuracy: 0.9562\n",
            "Epoch 8/100\n",
            "860/860 [==============================] - 3s 4ms/step - loss: 0.1593 - accuracy: 0.9547 - val_loss: 0.1524 - val_accuracy: 0.9608\n",
            "Epoch 9/100\n",
            "860/860 [==============================] - 3s 4ms/step - loss: 0.1506 - accuracy: 0.9574 - val_loss: 0.1443 - val_accuracy: 0.9606\n",
            "Epoch 10/100\n",
            "860/860 [==============================] - 4s 5ms/step - loss: 0.1422 - accuracy: 0.9596 - val_loss: 0.1382 - val_accuracy: 0.9628\n",
            "Epoch 11/100\n",
            "860/860 [==============================] - 4s 4ms/step - loss: 0.1347 - accuracy: 0.9620 - val_loss: 0.1350 - val_accuracy: 0.9642\n",
            "Epoch 12/100\n",
            "860/860 [==============================] - 3s 4ms/step - loss: 0.1280 - accuracy: 0.9638 - val_loss: 0.1276 - val_accuracy: 0.9662\n",
            "Epoch 13/100\n",
            "860/860 [==============================] - 3s 4ms/step - loss: 0.1218 - accuracy: 0.9660 - val_loss: 0.1244 - val_accuracy: 0.9658\n",
            "Epoch 14/100\n",
            "860/860 [==============================] - 3s 4ms/step - loss: 0.1162 - accuracy: 0.9677 - val_loss: 0.1209 - val_accuracy: 0.9668\n",
            "Epoch 15/100\n",
            "860/860 [==============================] - 3s 4ms/step - loss: 0.1108 - accuracy: 0.9691 - val_loss: 0.1180 - val_accuracy: 0.9678\n",
            "Epoch 16/100\n",
            "860/860 [==============================] - 3s 4ms/step - loss: 0.1059 - accuracy: 0.9711 - val_loss: 0.1108 - val_accuracy: 0.9700\n",
            "Epoch 17/100\n",
            "860/860 [==============================] - 3s 4ms/step - loss: 0.1013 - accuracy: 0.9721 - val_loss: 0.1093 - val_accuracy: 0.9700\n",
            "Epoch 18/100\n",
            "860/860 [==============================] - 3s 4ms/step - loss: 0.0972 - accuracy: 0.9730 - val_loss: 0.1055 - val_accuracy: 0.9716\n",
            "Epoch 19/100\n",
            "860/860 [==============================] - 3s 4ms/step - loss: 0.0931 - accuracy: 0.9741 - val_loss: 0.1021 - val_accuracy: 0.9726\n",
            "Epoch 20/100\n",
            "860/860 [==============================] - 3s 4ms/step - loss: 0.0893 - accuracy: 0.9752 - val_loss: 0.1017 - val_accuracy: 0.9732\n",
            "Epoch 21/100\n",
            "860/860 [==============================] - 3s 4ms/step - loss: 0.0857 - accuracy: 0.9765 - val_loss: 0.0974 - val_accuracy: 0.9724\n",
            "Epoch 22/100\n",
            "860/860 [==============================] - 3s 4ms/step - loss: 0.0822 - accuracy: 0.9775 - val_loss: 0.0940 - val_accuracy: 0.9738\n",
            "Epoch 23/100\n",
            "860/860 [==============================] - 3s 4ms/step - loss: 0.0791 - accuracy: 0.9782 - val_loss: 0.0935 - val_accuracy: 0.9734\n",
            "Epoch 24/100\n",
            "860/860 [==============================] - 3s 4ms/step - loss: 0.0761 - accuracy: 0.9792 - val_loss: 0.0903 - val_accuracy: 0.9734\n",
            "Epoch 25/100\n",
            "860/860 [==============================] - 3s 4ms/step - loss: 0.0733 - accuracy: 0.9799 - val_loss: 0.0904 - val_accuracy: 0.9734\n",
            "Epoch 26/100\n",
            "860/860 [==============================] - 3s 4ms/step - loss: 0.0706 - accuracy: 0.9809 - val_loss: 0.0883 - val_accuracy: 0.9742\n",
            "Epoch 27/100\n",
            "860/860 [==============================] - 3s 4ms/step - loss: 0.0681 - accuracy: 0.9814 - val_loss: 0.0882 - val_accuracy: 0.9732\n",
            "Epoch 28/100\n",
            "860/860 [==============================] - 3s 4ms/step - loss: 0.0655 - accuracy: 0.9820 - val_loss: 0.0853 - val_accuracy: 0.9738\n",
            "Epoch 29/100\n",
            "860/860 [==============================] - 3s 4ms/step - loss: 0.0633 - accuracy: 0.9826 - val_loss: 0.0833 - val_accuracy: 0.9750\n",
            "Epoch 30/100\n",
            "860/860 [==============================] - 3s 4ms/step - loss: 0.0613 - accuracy: 0.9834 - val_loss: 0.0819 - val_accuracy: 0.9762\n",
            "Epoch 31/100\n",
            "860/860 [==============================] - 3s 4ms/step - loss: 0.0590 - accuracy: 0.9841 - val_loss: 0.0807 - val_accuracy: 0.9750\n",
            "Epoch 32/100\n",
            "860/860 [==============================] - 3s 4ms/step - loss: 0.0572 - accuracy: 0.9848 - val_loss: 0.0793 - val_accuracy: 0.9762\n",
            "Epoch 33/100\n",
            "860/860 [==============================] - 4s 4ms/step - loss: 0.0551 - accuracy: 0.9854 - val_loss: 0.0792 - val_accuracy: 0.9764\n",
            "Epoch 34/100\n",
            "860/860 [==============================] - 3s 4ms/step - loss: 0.0532 - accuracy: 0.9859 - val_loss: 0.0776 - val_accuracy: 0.9758\n",
            "Epoch 35/100\n",
            "860/860 [==============================] - 3s 4ms/step - loss: 0.0516 - accuracy: 0.9862 - val_loss: 0.0767 - val_accuracy: 0.9768\n",
            "Epoch 36/100\n",
            "860/860 [==============================] - 3s 4ms/step - loss: 0.0499 - accuracy: 0.9873 - val_loss: 0.0755 - val_accuracy: 0.9776\n",
            "Epoch 37/100\n",
            "860/860 [==============================] - 3s 4ms/step - loss: 0.0483 - accuracy: 0.9876 - val_loss: 0.0754 - val_accuracy: 0.9794\n",
            "Epoch 38/100\n",
            "860/860 [==============================] - 3s 4ms/step - loss: 0.0467 - accuracy: 0.9881 - val_loss: 0.0732 - val_accuracy: 0.9794\n",
            "Epoch 39/100\n",
            "860/860 [==============================] - 3s 4ms/step - loss: 0.0452 - accuracy: 0.9884 - val_loss: 0.0750 - val_accuracy: 0.9770\n",
            "Epoch 40/100\n",
            "860/860 [==============================] - 3s 4ms/step - loss: 0.0437 - accuracy: 0.9890 - val_loss: 0.0746 - val_accuracy: 0.9770\n",
            "Epoch 41/100\n",
            "860/860 [==============================] - 3s 4ms/step - loss: 0.0424 - accuracy: 0.9897 - val_loss: 0.0731 - val_accuracy: 0.9786\n",
            "Epoch 42/100\n",
            "860/860 [==============================] - 3s 4ms/step - loss: 0.0411 - accuracy: 0.9897 - val_loss: 0.0720 - val_accuracy: 0.9790\n",
            "Epoch 43/100\n",
            "860/860 [==============================] - 3s 4ms/step - loss: 0.0399 - accuracy: 0.9901 - val_loss: 0.0722 - val_accuracy: 0.9792\n",
            "Epoch 44/100\n",
            "860/860 [==============================] - 3s 4ms/step - loss: 0.0388 - accuracy: 0.9904 - val_loss: 0.0722 - val_accuracy: 0.9790\n",
            "Epoch 45/100\n",
            "860/860 [==============================] - 3s 4ms/step - loss: 0.0376 - accuracy: 0.9909 - val_loss: 0.0712 - val_accuracy: 0.9804\n",
            "Epoch 46/100\n",
            "860/860 [==============================] - 3s 4ms/step - loss: 0.0363 - accuracy: 0.9913 - val_loss: 0.0695 - val_accuracy: 0.9792\n",
            "Epoch 47/100\n",
            "860/860 [==============================] - 3s 4ms/step - loss: 0.0352 - accuracy: 0.9916 - val_loss: 0.0698 - val_accuracy: 0.9800\n",
            "Epoch 48/100\n",
            "860/860 [==============================] - 3s 4ms/step - loss: 0.0342 - accuracy: 0.9921 - val_loss: 0.0684 - val_accuracy: 0.9802\n",
            "Epoch 49/100\n",
            "860/860 [==============================] - 3s 4ms/step - loss: 0.0333 - accuracy: 0.9920 - val_loss: 0.0727 - val_accuracy: 0.9772\n",
            "Epoch 50/100\n",
            "860/860 [==============================] - 3s 4ms/step - loss: 0.0323 - accuracy: 0.9927 - val_loss: 0.0686 - val_accuracy: 0.9802\n",
            "Epoch 51/100\n",
            "860/860 [==============================] - 4s 4ms/step - loss: 0.0312 - accuracy: 0.9928 - val_loss: 0.0692 - val_accuracy: 0.9802\n",
            "Epoch 52/100\n",
            "860/860 [==============================] - 3s 4ms/step - loss: 0.0302 - accuracy: 0.9933 - val_loss: 0.0686 - val_accuracy: 0.9808\n",
            "Epoch 53/100\n",
            "860/860 [==============================] - 4s 4ms/step - loss: 0.0295 - accuracy: 0.9933 - val_loss: 0.0702 - val_accuracy: 0.9792\n",
            "Epoch 54/100\n",
            "860/860 [==============================] - 4s 4ms/step - loss: 0.0286 - accuracy: 0.9937 - val_loss: 0.0685 - val_accuracy: 0.9804\n",
            "Epoch 55/100\n",
            "860/860 [==============================] - 4s 4ms/step - loss: 0.0277 - accuracy: 0.9941 - val_loss: 0.0679 - val_accuracy: 0.9794\n",
            "Epoch 56/100\n",
            "860/860 [==============================] - 4s 5ms/step - loss: 0.0270 - accuracy: 0.9943 - val_loss: 0.0683 - val_accuracy: 0.9808\n",
            "Epoch 57/100\n",
            "860/860 [==============================] - 4s 5ms/step - loss: 0.0261 - accuracy: 0.9944 - val_loss: 0.0683 - val_accuracy: 0.9788\n",
            "Epoch 58/100\n",
            "860/860 [==============================] - 4s 5ms/step - loss: 0.0254 - accuracy: 0.9949 - val_loss: 0.0659 - val_accuracy: 0.9822\n",
            "Epoch 59/100\n",
            "860/860 [==============================] - 4s 4ms/step - loss: 0.0247 - accuracy: 0.9952 - val_loss: 0.0673 - val_accuracy: 0.9790\n",
            "Epoch 60/100\n",
            "860/860 [==============================] - 4s 4ms/step - loss: 0.0240 - accuracy: 0.9954 - val_loss: 0.0671 - val_accuracy: 0.9804\n",
            "Epoch 61/100\n",
            "860/860 [==============================] - 4s 4ms/step - loss: 0.0234 - accuracy: 0.9954 - val_loss: 0.0663 - val_accuracy: 0.9804\n",
            "Epoch 62/100\n",
            "860/860 [==============================] - 3s 4ms/step - loss: 0.0227 - accuracy: 0.9955 - val_loss: 0.0658 - val_accuracy: 0.9808\n",
            "Epoch 63/100\n",
            "860/860 [==============================] - 3s 4ms/step - loss: 0.0221 - accuracy: 0.9960 - val_loss: 0.0660 - val_accuracy: 0.9814\n",
            "Epoch 64/100\n",
            "860/860 [==============================] - 3s 4ms/step - loss: 0.0215 - accuracy: 0.9961 - val_loss: 0.0663 - val_accuracy: 0.9808\n",
            "Epoch 65/100\n",
            "860/860 [==============================] - 3s 4ms/step - loss: 0.0210 - accuracy: 0.9963 - val_loss: 0.0667 - val_accuracy: 0.9806\n",
            "Epoch 66/100\n",
            "860/860 [==============================] - 3s 4ms/step - loss: 0.0203 - accuracy: 0.9963 - val_loss: 0.0664 - val_accuracy: 0.9804\n",
            "Epoch 67/100\n",
            "860/860 [==============================] - 4s 4ms/step - loss: 0.0198 - accuracy: 0.9967 - val_loss: 0.0662 - val_accuracy: 0.9808\n",
            "Epoch 68/100\n",
            "860/860 [==============================] - 4s 4ms/step - loss: 0.0193 - accuracy: 0.9968 - val_loss: 0.0664 - val_accuracy: 0.9804\n",
            "Epoch 69/100\n",
            "860/860 [==============================] - 3s 4ms/step - loss: 0.0188 - accuracy: 0.9969 - val_loss: 0.0654 - val_accuracy: 0.9814\n",
            "Epoch 70/100\n",
            "860/860 [==============================] - 3s 4ms/step - loss: 0.0182 - accuracy: 0.9973 - val_loss: 0.0658 - val_accuracy: 0.9814\n",
            "Epoch 71/100\n",
            "860/860 [==============================] - 3s 4ms/step - loss: 0.0178 - accuracy: 0.9973 - val_loss: 0.0664 - val_accuracy: 0.9802\n",
            "Epoch 72/100\n",
            "860/860 [==============================] - 3s 4ms/step - loss: 0.0173 - accuracy: 0.9974 - val_loss: 0.0666 - val_accuracy: 0.9810\n",
            "Epoch 73/100\n",
            "860/860 [==============================] - 3s 4ms/step - loss: 0.0169 - accuracy: 0.9975 - val_loss: 0.0661 - val_accuracy: 0.9802\n",
            "Epoch 74/100\n",
            "860/860 [==============================] - 4s 4ms/step - loss: 0.0165 - accuracy: 0.9976 - val_loss: 0.0649 - val_accuracy: 0.9802\n",
            "Epoch 75/100\n",
            "860/860 [==============================] - 4s 4ms/step - loss: 0.0160 - accuracy: 0.9977 - val_loss: 0.0665 - val_accuracy: 0.9804\n",
            "Epoch 76/100\n",
            "860/860 [==============================] - 4s 4ms/step - loss: 0.0156 - accuracy: 0.9980 - val_loss: 0.0655 - val_accuracy: 0.9818\n",
            "Epoch 77/100\n",
            "860/860 [==============================] - 3s 4ms/step - loss: 0.0152 - accuracy: 0.9980 - val_loss: 0.0664 - val_accuracy: 0.9820\n",
            "Epoch 78/100\n",
            "860/860 [==============================] - 3s 4ms/step - loss: 0.0148 - accuracy: 0.9982 - val_loss: 0.0665 - val_accuracy: 0.9804\n",
            "Epoch 79/100\n",
            "860/860 [==============================] - 3s 4ms/step - loss: 0.0145 - accuracy: 0.9983 - val_loss: 0.0668 - val_accuracy: 0.9806\n",
            "Epoch 80/100\n",
            "860/860 [==============================] - 3s 4ms/step - loss: 0.0141 - accuracy: 0.9983 - val_loss: 0.0671 - val_accuracy: 0.9806\n",
            "Epoch 81/100\n",
            "860/860 [==============================] - 3s 4ms/step - loss: 0.0137 - accuracy: 0.9985 - val_loss: 0.0659 - val_accuracy: 0.9810\n",
            "Epoch 82/100\n",
            "860/860 [==============================] - 3s 4ms/step - loss: 0.0134 - accuracy: 0.9985 - val_loss: 0.0669 - val_accuracy: 0.9816\n",
            "Epoch 83/100\n",
            "860/860 [==============================] - 4s 4ms/step - loss: 0.0131 - accuracy: 0.9986 - val_loss: 0.0658 - val_accuracy: 0.9810\n",
            "Epoch 84/100\n",
            "860/860 [==============================] - 4s 5ms/step - loss: 0.0128 - accuracy: 0.9987 - val_loss: 0.0669 - val_accuracy: 0.9802\n",
            "Epoch 85/100\n",
            "860/860 [==============================] - 5s 6ms/step - loss: 0.0124 - accuracy: 0.9987 - val_loss: 0.0659 - val_accuracy: 0.9804\n",
            "Epoch 86/100\n",
            "860/860 [==============================] - 4s 4ms/step - loss: 0.0122 - accuracy: 0.9987 - val_loss: 0.0676 - val_accuracy: 0.9798\n",
            "Epoch 87/100\n",
            "860/860 [==============================] - 3s 4ms/step - loss: 0.0119 - accuracy: 0.9988 - val_loss: 0.0675 - val_accuracy: 0.9796\n",
            "Epoch 88/100\n",
            "860/860 [==============================] - 3s 4ms/step - loss: 0.0116 - accuracy: 0.9989 - val_loss: 0.0663 - val_accuracy: 0.9810\n",
            "Epoch 89/100\n",
            "860/860 [==============================] - 3s 4ms/step - loss: 0.0113 - accuracy: 0.9990 - val_loss: 0.0671 - val_accuracy: 0.9808\n",
            "Epoch 90/100\n",
            "860/860 [==============================] - 4s 4ms/step - loss: 0.0111 - accuracy: 0.9989 - val_loss: 0.0676 - val_accuracy: 0.9802\n",
            "Epoch 91/100\n",
            "860/860 [==============================] - 4s 4ms/step - loss: 0.0108 - accuracy: 0.9990 - val_loss: 0.0670 - val_accuracy: 0.9810\n",
            "Epoch 92/100\n",
            "860/860 [==============================] - 4s 4ms/step - loss: 0.0106 - accuracy: 0.9990 - val_loss: 0.0663 - val_accuracy: 0.9814\n",
            "Epoch 93/100\n",
            "860/860 [==============================] - 3s 4ms/step - loss: 0.0103 - accuracy: 0.9992 - val_loss: 0.0662 - val_accuracy: 0.9820\n",
            "Epoch 94/100\n",
            "860/860 [==============================] - 3s 4ms/step - loss: 0.0101 - accuracy: 0.9991 - val_loss: 0.0667 - val_accuracy: 0.9822\n",
            "Epoch 95/100\n",
            "860/860 [==============================] - 3s 4ms/step - loss: 0.0099 - accuracy: 0.9991 - val_loss: 0.0660 - val_accuracy: 0.9814\n",
            "Epoch 96/100\n",
            "860/860 [==============================] - 3s 4ms/step - loss: 0.0096 - accuracy: 0.9992 - val_loss: 0.0669 - val_accuracy: 0.9814\n",
            "Epoch 97/100\n",
            "860/860 [==============================] - 4s 4ms/step - loss: 0.0095 - accuracy: 0.9992 - val_loss: 0.0672 - val_accuracy: 0.9822\n",
            "Epoch 98/100\n",
            "860/860 [==============================] - 4s 5ms/step - loss: 0.0092 - accuracy: 0.9993 - val_loss: 0.0662 - val_accuracy: 0.9810\n",
            "Epoch 99/100\n",
            "860/860 [==============================] - 3s 4ms/step - loss: 0.0090 - accuracy: 0.9993 - val_loss: 0.0666 - val_accuracy: 0.9824\n",
            "Epoch 100/100\n",
            "860/860 [==============================] - 4s 4ms/step - loss: 0.0088 - accuracy: 0.9993 - val_loss: 0.0666 - val_accuracy: 0.9824\n"
          ],
          "name": "stdout"
        }
      ]
    },
    {
      "cell_type": "code",
      "metadata": {
        "id": "fYpUEslPwWWW",
        "outputId": "6e29bbca-7d0a-4685-84c9-9829405c9f39",
        "colab": {
          "base_uri": "https://localhost:8080/",
          "height": 328
        }
      },
      "source": [
        "pd.DataFrame(historycifar10.history).plot(figsize=(8, 5))\n",
        "plt.grid(True)\n",
        "plt.gca().set_ylim(0, 1)\n",
        "plt.show()"
      ],
      "execution_count": 154,
      "outputs": [
        {
          "output_type": "display_data",
          "data": {
            "image/png": "[encoded data removed]",
            "text/plain": [
              "<Figure size 576x360 with 1 Axes>"
            ]
          },
          "metadata": {
            "tags": [],
            "needs_background": "light"
          }
        }
      ]
    },
    {
      "cell_type": "code",
      "metadata": {
        "id": "D3XV93C_wWP6"
      },
      "source": [
        ""
      ],
      "execution_count": null,
      "outputs": []
    },
    {
      "cell_type": "code",
      "metadata": {
        "id": "JPG3yM4HwWMv"
      },
      "source": [
        ""
      ],
      "execution_count": null,
      "outputs": []
    },
    {
      "cell_type": "code",
      "metadata": {
        "id": "rFEKcOVk5NX_"
      },
      "source": [
        "#using diffrent dataset\n",
        "#boston_housing dataset\n",
        "boston_housing = keras.datasets.boston_housing\n",
        "\n",
        "(Xh_train, yh_train), (Xh_test, yh_test) = boston_housing.load_data()"
      ],
      "execution_count": 119,
      "outputs": []
    },
    {
      "cell_type": "code",
      "metadata": {
        "id": "1B9nPneQaNWv",
        "outputId": "4c4ec434-35ae-409a-c3ee-1d4a782a68da",
        "colab": {
          "base_uri": "https://localhost:8080/"
        }
      },
      "source": [
        "print(Xh_train[0], yh_train[0])"
      ],
      "execution_count": 120,
      "outputs": [
        {
          "output_type": "stream",
          "text": [
            "[  1.23247   0.        8.14      0.        0.538     6.142    91.7\n",
            "   3.9769    4.      307.       21.      396.9      18.72   ] 15.2\n"
          ],
          "name": "stdout"
        }
      ]
    },
    {
      "cell_type": "code",
      "metadata": {
        "id": "wgTnuOe6-hW8",
        "colab": {
          "base_uri": "https://localhost:8080/"
        },
        "outputId": "b378d1ac-0963-41a5-cc36-f0e92ccd6210"
      },
      "source": [
        "Xh_train.shape"
      ],
      "execution_count": 121,
      "outputs": [
        {
          "output_type": "execute_result",
          "data": {
            "text/plain": [
              "(404, 13)"
            ]
          },
          "metadata": {
            "tags": []
          },
          "execution_count": 121
        }
      ]
    },
    {
      "cell_type": "code",
      "metadata": {
        "id": "5zsPqRRz_MHj",
        "colab": {
          "base_uri": "https://localhost:8080/"
        },
        "outputId": "43596ec2-5a53-41c4-8bb1-534a8337e2e4"
      },
      "source": [
        "Xh_train.dtype"
      ],
      "execution_count": 122,
      "outputs": [
        {
          "output_type": "execute_result",
          "data": {
            "text/plain": [
              "dtype('float64')"
            ]
          },
          "metadata": {
            "tags": []
          },
          "execution_count": 122
        }
      ]
    },
    {
      "cell_type": "code",
      "metadata": {
        "id": "glocZcslcQGU",
        "outputId": "bc68a520-1619-4dce-fce5-d3a3fde16903",
        "colab": {
          "base_uri": "https://localhost:8080/"
        }
      },
      "source": [
        "from sklearn.preprocessing import StandardScaler\n",
        "scaler = StandardScaler()\n",
        "scaler.fit(Xh_train)\n",
        "Xh_train_scaled = scaler.transform(Xh_train)\n",
        "Xh_test_scaled = scaler.transform(Xh_test)\n",
        "\n",
        "print(Xh_train_scaled[0])\n",
        "\n"
      ],
      "execution_count": 126,
      "outputs": [
        {
          "output_type": "stream",
          "text": [
            "[-0.27224633 -0.48361547 -0.43576161 -0.25683275 -0.1652266  -0.1764426\n",
            "  0.81306188  0.1166983  -0.62624905 -0.59517003  1.14850044  0.44807713\n",
            "  0.8252202 ]\n"
          ],
          "name": "stdout"
        }
      ]
    },
    {
      "cell_type": "code",
      "metadata": {
        "id": "BBwW6d5de8GF"
      },
      "source": [
        "modelhpricing = keras.models.Sequential()\n",
        "modelhpricing.add( keras.layers.Dense(64, activation='relu', input_shape=[Xh_train_scaled.shape[1]]))\n",
        "modelhpricing.add( keras.layers.Dense(64, activation='relu'))\n",
        "modelhpricing.add( keras.layers.Dense(64, activation='relu'))\n",
        "modelhpricing.add( keras.layers.Dense(1))\n"
      ],
      "execution_count": 127,
      "outputs": []
    },
    {
      "cell_type": "code",
      "metadata": {
        "id": "5C2nAXcpmJtx",
        "outputId": "512ea87b-0a51-4f4c-95c9-18c6dfa58c39",
        "colab": {
          "base_uri": "https://localhost:8080/"
        }
      },
      "source": [
        "\n",
        "modelhpricing.summary()"
      ],
      "execution_count": 128,
      "outputs": [
        {
          "output_type": "stream",
          "text": [
            "Model: \"sequential_10\"\n",
            "_________________________________________________________________\n",
            "Layer (type)                 Output Shape              Param #   \n",
            "=================================================================\n",
            "dense_32 (Dense)             (None, 64)                896       \n",
            "_________________________________________________________________\n",
            "dense_33 (Dense)             (None, 64)                4160      \n",
            "_________________________________________________________________\n",
            "dense_34 (Dense)             (None, 64)                4160      \n",
            "_________________________________________________________________\n",
            "dense_35 (Dense)             (None, 1)                 65        \n",
            "=================================================================\n",
            "Total params: 9,281\n",
            "Trainable params: 9,281\n",
            "Non-trainable params: 0\n",
            "_________________________________________________________________\n"
          ],
          "name": "stdout"
        }
      ]
    }
  ]
}